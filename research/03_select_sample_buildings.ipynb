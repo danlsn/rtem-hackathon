{
 "cells": [
  {
   "cell_type": "markdown",
   "source": [
    "# 03: Selecting Sample Buildings | RTEM Hackathon\n",
    "\n",
    "For the purposes of an application that pairs NYISO data with real-time energy usage data, let's select 3 buildings\n",
    "to focus on. To cover a cross-section of different types, let's select one of each of; a multifamily building, a\n",
    "hospitality building, and a commercial office space.\n",
    "\n",
    "Although it may be worth considering a College/University or Retail\n",
    "\n",
    "- Hospitality Building: Building 426 (480 W 42nd St Signature Theater)\n",
    "- Commercial Office Building: Building 440 or 112? or 217?\n",
    "- Multi-family Building: Building 100? 154? 373? 442?\n",
    "- Retail Building: Building 134? 316?"
   ],
   "metadata": {
    "collapsed": false
   }
  },
  {
   "cell_type": "markdown",
   "source": [
    "## Hospitality Buildings\n",
    "**Building 426** is the natural choice due to its extensive use of Smart Electrical meters, offering insight into\n",
    "energy usage."
   ],
   "metadata": {
    "collapsed": false
   }
  },
  {
   "cell_type": "code",
   "execution_count": null,
   "metadata": {
    "collapsed": true
   },
   "outputs": [],
   "source": []
  },
  {
   "cell_type": "markdown",
   "source": [
    "## Commercial Office Buildings\n",
    "After looking through the dataset available, there are a few buildings that stand out.\n",
    "- Building 440: \"93400\"\n",
    "- Building 112: \"92894\" *\n",
    "- Building 217: \"130079\""
   ],
   "metadata": {
    "collapsed": false
   }
  },
  {
   "cell_type": "code",
   "execution_count": null,
   "outputs": [],
   "source": [],
   "metadata": {
    "collapsed": false,
    "pycharm": {
     "name": "#%%\n"
    }
   }
  },
  {
   "cell_type": "markdown",
   "source": [
    "## Multi-family Buildings\n",
    "After looking through the dataset available, there are a few buildings that stand out.\n",
    "- Building 100:\n",
    "- Building 154:\n",
    "- Building 373:\n",
    "- Building 442:"
   ],
   "metadata": {
    "collapsed": false
   }
  },
  {
   "cell_type": "code",
   "execution_count": null,
   "outputs": [],
   "source": [],
   "metadata": {
    "collapsed": false,
    "pycharm": {
     "name": "#%%\n"
    }
   }
  },
  {
   "cell_type": "markdown",
   "source": [
    "## Retail Buildings\n",
    "After looking through the dataset available, there are a few buildings that stand out.\n",
    "- Building 134:\n",
    "- Building 316:"
   ],
   "metadata": {
    "collapsed": false
   }
  },
  {
   "cell_type": "code",
   "execution_count": null,
   "outputs": [],
   "source": [],
   "metadata": {
    "collapsed": false,
    "pycharm": {
     "name": "#%%\n"
    }
   }
  }
 ],
 "metadata": {
  "kernelspec": {
   "display_name": "Python 3",
   "language": "python",
   "name": "python3"
  },
  "language_info": {
   "codemirror_mode": {
    "name": "ipython",
    "version": 2
   },
   "file_extension": ".py",
   "mimetype": "text/x-python",
   "name": "python",
   "nbconvert_exporter": "python",
   "pygments_lexer": "ipython2",
   "version": "2.7.6"
  }
 },
 "nbformat": 4,
 "nbformat_minor": 0
}
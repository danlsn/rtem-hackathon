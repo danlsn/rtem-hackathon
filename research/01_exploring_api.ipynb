{
 "cells": [
  {
   "cell_type": "markdown",
   "metadata": {},
   "source": [
    "# 01: Exploring the API | RTEM Hackathon"
   ]
  },
  {
   "cell_type": "markdown",
   "source": [
    "## Import Packages\n",
    "Let's start by importing the stuff we need.\n",
    "This includes packages to work with JSON data, as well as the Onboard Client"
   ],
   "metadata": {
    "collapsed": false
   }
  },
  {
   "cell_type": "code",
   "execution_count": 2,
   "metadata": {
    "pycharm": {
     "name": "#%%\n"
    }
   },
   "outputs": [],
   "source": [
    "# Import the packages we need to do our analysis\n",
    "import json\n",
    "\n",
    "import pandas as pd\n",
    "from onboard.client import RtemClient"
   ]
  },
  {
   "cell_type": "markdown",
   "metadata": {},
   "source": [
    "## Be Safe With Your Creds\n",
    "Just because this is a Hackathon and a personal project doesn't mean we get to flippantly broadcast our API Keys to\n",
    "the world. I want to publish this code to GitHub so let's be responsible and import our keys using configparser."
   ]
  },
  {
   "cell_type": "code",
   "execution_count": 3,
   "metadata": {
    "pycharm": {
     "name": "#%%\n"
    }
   },
   "outputs": [],
   "source": [
    "# Load API Key using configparser\n",
    "import configparser\n",
    "\n",
    "config = configparser.ConfigParser()\n",
    "config.read('../config.ini')\n",
    "api_key = config['DEFAULT']['API_KEY']"
   ]
  },
  {
   "cell_type": "markdown",
   "metadata": {},
   "source": [
    "## Initialise the Onboard Client\n",
    "Then check to see if it's working properly."
   ]
  },
  {
   "cell_type": "code",
   "execution_count": 4,
   "metadata": {
    "pycharm": {
     "name": "#%%\n"
    }
   },
   "outputs": [
    {
     "name": "stdout",
     "output_type": "stream",
     "text": [
      "\n",
      "    Result: OK\n",
      "    Scope: ['buildings:read', 'general', 'auth']\n",
      "    Version: 2022-04-14\n",
      "    User: Daniel Lawson\n",
      "    Org: RTEM Submission\n",
      "\n"
     ]
    }
   ],
   "source": [
    "# Initialise Onboard Client\n",
    "client = RtemClient(api_key=api_key)\n",
    "\n",
    "# Check that everything is in order\n",
    "whoami = client.whoami()\n",
    "print(f\"\"\"\n",
    "    Result: {whoami['result'].upper()}\n",
    "    Scope: {whoami['apiKeyScopes']}\n",
    "    Version: {whoami['apiVersion']}\n",
    "    User: {whoami['userInfo']['full_name']}\n",
    "    Org: {whoami['userInfo']['org_short_name']}\n",
    "\"\"\")"
   ]
  },
  {
   "cell_type": "markdown",
   "metadata": {},
   "source": [
    "## Get Information About the Buildings\n"
   ]
  },
  {
   "cell_type": "code",
   "execution_count": 20,
   "metadata": {
    "pycharm": {
     "name": "#%%\n"
    }
   },
   "outputs": [
    {
     "data": {
      "text/plain": "     org_id    name address     sq_ft image_src bms_manufacturer  \\\nid                                                                 \n441       5   88737    None  551143.0      None             None   \n140       5   83483    None   21869.0      None             None   \n191       5   94414    None  198057.0      None             None   \n231       5   89496    None       NaN      None             None   \n248       5  116742    None  127000.0      None             None   \n..      ...     ...     ...       ...       ...              ...   \n353       5   94413    None  198057.0      None             None   \n370       5   95457    None  421316.0      None             None   \n383       5   79528    None   75000.0      None             None   \n398       5  109188    None  860000.0      None             None   \n399       5   97151    None  140400.0      None             None   \n\n    bms_product_name bms_version          timezone status  ...  info.sunend  \\\nid                                                         ...                \n441             None        None  America/New_York   LIVE  ...                \n140             None        None  America/New_York   LIVE  ...                \n191             None        None  America/New_York   LIVE  ...        23:00   \n231             None        None  America/New_York   LIVE  ...                \n248             None        None  America/New_York   LIVE  ...                \n..               ...         ...               ...    ...  ...          ...   \n353             None        None  America/New_York   LIVE  ...        23:00   \n370             None        None  America/New_York   LIVE  ...                \n383             None        None  America/New_York   LIVE  ...          NaN   \n398             None        None  America/New_York   LIVE  ...                \n399             None        None  America/New_York   LIVE  ...                \n\n     info.geoCity info.geoState info.m2fstart info.satstart info.sunstart  \\\nid                                                                          \n441         Bronx            NY                                             \n140      New York            NY                                             \n191        Victor            NY         07:30         07:30         07:30   \n231      New York            NY                                             \n248      New York            NY                                             \n..            ...           ...           ...           ...           ...   \n353     Henrietta            NY         07:30         07:30         07:30   \n370      New York            NY                                             \n383      Purchase      New York      04:00:00           NaN           NaN   \n398      New York            NY                                             \n399      New York            NY                                             \n\n    info.yearBuilt info.geoCountry info.weatherRef  info.customerType  \nid                                                                     \n441                             US                        Multifamily  \n140                             US                  Commercial Office  \n191                             US                  Commercial Retail  \n231                             US                                     \n248                             US                        Multifamily  \n..             ...             ...             ...                ...  \n353                             US                  Commercial Retail  \n370                             US                        Hospitality  \n383           1971              US             NaN  Commercial Office  \n398                             US                  Commercial Office  \n399                             US                  Commercial Office  \n\n[229 rows x 26 columns]",
      "text/html": "<div>\n<style scoped>\n    .dataframe tbody tr th:only-of-type {\n        vertical-align: middle;\n    }\n\n    .dataframe tbody tr th {\n        vertical-align: top;\n    }\n\n    .dataframe thead th {\n        text-align: right;\n    }\n</style>\n<table border=\"1\" class=\"dataframe\">\n  <thead>\n    <tr style=\"text-align: right;\">\n      <th></th>\n      <th>org_id</th>\n      <th>name</th>\n      <th>address</th>\n      <th>sq_ft</th>\n      <th>image_src</th>\n      <th>bms_manufacturer</th>\n      <th>bms_product_name</th>\n      <th>bms_version</th>\n      <th>timezone</th>\n      <th>status</th>\n      <th>...</th>\n      <th>info.sunend</th>\n      <th>info.geoCity</th>\n      <th>info.geoState</th>\n      <th>info.m2fstart</th>\n      <th>info.satstart</th>\n      <th>info.sunstart</th>\n      <th>info.yearBuilt</th>\n      <th>info.geoCountry</th>\n      <th>info.weatherRef</th>\n      <th>info.customerType</th>\n    </tr>\n    <tr>\n      <th>id</th>\n      <th></th>\n      <th></th>\n      <th></th>\n      <th></th>\n      <th></th>\n      <th></th>\n      <th></th>\n      <th></th>\n      <th></th>\n      <th></th>\n      <th></th>\n      <th></th>\n      <th></th>\n      <th></th>\n      <th></th>\n      <th></th>\n      <th></th>\n      <th></th>\n      <th></th>\n      <th></th>\n      <th></th>\n    </tr>\n  </thead>\n  <tbody>\n    <tr>\n      <th>441</th>\n      <td>5</td>\n      <td>88737</td>\n      <td>None</td>\n      <td>551143.0</td>\n      <td>None</td>\n      <td>None</td>\n      <td>None</td>\n      <td>None</td>\n      <td>America/New_York</td>\n      <td>LIVE</td>\n      <td>...</td>\n      <td></td>\n      <td>Bronx</td>\n      <td>NY</td>\n      <td></td>\n      <td></td>\n      <td></td>\n      <td></td>\n      <td>US</td>\n      <td></td>\n      <td>Multifamily</td>\n    </tr>\n    <tr>\n      <th>140</th>\n      <td>5</td>\n      <td>83483</td>\n      <td>None</td>\n      <td>21869.0</td>\n      <td>None</td>\n      <td>None</td>\n      <td>None</td>\n      <td>None</td>\n      <td>America/New_York</td>\n      <td>LIVE</td>\n      <td>...</td>\n      <td></td>\n      <td>New York</td>\n      <td>NY</td>\n      <td></td>\n      <td></td>\n      <td></td>\n      <td></td>\n      <td>US</td>\n      <td></td>\n      <td>Commercial Office</td>\n    </tr>\n    <tr>\n      <th>191</th>\n      <td>5</td>\n      <td>94414</td>\n      <td>None</td>\n      <td>198057.0</td>\n      <td>None</td>\n      <td>None</td>\n      <td>None</td>\n      <td>None</td>\n      <td>America/New_York</td>\n      <td>LIVE</td>\n      <td>...</td>\n      <td>23:00</td>\n      <td>Victor</td>\n      <td>NY</td>\n      <td>07:30</td>\n      <td>07:30</td>\n      <td>07:30</td>\n      <td></td>\n      <td>US</td>\n      <td></td>\n      <td>Commercial Retail</td>\n    </tr>\n    <tr>\n      <th>231</th>\n      <td>5</td>\n      <td>89496</td>\n      <td>None</td>\n      <td>NaN</td>\n      <td>None</td>\n      <td>None</td>\n      <td>None</td>\n      <td>None</td>\n      <td>America/New_York</td>\n      <td>LIVE</td>\n      <td>...</td>\n      <td></td>\n      <td>New York</td>\n      <td>NY</td>\n      <td></td>\n      <td></td>\n      <td></td>\n      <td></td>\n      <td>US</td>\n      <td></td>\n      <td></td>\n    </tr>\n    <tr>\n      <th>248</th>\n      <td>5</td>\n      <td>116742</td>\n      <td>None</td>\n      <td>127000.0</td>\n      <td>None</td>\n      <td>None</td>\n      <td>None</td>\n      <td>None</td>\n      <td>America/New_York</td>\n      <td>LIVE</td>\n      <td>...</td>\n      <td></td>\n      <td>New York</td>\n      <td>NY</td>\n      <td></td>\n      <td></td>\n      <td></td>\n      <td></td>\n      <td>US</td>\n      <td></td>\n      <td>Multifamily</td>\n    </tr>\n    <tr>\n      <th>...</th>\n      <td>...</td>\n      <td>...</td>\n      <td>...</td>\n      <td>...</td>\n      <td>...</td>\n      <td>...</td>\n      <td>...</td>\n      <td>...</td>\n      <td>...</td>\n      <td>...</td>\n      <td>...</td>\n      <td>...</td>\n      <td>...</td>\n      <td>...</td>\n      <td>...</td>\n      <td>...</td>\n      <td>...</td>\n      <td>...</td>\n      <td>...</td>\n      <td>...</td>\n      <td>...</td>\n    </tr>\n    <tr>\n      <th>353</th>\n      <td>5</td>\n      <td>94413</td>\n      <td>None</td>\n      <td>198057.0</td>\n      <td>None</td>\n      <td>None</td>\n      <td>None</td>\n      <td>None</td>\n      <td>America/New_York</td>\n      <td>LIVE</td>\n      <td>...</td>\n      <td>23:00</td>\n      <td>Henrietta</td>\n      <td>NY</td>\n      <td>07:30</td>\n      <td>07:30</td>\n      <td>07:30</td>\n      <td></td>\n      <td>US</td>\n      <td></td>\n      <td>Commercial Retail</td>\n    </tr>\n    <tr>\n      <th>370</th>\n      <td>5</td>\n      <td>95457</td>\n      <td>None</td>\n      <td>421316.0</td>\n      <td>None</td>\n      <td>None</td>\n      <td>None</td>\n      <td>None</td>\n      <td>America/New_York</td>\n      <td>LIVE</td>\n      <td>...</td>\n      <td></td>\n      <td>New York</td>\n      <td>NY</td>\n      <td></td>\n      <td></td>\n      <td></td>\n      <td></td>\n      <td>US</td>\n      <td></td>\n      <td>Hospitality</td>\n    </tr>\n    <tr>\n      <th>383</th>\n      <td>5</td>\n      <td>79528</td>\n      <td>None</td>\n      <td>75000.0</td>\n      <td>None</td>\n      <td>None</td>\n      <td>None</td>\n      <td>None</td>\n      <td>America/New_York</td>\n      <td>LIVE</td>\n      <td>...</td>\n      <td>NaN</td>\n      <td>Purchase</td>\n      <td>New York</td>\n      <td>04:00:00</td>\n      <td>NaN</td>\n      <td>NaN</td>\n      <td>1971</td>\n      <td>US</td>\n      <td>NaN</td>\n      <td>Commercial Office</td>\n    </tr>\n    <tr>\n      <th>398</th>\n      <td>5</td>\n      <td>109188</td>\n      <td>None</td>\n      <td>860000.0</td>\n      <td>None</td>\n      <td>None</td>\n      <td>None</td>\n      <td>None</td>\n      <td>America/New_York</td>\n      <td>LIVE</td>\n      <td>...</td>\n      <td></td>\n      <td>New York</td>\n      <td>NY</td>\n      <td></td>\n      <td></td>\n      <td></td>\n      <td></td>\n      <td>US</td>\n      <td></td>\n      <td>Commercial Office</td>\n    </tr>\n    <tr>\n      <th>399</th>\n      <td>5</td>\n      <td>97151</td>\n      <td>None</td>\n      <td>140400.0</td>\n      <td>None</td>\n      <td>None</td>\n      <td>None</td>\n      <td>None</td>\n      <td>America/New_York</td>\n      <td>LIVE</td>\n      <td>...</td>\n      <td></td>\n      <td>New York</td>\n      <td>NY</td>\n      <td></td>\n      <td></td>\n      <td></td>\n      <td></td>\n      <td>US</td>\n      <td></td>\n      <td>Commercial Office</td>\n    </tr>\n  </tbody>\n</table>\n<p>229 rows × 26 columns</p>\n</div>"
     },
     "execution_count": 20,
     "metadata": {},
     "output_type": "execute_result"
    }
   ],
   "source": [
    "# Create a DataFrame with all buildings\n",
    "all_buildings = pd.json_normalize(client.get_all_buildings()).set_index('id')\n",
    "all_buildings"
   ]
  },
  {
   "cell_type": "markdown",
   "metadata": {},
   "source": [
    "### What Kind of Buildings Are There?\n",
    "There are several different types of buildings that participate in the RTEM Program."
   ]
  },
  {
   "cell_type": "code",
   "execution_count": 6,
   "metadata": {
    "pycharm": {
     "name": "#%%\n"
    }
   },
   "outputs": [
    {
     "data": {
      "text/plain": [
       "building_type     \n",
       "Multifamily           69\n",
       "Commercial Retail     49\n",
       "Commercial Office     46\n",
       "Healthcare            16\n",
       "Food/Beverage         13\n",
       "K-12 School            9\n",
       "College/University     7\n",
       "Hospitality            7\n",
       "Not For Profit         5\n",
       "                       3\n",
       "Chemicals              1\n",
       "Manufacturing          1\n",
       "dtype: int64"
      ]
     },
     "execution_count": 6,
     "metadata": {},
     "output_type": "execute_result"
    }
   ],
   "source": [
    "# Get Building Types to DataFrame\n",
    "building_types = all_buildings[['info.customerType']].rename(columns={'info.customerType': 'building_type'})\n",
    "# Copy DataFrame to the Clipboard for README.md\n",
    "pd.io.clipboards.to_clipboard(building_types.value_counts().to_markdown(), excel=False)\n",
    "building_types.value_counts()"
   ]
  },
  {
   "cell_type": "code",
   "execution_count": 7,
   "metadata": {
    "pycharm": {
     "name": "#%%\n"
    }
   },
   "outputs": [
    {
     "name": "stdout",
     "output_type": "stream",
     "text": [
      "<class 'pandas.core.frame.DataFrame'>\n",
      "RangeIndex: 229 entries, 0 to 228\n",
      "Data columns (total 27 columns):\n",
      " #   Column             Non-Null Count  Dtype  \n",
      "---  ------             --------------  -----  \n",
      " 0   id                 229 non-null    int64  \n",
      " 1   org_id             229 non-null    int64  \n",
      " 2   name               229 non-null    object \n",
      " 3   address            0 non-null      object \n",
      " 4   sq_ft              201 non-null    float64\n",
      " 5   image_src          0 non-null      object \n",
      " 6   bms_manufacturer   0 non-null      object \n",
      " 7   bms_product_name   0 non-null      object \n",
      " 8   bms_version        0 non-null      object \n",
      " 9   timezone           229 non-null    object \n",
      " 10  status             229 non-null    object \n",
      " 11  equip_count        229 non-null    int64  \n",
      " 12  point_count        229 non-null    int64  \n",
      " 13  info.org           224 non-null    object \n",
      " 14  info.floors        224 non-null    object \n",
      " 15  info.m2fend        224 non-null    object \n",
      " 16  info.satend        223 non-null    object \n",
      " 17  info.sunend        223 non-null    object \n",
      " 18  info.geoCity       226 non-null    object \n",
      " 19  info.geoState      226 non-null    object \n",
      " 20  info.m2fstart      224 non-null    object \n",
      " 21  info.satstart      223 non-null    object \n",
      " 22  info.sunstart      223 non-null    object \n",
      " 23  info.yearBuilt     224 non-null    object \n",
      " 24  info.geoCountry    226 non-null    object \n",
      " 25  info.weatherRef    223 non-null    object \n",
      " 26  info.customerType  226 non-null    object \n",
      "dtypes: float64(1), int64(4), object(22)\n",
      "memory usage: 48.4+ KB\n"
     ]
    }
   ],
   "source": [
    "all_buildings.info()"
   ]
  },
  {
   "cell_type": "code",
   "execution_count": 19,
   "metadata": {
    "pycharm": {
     "name": "#%%\n"
    }
   },
   "outputs": [
    {
     "data": {
      "text/plain": "                  name_long name_abbr   data_type  raw_encoding  \\\nid                                                                \n23                  Unknown         ?        None           NaN   \n21                   Enable    Enable      Binary           NaN   \n22            Heat/Cool/Off     H/C/O        Enum           NaN   \n31            Ordinal Value   Ordinal     Ordinal           NaN   \n34                   Ampere         A  Continuous           NaN   \n..                      ...       ...         ...           ...   \n83       Normal Cubic Meter       nm3  Continuous           NaN   \n84     Standard Cubic Meter       SCM  Continuous           NaN   \n85      Standard Cubic Foot      SFt3  Continuous           NaN   \n86  Kilojoules per Kilogram     kJ/kg  Continuous           NaN   \n87                    Pulse     pulse  Continuous           NaN   \n\n    display_encoding                                         qudt  \\\nid                                                                  \n23               NaN                                         None   \n21               NaN                                         None   \n22               NaN                                         None   \n31               NaN                                         None   \n34               NaN                 http://qudt.org/vocab/unit/A   \n..               ...                                          ...   \n83               NaN       http://qudt.org/vocab/unit/NM3-NAT-GAS   \n84               NaN       http://qudt.org/vocab/unit/SCM-NAT-GAS   \n85               NaN      http://qudt.org/vocab/unit/SFT3-NAT-GAS   \n86               NaN  http://qudt.org/vocab/unit/KiloJ-PER-KiloGM   \n87               NaN               http://qudt.org/vocab/unit/NUM   \n\n                                            unit_type raw_encoding.0  \\\nid                                                                     \n23                                               None            NaN   \n21                                               None      [disable]   \n22                                               None          [off]   \n31                                               None            NaN   \n34  http://qudt.org/vocab/quantitykind/ElectricCur...            NaN   \n..                                                ...            ...   \n83          http://qudt.org/vocab/quantitykind/Energy            NaN   \n84          http://qudt.org/vocab/quantitykind/Energy            NaN   \n85          http://qudt.org/vocab/quantitykind/Energy            NaN   \n86  http://qudt.org/vocab/quantitykind/SpecificEnergy            NaN   \n87   http://qudt.org/vocab/quantitykind/Dimensionless            NaN   \n\n   raw_encoding.1 display_encoding.0 display_encoding.1 raw_encoding.2  \\\nid                                                                       \n23            NaN                NaN                NaN            NaN   \n21       [enable]            Disable             Enable            NaN   \n22         [heat]                Off               Heat         [cool]   \n31            NaN                NaN                NaN            NaN   \n34            NaN                NaN                NaN            NaN   \n..            ...                ...                ...            ...   \n83            NaN                NaN                NaN            NaN   \n84            NaN                NaN                NaN            NaN   \n85            NaN                NaN                NaN            NaN   \n86            NaN                NaN                NaN            NaN   \n87            NaN                NaN                NaN            NaN   \n\n   display_encoding.2  \nid                     \n23                NaN  \n21                NaN  \n22                Off  \n31                NaN  \n34                NaN  \n..                ...  \n83                NaN  \n84                NaN  \n85                NaN  \n86                NaN  \n87                NaN  \n\n[80 rows x 13 columns]",
      "text/html": "<div>\n<style scoped>\n    .dataframe tbody tr th:only-of-type {\n        vertical-align: middle;\n    }\n\n    .dataframe tbody tr th {\n        vertical-align: top;\n    }\n\n    .dataframe thead th {\n        text-align: right;\n    }\n</style>\n<table border=\"1\" class=\"dataframe\">\n  <thead>\n    <tr style=\"text-align: right;\">\n      <th></th>\n      <th>name_long</th>\n      <th>name_abbr</th>\n      <th>data_type</th>\n      <th>raw_encoding</th>\n      <th>display_encoding</th>\n      <th>qudt</th>\n      <th>unit_type</th>\n      <th>raw_encoding.0</th>\n      <th>raw_encoding.1</th>\n      <th>display_encoding.0</th>\n      <th>display_encoding.1</th>\n      <th>raw_encoding.2</th>\n      <th>display_encoding.2</th>\n    </tr>\n    <tr>\n      <th>id</th>\n      <th></th>\n      <th></th>\n      <th></th>\n      <th></th>\n      <th></th>\n      <th></th>\n      <th></th>\n      <th></th>\n      <th></th>\n      <th></th>\n      <th></th>\n      <th></th>\n      <th></th>\n    </tr>\n  </thead>\n  <tbody>\n    <tr>\n      <th>23</th>\n      <td>Unknown</td>\n      <td>?</td>\n      <td>None</td>\n      <td>NaN</td>\n      <td>NaN</td>\n      <td>None</td>\n      <td>None</td>\n      <td>NaN</td>\n      <td>NaN</td>\n      <td>NaN</td>\n      <td>NaN</td>\n      <td>NaN</td>\n      <td>NaN</td>\n    </tr>\n    <tr>\n      <th>21</th>\n      <td>Enable</td>\n      <td>Enable</td>\n      <td>Binary</td>\n      <td>NaN</td>\n      <td>NaN</td>\n      <td>None</td>\n      <td>None</td>\n      <td>[disable]</td>\n      <td>[enable]</td>\n      <td>Disable</td>\n      <td>Enable</td>\n      <td>NaN</td>\n      <td>NaN</td>\n    </tr>\n    <tr>\n      <th>22</th>\n      <td>Heat/Cool/Off</td>\n      <td>H/C/O</td>\n      <td>Enum</td>\n      <td>NaN</td>\n      <td>NaN</td>\n      <td>None</td>\n      <td>None</td>\n      <td>[off]</td>\n      <td>[heat]</td>\n      <td>Off</td>\n      <td>Heat</td>\n      <td>[cool]</td>\n      <td>Off</td>\n    </tr>\n    <tr>\n      <th>31</th>\n      <td>Ordinal Value</td>\n      <td>Ordinal</td>\n      <td>Ordinal</td>\n      <td>NaN</td>\n      <td>NaN</td>\n      <td>None</td>\n      <td>None</td>\n      <td>NaN</td>\n      <td>NaN</td>\n      <td>NaN</td>\n      <td>NaN</td>\n      <td>NaN</td>\n      <td>NaN</td>\n    </tr>\n    <tr>\n      <th>34</th>\n      <td>Ampere</td>\n      <td>A</td>\n      <td>Continuous</td>\n      <td>NaN</td>\n      <td>NaN</td>\n      <td>http://qudt.org/vocab/unit/A</td>\n      <td>http://qudt.org/vocab/quantitykind/ElectricCur...</td>\n      <td>NaN</td>\n      <td>NaN</td>\n      <td>NaN</td>\n      <td>NaN</td>\n      <td>NaN</td>\n      <td>NaN</td>\n    </tr>\n    <tr>\n      <th>...</th>\n      <td>...</td>\n      <td>...</td>\n      <td>...</td>\n      <td>...</td>\n      <td>...</td>\n      <td>...</td>\n      <td>...</td>\n      <td>...</td>\n      <td>...</td>\n      <td>...</td>\n      <td>...</td>\n      <td>...</td>\n      <td>...</td>\n    </tr>\n    <tr>\n      <th>83</th>\n      <td>Normal Cubic Meter</td>\n      <td>nm3</td>\n      <td>Continuous</td>\n      <td>NaN</td>\n      <td>NaN</td>\n      <td>http://qudt.org/vocab/unit/NM3-NAT-GAS</td>\n      <td>http://qudt.org/vocab/quantitykind/Energy</td>\n      <td>NaN</td>\n      <td>NaN</td>\n      <td>NaN</td>\n      <td>NaN</td>\n      <td>NaN</td>\n      <td>NaN</td>\n    </tr>\n    <tr>\n      <th>84</th>\n      <td>Standard Cubic Meter</td>\n      <td>SCM</td>\n      <td>Continuous</td>\n      <td>NaN</td>\n      <td>NaN</td>\n      <td>http://qudt.org/vocab/unit/SCM-NAT-GAS</td>\n      <td>http://qudt.org/vocab/quantitykind/Energy</td>\n      <td>NaN</td>\n      <td>NaN</td>\n      <td>NaN</td>\n      <td>NaN</td>\n      <td>NaN</td>\n      <td>NaN</td>\n    </tr>\n    <tr>\n      <th>85</th>\n      <td>Standard Cubic Foot</td>\n      <td>SFt3</td>\n      <td>Continuous</td>\n      <td>NaN</td>\n      <td>NaN</td>\n      <td>http://qudt.org/vocab/unit/SFT3-NAT-GAS</td>\n      <td>http://qudt.org/vocab/quantitykind/Energy</td>\n      <td>NaN</td>\n      <td>NaN</td>\n      <td>NaN</td>\n      <td>NaN</td>\n      <td>NaN</td>\n      <td>NaN</td>\n    </tr>\n    <tr>\n      <th>86</th>\n      <td>Kilojoules per Kilogram</td>\n      <td>kJ/kg</td>\n      <td>Continuous</td>\n      <td>NaN</td>\n      <td>NaN</td>\n      <td>http://qudt.org/vocab/unit/KiloJ-PER-KiloGM</td>\n      <td>http://qudt.org/vocab/quantitykind/SpecificEnergy</td>\n      <td>NaN</td>\n      <td>NaN</td>\n      <td>NaN</td>\n      <td>NaN</td>\n      <td>NaN</td>\n      <td>NaN</td>\n    </tr>\n    <tr>\n      <th>87</th>\n      <td>Pulse</td>\n      <td>pulse</td>\n      <td>Continuous</td>\n      <td>NaN</td>\n      <td>NaN</td>\n      <td>http://qudt.org/vocab/unit/NUM</td>\n      <td>http://qudt.org/vocab/quantitykind/Dimensionless</td>\n      <td>NaN</td>\n      <td>NaN</td>\n      <td>NaN</td>\n      <td>NaN</td>\n      <td>NaN</td>\n      <td>NaN</td>\n    </tr>\n  </tbody>\n</table>\n<p>80 rows × 13 columns</p>\n</div>"
     },
     "execution_count": 19,
     "metadata": {},
     "output_type": "execute_result"
    }
   ],
   "source": [
    "all_units = pd.json_normalize(client.get_all_units()).set_index('id')\n",
    "all_units"
   ]
  },
  {
   "cell_type": "code",
   "execution_count": 9,
   "metadata": {
    "pycharm": {
     "name": "#%%\n"
    }
   },
   "outputs": [
    {
     "data": {
      "text/html": [
       "<div>\n",
       "<style scoped>\n",
       "    .dataframe tbody tr th:only-of-type {\n",
       "        vertical-align: middle;\n",
       "    }\n",
       "\n",
       "    .dataframe tbody tr th {\n",
       "        vertical-align: top;\n",
       "    }\n",
       "\n",
       "    .dataframe thead th {\n",
       "        text-align: right;\n",
       "    }\n",
       "</style>\n",
       "<table border=\"1\" class=\"dataframe\">\n",
       "  <thead>\n",
       "    <tr style=\"text-align: right;\">\n",
       "      <th></th>\n",
       "      <th>id</th>\n",
       "      <th>name_long</th>\n",
       "      <th>name_abbr</th>\n",
       "    </tr>\n",
       "  </thead>\n",
       "  <tbody>\n",
       "    <tr>\n",
       "      <th>36</th>\n",
       "      <td>49</td>\n",
       "      <td>Air Dryer</td>\n",
       "      <td>DRYER</td>\n",
       "    </tr>\n",
       "    <tr>\n",
       "      <th>0</th>\n",
       "      <td>12</td>\n",
       "      <td>Air Handling Unit</td>\n",
       "      <td>AHU</td>\n",
       "    </tr>\n",
       "    <tr>\n",
       "      <th>37</th>\n",
       "      <td>45</td>\n",
       "      <td>Battery</td>\n",
       "      <td>BATT</td>\n",
       "    </tr>\n",
       "    <tr>\n",
       "      <th>1</th>\n",
       "      <td>19</td>\n",
       "      <td>Boiler</td>\n",
       "      <td>BLR</td>\n",
       "    </tr>\n",
       "    <tr>\n",
       "      <th>2</th>\n",
       "      <td>20</td>\n",
       "      <td>Chilled Water Plant</td>\n",
       "      <td>CHWS</td>\n",
       "    </tr>\n",
       "    <tr>\n",
       "      <th>3</th>\n",
       "      <td>21</td>\n",
       "      <td>Chiller</td>\n",
       "      <td>CH</td>\n",
       "    </tr>\n",
       "    <tr>\n",
       "      <th>28</th>\n",
       "      <td>48</td>\n",
       "      <td>Cogeneration Plant</td>\n",
       "      <td>COGEN</td>\n",
       "    </tr>\n",
       "    <tr>\n",
       "      <th>20</th>\n",
       "      <td>47</td>\n",
       "      <td>Computer Room Air Conditioner</td>\n",
       "      <td>CRAC</td>\n",
       "    </tr>\n",
       "    <tr>\n",
       "      <th>4</th>\n",
       "      <td>22</td>\n",
       "      <td>Condenser</td>\n",
       "      <td>COND</td>\n",
       "    </tr>\n",
       "    <tr>\n",
       "      <th>35</th>\n",
       "      <td>44</td>\n",
       "      <td>Constant Air Volume</td>\n",
       "      <td>CAV</td>\n",
       "    </tr>\n",
       "    <tr>\n",
       "      <th>5</th>\n",
       "      <td>23</td>\n",
       "      <td>Cooling Tower</td>\n",
       "      <td>CT</td>\n",
       "    </tr>\n",
       "    <tr>\n",
       "      <th>29</th>\n",
       "      <td>50</td>\n",
       "      <td>Dry Cooler</td>\n",
       "      <td>COOLER</td>\n",
       "    </tr>\n",
       "    <tr>\n",
       "      <th>18</th>\n",
       "      <td>39</td>\n",
       "      <td>Duct Heater</td>\n",
       "      <td>DUCT</td>\n",
       "    </tr>\n",
       "    <tr>\n",
       "      <th>25</th>\n",
       "      <td>24</td>\n",
       "      <td>Electrical Panel</td>\n",
       "      <td>ELEC</td>\n",
       "    </tr>\n",
       "    <tr>\n",
       "      <th>32</th>\n",
       "      <td>41</td>\n",
       "      <td>Elevator</td>\n",
       "      <td>ELEV</td>\n",
       "    </tr>\n",
       "    <tr>\n",
       "      <th>6</th>\n",
       "      <td>25</td>\n",
       "      <td>Evaporator</td>\n",
       "      <td>EVAP</td>\n",
       "    </tr>\n",
       "    <tr>\n",
       "      <th>7</th>\n",
       "      <td>26</td>\n",
       "      <td>Fan</td>\n",
       "      <td>FAN</td>\n",
       "    </tr>\n",
       "    <tr>\n",
       "      <th>8</th>\n",
       "      <td>9</td>\n",
       "      <td>Fan Coil Unit</td>\n",
       "      <td>FCU</td>\n",
       "    </tr>\n",
       "    <tr>\n",
       "      <th>33</th>\n",
       "      <td>54</td>\n",
       "      <td>Fire Safety Equipment</td>\n",
       "      <td>FIRESFTY</td>\n",
       "    </tr>\n",
       "    <tr>\n",
       "      <th>38</th>\n",
       "      <td>43</td>\n",
       "      <td>Fume Hood</td>\n",
       "      <td>FUME</td>\n",
       "    </tr>\n",
       "    <tr>\n",
       "      <th>9</th>\n",
       "      <td>28</td>\n",
       "      <td>Heat Exchanger</td>\n",
       "      <td>HX</td>\n",
       "    </tr>\n",
       "    <tr>\n",
       "      <th>10</th>\n",
       "      <td>29</td>\n",
       "      <td>Heat Pump</td>\n",
       "      <td>HP</td>\n",
       "    </tr>\n",
       "    <tr>\n",
       "      <th>11</th>\n",
       "      <td>30</td>\n",
       "      <td>Hot Water Plant</td>\n",
       "      <td>HWS</td>\n",
       "    </tr>\n",
       "    <tr>\n",
       "      <th>30</th>\n",
       "      <td>51</td>\n",
       "      <td>Humidifier</td>\n",
       "      <td>HUM</td>\n",
       "    </tr>\n",
       "    <tr>\n",
       "      <th>26</th>\n",
       "      <td>55</td>\n",
       "      <td>Leak Detector</td>\n",
       "      <td>LEAK</td>\n",
       "    </tr>\n",
       "    <tr>\n",
       "      <th>31</th>\n",
       "      <td>42</td>\n",
       "      <td>Lighting System</td>\n",
       "      <td>LIGHT</td>\n",
       "    </tr>\n",
       "    <tr>\n",
       "      <th>12</th>\n",
       "      <td>31</td>\n",
       "      <td>Meter</td>\n",
       "      <td>METER</td>\n",
       "    </tr>\n",
       "    <tr>\n",
       "      <th>13</th>\n",
       "      <td>32</td>\n",
       "      <td>Pump</td>\n",
       "      <td>PUMP</td>\n",
       "    </tr>\n",
       "    <tr>\n",
       "      <th>22</th>\n",
       "      <td>40</td>\n",
       "      <td>Radiant System</td>\n",
       "      <td>RADIANT</td>\n",
       "    </tr>\n",
       "    <tr>\n",
       "      <th>34</th>\n",
       "      <td>53</td>\n",
       "      <td>Security Equipment</td>\n",
       "      <td>SECURITY</td>\n",
       "    </tr>\n",
       "    <tr>\n",
       "      <th>23</th>\n",
       "      <td>52</td>\n",
       "      <td>Shade</td>\n",
       "      <td>SHADE</td>\n",
       "    </tr>\n",
       "    <tr>\n",
       "      <th>24</th>\n",
       "      <td>37</td>\n",
       "      <td>Site Sensors</td>\n",
       "      <td>SITE</td>\n",
       "    </tr>\n",
       "    <tr>\n",
       "      <th>14</th>\n",
       "      <td>33</td>\n",
       "      <td>Tank</td>\n",
       "      <td>TANK</td>\n",
       "    </tr>\n",
       "    <tr>\n",
       "      <th>15</th>\n",
       "      <td>34</td>\n",
       "      <td>Unit Ventilator</td>\n",
       "      <td>UV</td>\n",
       "    </tr>\n",
       "    <tr>\n",
       "      <th>27</th>\n",
       "      <td>38</td>\n",
       "      <td>Untagged</td>\n",
       "      <td>NONE</td>\n",
       "    </tr>\n",
       "    <tr>\n",
       "      <th>16</th>\n",
       "      <td>7</td>\n",
       "      <td>Variable Air Volume</td>\n",
       "      <td>VAV</td>\n",
       "    </tr>\n",
       "    <tr>\n",
       "      <th>17</th>\n",
       "      <td>36</td>\n",
       "      <td>Variable Refrigerant Flow</td>\n",
       "      <td>VRF</td>\n",
       "    </tr>\n",
       "    <tr>\n",
       "      <th>21</th>\n",
       "      <td>46</td>\n",
       "      <td>Virtual</td>\n",
       "      <td>VIRT</td>\n",
       "    </tr>\n",
       "    <tr>\n",
       "      <th>19</th>\n",
       "      <td>57</td>\n",
       "      <td>Water Loop</td>\n",
       "      <td>WLOOP</td>\n",
       "    </tr>\n",
       "  </tbody>\n",
       "</table>\n",
       "</div>"
      ],
      "text/plain": [
       "    id                      name_long name_abbr\n",
       "36  49                      Air Dryer     DRYER\n",
       "0   12              Air Handling Unit       AHU\n",
       "37  45                        Battery      BATT\n",
       "1   19                         Boiler       BLR\n",
       "2   20            Chilled Water Plant      CHWS\n",
       "3   21                        Chiller        CH\n",
       "28  48             Cogeneration Plant     COGEN\n",
       "20  47  Computer Room Air Conditioner      CRAC\n",
       "4   22                      Condenser      COND\n",
       "35  44            Constant Air Volume       CAV\n",
       "5   23                  Cooling Tower        CT\n",
       "29  50                     Dry Cooler    COOLER\n",
       "18  39                    Duct Heater      DUCT\n",
       "25  24               Electrical Panel      ELEC\n",
       "32  41                       Elevator      ELEV\n",
       "6   25                     Evaporator      EVAP\n",
       "7   26                            Fan       FAN\n",
       "8    9                  Fan Coil Unit       FCU\n",
       "33  54          Fire Safety Equipment  FIRESFTY\n",
       "38  43                      Fume Hood      FUME\n",
       "9   28                 Heat Exchanger        HX\n",
       "10  29                      Heat Pump        HP\n",
       "11  30                Hot Water Plant       HWS\n",
       "30  51                     Humidifier       HUM\n",
       "26  55                  Leak Detector      LEAK\n",
       "31  42                Lighting System     LIGHT\n",
       "12  31                          Meter     METER\n",
       "13  32                           Pump      PUMP\n",
       "22  40                 Radiant System   RADIANT\n",
       "34  53             Security Equipment  SECURITY\n",
       "23  52                          Shade     SHADE\n",
       "24  37                   Site Sensors      SITE\n",
       "14  33                           Tank      TANK\n",
       "15  34                Unit Ventilator        UV\n",
       "27  38                       Untagged      NONE\n",
       "16   7            Variable Air Volume       VAV\n",
       "17  36      Variable Refrigerant Flow       VRF\n",
       "21  46                        Virtual      VIRT\n",
       "19  57                     Water Loop     WLOOP"
      ]
     },
     "execution_count": 9,
     "metadata": {},
     "output_type": "execute_result"
    }
   ],
   "source": [
    "equip_types = pd.json_normalize(client.get_equipment_types())\n",
    "equip_types[['id', 'name_long', 'name_abbr']].sort_values('name_long').set_index('id')"
   ]
  },
  {
   "cell_type": "code",
   "execution_count": 14,
   "metadata": {
    "pycharm": {
     "name": "#%%\n"
    }
   },
   "outputs": [
    {
     "data": {
      "text/plain": "         id  building_id            equip_id suffix equip_type_name  \\\n0     28797          441            boiler-1      1          Boiler   \n1     28798          441            boiler-2      2          Boiler   \n2     28799          441            boiler-3      3          Boiler   \n3     28800          441            boiler-4      4          Boiler   \n4     28801          441            boiler-5      5          Boiler   \n...     ...          ...                 ...    ...             ...   \n6080  32354          399    chilledWaterPump   None            Pump   \n6081  32355          399  chilledWaterPump-4      4            Pump   \n6082  32356          399           condenser   None       Condenser   \n6083  32357          399  condenserWaterPump   None            Pump   \n6084  32358          399      elecMeter-site   site           Meter   \n\n      equip_type_id equip_type_abbr equip_type_tag    equip_subtype_name  \\\n0                19             BLR         boiler                  None   \n1                19             BLR         boiler                  None   \n2                19             BLR         boiler                  None   \n3                19             BLR         boiler                  None   \n4                19             BLR         boiler                  None   \n...             ...             ...            ...                   ...   \n6080             32            PUMP           pump    Chilled Water Pump   \n6081             32            PUMP           pump    Chilled Water Pump   \n6082             22            COND      condenser                  None   \n6083             32            PUMP           pump  Condenser Water Pump   \n6084             31           METER          meter      Electrical Meter   \n\n      equip_subtype_id   equip_subtype_tag  flow_order floor_num_physical  \\\n0                  NaN                None           1               None   \n1                  NaN                None           1               None   \n2                  NaN                None           1               None   \n3                  NaN                None           1               None   \n4                  NaN                None           1               None   \n...                ...                 ...         ...                ...   \n6080              20.0    chilledWaterPump           1               None   \n6081              20.0    chilledWaterPump           1               None   \n6082               NaN                None           1               None   \n6083              26.0  condenserWaterPump           1               None   \n6084              16.0           elecMeter           5               None   \n\n     floor_num_served area_served_desc equip_dis parent_equip child_equip  \\\n0                None             None      None      [28803]          []   \n1                None             None      None      [28803]          []   \n2                None             None      None      [28803]          []   \n3                None             None      None      [28803]          []   \n4                None             None      None      [28803]          []   \n...               ...              ...       ...          ...         ...   \n6080             None             None      None      [22751]          []   \n6081             None             None      None      [22751]          []   \n6082             None             None      None           []          []   \n6083             None             None      None           []          []   \n6084             None             None      None           []          []   \n\n                                                 points  \\\n0     [{'id': 310029, 'building_id': 441, 'last_upda...   \n1     [{'id': 310079, 'building_id': 441, 'last_upda...   \n2     [{'id': 310108, 'building_id': 441, 'last_upda...   \n3     [{'id': 310144, 'building_id': 441, 'last_upda...   \n4     [{'id': 310152, 'building_id': 441, 'last_upda...   \n...                                                 ...   \n6080  [{'id': 231126, 'building_id': 399, 'last_upda...   \n6081  [{'id': 359904, 'building_id': 399, 'last_upda...   \n6082  [{'id': 231136, 'building_id': 399, 'last_upda...   \n6083  [{'id': 231132, 'building_id': 399, 'last_upda...   \n6084  [{'id': 359906, 'building_id': 399, 'last_upda...   \n\n                                  tags  \n0                       [boiler, hvac]  \n1                       [boiler, hvac]  \n2                       [boiler, hvac]  \n3                       [boiler, hvac]  \n4                       [boiler, hvac]  \n...                                ...  \n6080    [pump, hvac, chilledWaterPump]  \n6081    [pump, hvac, chilledWaterPump]  \n6082                 [hvac, condenser]  \n6083  [pump, hvac, condenserWaterPump]  \n6084                [meter, elecMeter]  \n\n[6085 rows x 20 columns]",
      "text/html": "<div>\n<style scoped>\n    .dataframe tbody tr th:only-of-type {\n        vertical-align: middle;\n    }\n\n    .dataframe tbody tr th {\n        vertical-align: top;\n    }\n\n    .dataframe thead th {\n        text-align: right;\n    }\n</style>\n<table border=\"1\" class=\"dataframe\">\n  <thead>\n    <tr style=\"text-align: right;\">\n      <th></th>\n      <th>id</th>\n      <th>building_id</th>\n      <th>equip_id</th>\n      <th>suffix</th>\n      <th>equip_type_name</th>\n      <th>equip_type_id</th>\n      <th>equip_type_abbr</th>\n      <th>equip_type_tag</th>\n      <th>equip_subtype_name</th>\n      <th>equip_subtype_id</th>\n      <th>equip_subtype_tag</th>\n      <th>flow_order</th>\n      <th>floor_num_physical</th>\n      <th>floor_num_served</th>\n      <th>area_served_desc</th>\n      <th>equip_dis</th>\n      <th>parent_equip</th>\n      <th>child_equip</th>\n      <th>points</th>\n      <th>tags</th>\n    </tr>\n  </thead>\n  <tbody>\n    <tr>\n      <th>0</th>\n      <td>28797</td>\n      <td>441</td>\n      <td>boiler-1</td>\n      <td>1</td>\n      <td>Boiler</td>\n      <td>19</td>\n      <td>BLR</td>\n      <td>boiler</td>\n      <td>None</td>\n      <td>NaN</td>\n      <td>None</td>\n      <td>1</td>\n      <td>None</td>\n      <td>None</td>\n      <td>None</td>\n      <td>None</td>\n      <td>[28803]</td>\n      <td>[]</td>\n      <td>[{'id': 310029, 'building_id': 441, 'last_upda...</td>\n      <td>[boiler, hvac]</td>\n    </tr>\n    <tr>\n      <th>1</th>\n      <td>28798</td>\n      <td>441</td>\n      <td>boiler-2</td>\n      <td>2</td>\n      <td>Boiler</td>\n      <td>19</td>\n      <td>BLR</td>\n      <td>boiler</td>\n      <td>None</td>\n      <td>NaN</td>\n      <td>None</td>\n      <td>1</td>\n      <td>None</td>\n      <td>None</td>\n      <td>None</td>\n      <td>None</td>\n      <td>[28803]</td>\n      <td>[]</td>\n      <td>[{'id': 310079, 'building_id': 441, 'last_upda...</td>\n      <td>[boiler, hvac]</td>\n    </tr>\n    <tr>\n      <th>2</th>\n      <td>28799</td>\n      <td>441</td>\n      <td>boiler-3</td>\n      <td>3</td>\n      <td>Boiler</td>\n      <td>19</td>\n      <td>BLR</td>\n      <td>boiler</td>\n      <td>None</td>\n      <td>NaN</td>\n      <td>None</td>\n      <td>1</td>\n      <td>None</td>\n      <td>None</td>\n      <td>None</td>\n      <td>None</td>\n      <td>[28803]</td>\n      <td>[]</td>\n      <td>[{'id': 310108, 'building_id': 441, 'last_upda...</td>\n      <td>[boiler, hvac]</td>\n    </tr>\n    <tr>\n      <th>3</th>\n      <td>28800</td>\n      <td>441</td>\n      <td>boiler-4</td>\n      <td>4</td>\n      <td>Boiler</td>\n      <td>19</td>\n      <td>BLR</td>\n      <td>boiler</td>\n      <td>None</td>\n      <td>NaN</td>\n      <td>None</td>\n      <td>1</td>\n      <td>None</td>\n      <td>None</td>\n      <td>None</td>\n      <td>None</td>\n      <td>[28803]</td>\n      <td>[]</td>\n      <td>[{'id': 310144, 'building_id': 441, 'last_upda...</td>\n      <td>[boiler, hvac]</td>\n    </tr>\n    <tr>\n      <th>4</th>\n      <td>28801</td>\n      <td>441</td>\n      <td>boiler-5</td>\n      <td>5</td>\n      <td>Boiler</td>\n      <td>19</td>\n      <td>BLR</td>\n      <td>boiler</td>\n      <td>None</td>\n      <td>NaN</td>\n      <td>None</td>\n      <td>1</td>\n      <td>None</td>\n      <td>None</td>\n      <td>None</td>\n      <td>None</td>\n      <td>[28803]</td>\n      <td>[]</td>\n      <td>[{'id': 310152, 'building_id': 441, 'last_upda...</td>\n      <td>[boiler, hvac]</td>\n    </tr>\n    <tr>\n      <th>...</th>\n      <td>...</td>\n      <td>...</td>\n      <td>...</td>\n      <td>...</td>\n      <td>...</td>\n      <td>...</td>\n      <td>...</td>\n      <td>...</td>\n      <td>...</td>\n      <td>...</td>\n      <td>...</td>\n      <td>...</td>\n      <td>...</td>\n      <td>...</td>\n      <td>...</td>\n      <td>...</td>\n      <td>...</td>\n      <td>...</td>\n      <td>...</td>\n      <td>...</td>\n    </tr>\n    <tr>\n      <th>6080</th>\n      <td>32354</td>\n      <td>399</td>\n      <td>chilledWaterPump</td>\n      <td>None</td>\n      <td>Pump</td>\n      <td>32</td>\n      <td>PUMP</td>\n      <td>pump</td>\n      <td>Chilled Water Pump</td>\n      <td>20.0</td>\n      <td>chilledWaterPump</td>\n      <td>1</td>\n      <td>None</td>\n      <td>None</td>\n      <td>None</td>\n      <td>None</td>\n      <td>[22751]</td>\n      <td>[]</td>\n      <td>[{'id': 231126, 'building_id': 399, 'last_upda...</td>\n      <td>[pump, hvac, chilledWaterPump]</td>\n    </tr>\n    <tr>\n      <th>6081</th>\n      <td>32355</td>\n      <td>399</td>\n      <td>chilledWaterPump-4</td>\n      <td>4</td>\n      <td>Pump</td>\n      <td>32</td>\n      <td>PUMP</td>\n      <td>pump</td>\n      <td>Chilled Water Pump</td>\n      <td>20.0</td>\n      <td>chilledWaterPump</td>\n      <td>1</td>\n      <td>None</td>\n      <td>None</td>\n      <td>None</td>\n      <td>None</td>\n      <td>[22751]</td>\n      <td>[]</td>\n      <td>[{'id': 359904, 'building_id': 399, 'last_upda...</td>\n      <td>[pump, hvac, chilledWaterPump]</td>\n    </tr>\n    <tr>\n      <th>6082</th>\n      <td>32356</td>\n      <td>399</td>\n      <td>condenser</td>\n      <td>None</td>\n      <td>Condenser</td>\n      <td>22</td>\n      <td>COND</td>\n      <td>condenser</td>\n      <td>None</td>\n      <td>NaN</td>\n      <td>None</td>\n      <td>1</td>\n      <td>None</td>\n      <td>None</td>\n      <td>None</td>\n      <td>None</td>\n      <td>[]</td>\n      <td>[]</td>\n      <td>[{'id': 231136, 'building_id': 399, 'last_upda...</td>\n      <td>[hvac, condenser]</td>\n    </tr>\n    <tr>\n      <th>6083</th>\n      <td>32357</td>\n      <td>399</td>\n      <td>condenserWaterPump</td>\n      <td>None</td>\n      <td>Pump</td>\n      <td>32</td>\n      <td>PUMP</td>\n      <td>pump</td>\n      <td>Condenser Water Pump</td>\n      <td>26.0</td>\n      <td>condenserWaterPump</td>\n      <td>1</td>\n      <td>None</td>\n      <td>None</td>\n      <td>None</td>\n      <td>None</td>\n      <td>[]</td>\n      <td>[]</td>\n      <td>[{'id': 231132, 'building_id': 399, 'last_upda...</td>\n      <td>[pump, hvac, condenserWaterPump]</td>\n    </tr>\n    <tr>\n      <th>6084</th>\n      <td>32358</td>\n      <td>399</td>\n      <td>elecMeter-site</td>\n      <td>site</td>\n      <td>Meter</td>\n      <td>31</td>\n      <td>METER</td>\n      <td>meter</td>\n      <td>Electrical Meter</td>\n      <td>16.0</td>\n      <td>elecMeter</td>\n      <td>5</td>\n      <td>None</td>\n      <td>None</td>\n      <td>None</td>\n      <td>None</td>\n      <td>[]</td>\n      <td>[]</td>\n      <td>[{'id': 359906, 'building_id': 399, 'last_upda...</td>\n      <td>[meter, elecMeter]</td>\n    </tr>\n  </tbody>\n</table>\n<p>6085 rows × 20 columns</p>\n</div>"
     },
     "execution_count": 14,
     "metadata": {},
     "output_type": "execute_result"
    }
   ],
   "source": [
    "# Beware: this request takes a WHILE\n",
    "all_equipment = pd.json_normalize(client.get_all_equipment())\n",
    "all_equipment.set_index('id')"
   ]
  },
  {
   "cell_type": "code",
   "execution_count": 15,
   "metadata": {
    "pycharm": {
     "name": "#%%\n"
    }
   },
   "outputs": [
    {
     "data": {
      "text/plain": "Air Handling Unit            1165\nFan                           936\nMeter                         801\nVariable Air Volume           715\nPump                          510\nSite Sensors                  370\nFan Coil Unit                 366\nUnit Ventilator               193\nElectrical Panel              153\nChiller                       151\nBoiler                        140\nLighting System                76\nRadiant System                 70\nCooling Tower                  65\nVirtual                        63\nBattery                        61\nHot Water Plant                59\nHeat Exchanger                 57\nChilled Water Plant            50\nHeat Pump                      34\nCondenser                      18\nElevator                       16\nVariable Refrigerant Flow      10\nDuct Heater                     3\nTank                            2\nDry Cooler                      1\nName: equip_type_name, dtype: int64"
     },
     "execution_count": 15,
     "metadata": {},
     "output_type": "execute_result"
    }
   ],
   "source": [
    "all_equipment['equip_type_name'].value_counts()"
   ]
  },
  {
   "cell_type": "code",
   "execution_count": 16,
   "metadata": {
    "pycharm": {
     "name": "#%%\n"
    }
   },
   "outputs": [
    {
     "data": {
      "text/plain": "                 name\nid                   \n10          Occupancy\n57      Dimensionless\n11             On/Off\n17        Motor Speed\n31             Torque\n7            Position\n12             Enable\n15         Open/Close\n26              State\n36           Schedule\n39           Gas Flow\n23         Percentage\n20     Reactive Power\n27              Floor\n33       Power Factor\n34    Reactive Energy\n18            Unknown\n2            Humidity\n13              Power\n21     Apparent Power\n5          Water Flow\n52        Illuminance\n37       Air Pressure\n32    Apparent Energy\n24           Enthalpy\n55             Volume\n38    Linear Velocity\n8               Stage\n28            Current\n30            Voltage\n6       Concentration\n29          Frequency\n54         Resistance\n4            Air Flow\n53              Level\n1         Temperature\n22  Water Consumption\n3            Pressure\n14             Energy\n35           Duration\n9          Steam Flow",
      "text/html": "<div>\n<style scoped>\n    .dataframe tbody tr th:only-of-type {\n        vertical-align: middle;\n    }\n\n    .dataframe tbody tr th {\n        vertical-align: top;\n    }\n\n    .dataframe thead th {\n        text-align: right;\n    }\n</style>\n<table border=\"1\" class=\"dataframe\">\n  <thead>\n    <tr style=\"text-align: right;\">\n      <th></th>\n      <th>name</th>\n    </tr>\n    <tr>\n      <th>id</th>\n      <th></th>\n    </tr>\n  </thead>\n  <tbody>\n    <tr>\n      <th>10</th>\n      <td>Occupancy</td>\n    </tr>\n    <tr>\n      <th>57</th>\n      <td>Dimensionless</td>\n    </tr>\n    <tr>\n      <th>11</th>\n      <td>On/Off</td>\n    </tr>\n    <tr>\n      <th>17</th>\n      <td>Motor Speed</td>\n    </tr>\n    <tr>\n      <th>31</th>\n      <td>Torque</td>\n    </tr>\n    <tr>\n      <th>7</th>\n      <td>Position</td>\n    </tr>\n    <tr>\n      <th>12</th>\n      <td>Enable</td>\n    </tr>\n    <tr>\n      <th>15</th>\n      <td>Open/Close</td>\n    </tr>\n    <tr>\n      <th>26</th>\n      <td>State</td>\n    </tr>\n    <tr>\n      <th>36</th>\n      <td>Schedule</td>\n    </tr>\n    <tr>\n      <th>39</th>\n      <td>Gas Flow</td>\n    </tr>\n    <tr>\n      <th>23</th>\n      <td>Percentage</td>\n    </tr>\n    <tr>\n      <th>20</th>\n      <td>Reactive Power</td>\n    </tr>\n    <tr>\n      <th>27</th>\n      <td>Floor</td>\n    </tr>\n    <tr>\n      <th>33</th>\n      <td>Power Factor</td>\n    </tr>\n    <tr>\n      <th>34</th>\n      <td>Reactive Energy</td>\n    </tr>\n    <tr>\n      <th>18</th>\n      <td>Unknown</td>\n    </tr>\n    <tr>\n      <th>2</th>\n      <td>Humidity</td>\n    </tr>\n    <tr>\n      <th>13</th>\n      <td>Power</td>\n    </tr>\n    <tr>\n      <th>21</th>\n      <td>Apparent Power</td>\n    </tr>\n    <tr>\n      <th>5</th>\n      <td>Water Flow</td>\n    </tr>\n    <tr>\n      <th>52</th>\n      <td>Illuminance</td>\n    </tr>\n    <tr>\n      <th>37</th>\n      <td>Air Pressure</td>\n    </tr>\n    <tr>\n      <th>32</th>\n      <td>Apparent Energy</td>\n    </tr>\n    <tr>\n      <th>24</th>\n      <td>Enthalpy</td>\n    </tr>\n    <tr>\n      <th>55</th>\n      <td>Volume</td>\n    </tr>\n    <tr>\n      <th>38</th>\n      <td>Linear Velocity</td>\n    </tr>\n    <tr>\n      <th>8</th>\n      <td>Stage</td>\n    </tr>\n    <tr>\n      <th>28</th>\n      <td>Current</td>\n    </tr>\n    <tr>\n      <th>30</th>\n      <td>Voltage</td>\n    </tr>\n    <tr>\n      <th>6</th>\n      <td>Concentration</td>\n    </tr>\n    <tr>\n      <th>29</th>\n      <td>Frequency</td>\n    </tr>\n    <tr>\n      <th>54</th>\n      <td>Resistance</td>\n    </tr>\n    <tr>\n      <th>4</th>\n      <td>Air Flow</td>\n    </tr>\n    <tr>\n      <th>53</th>\n      <td>Level</td>\n    </tr>\n    <tr>\n      <th>1</th>\n      <td>Temperature</td>\n    </tr>\n    <tr>\n      <th>22</th>\n      <td>Water Consumption</td>\n    </tr>\n    <tr>\n      <th>3</th>\n      <td>Pressure</td>\n    </tr>\n    <tr>\n      <th>14</th>\n      <td>Energy</td>\n    </tr>\n    <tr>\n      <th>35</th>\n      <td>Duration</td>\n    </tr>\n    <tr>\n      <th>9</th>\n      <td>Steam Flow</td>\n    </tr>\n  </tbody>\n</table>\n</div>"
     },
     "execution_count": 16,
     "metadata": {},
     "output_type": "execute_result"
    }
   ],
   "source": [
    "all_measurements = pd.json_normalize(client.get_all_measurements())\n",
    "all_measurements[['id', 'name']].set_index('id')"
   ]
  },
  {
   "cell_type": "code",
   "execution_count": 27,
   "metadata": {
    "pycharm": {
     "name": "#%%\n"
    }
   },
   "outputs": [
    {
     "data": {
      "text/plain": "      id                                  tag_name  active  measurement_id  \\\n0    124                 Occupied Heating Setpoint    True               1   \n1    118                Outside Air Carbon Dioxide    True               6   \n2    130           Return Air Temperature Setpoint    True               1   \n3     84  Dual-Temp Coil Discharge Air Temperature    True               1   \n4     81     Reheat Coil Discharge Air Temperature    True               1   \n..   ...                                       ...     ...             ...   \n642  749                     Supply Water Pressure    True               3   \n643  750                     Return Water Pressure    True               3   \n644  752                            Gas Flow Pulse    True              57   \n645   46                                  untagged    True              18   \n646  751                          Water Flow Pulse    True              57   \n\n                 tag_set_ids                                            tags  \\\n0     [15, 2, 4, 62, 51, 55]             [air, sp, temp, zone, heating, occ]   \n1             [15, 8, 1, 24]                     [air, co2, sensor, outside]   \n2             [15, 2, 4, 63]                         [air, sp, temp, return]   \n3    [15, 36, 47, 1, 4, 250]  [air, discharge, dualTemp, sensor, temp, coil]   \n4    [15, 36, 44, 1, 4, 250]   [air, discharge, reheats, sensor, temp, coil]   \n..                       ...                                             ...   \n642               [1, 39, 6]                     [sensor, leaving, pressure]   \n643               [1, 40, 6]                    [sensor, entering, pressure]   \n644                       []                                              []   \n645                       []                                              []   \n646                       []                                              []   \n\n    default_unit_id  \n0              None  \n1              None  \n2              None  \n3              None  \n4              None  \n..              ...  \n642            None  \n643            None  \n644            None  \n645            None  \n646            None  \n\n[647 rows x 7 columns]",
      "text/html": "<div>\n<style scoped>\n    .dataframe tbody tr th:only-of-type {\n        vertical-align: middle;\n    }\n\n    .dataframe tbody tr th {\n        vertical-align: top;\n    }\n\n    .dataframe thead th {\n        text-align: right;\n    }\n</style>\n<table border=\"1\" class=\"dataframe\">\n  <thead>\n    <tr style=\"text-align: right;\">\n      <th></th>\n      <th>id</th>\n      <th>tag_name</th>\n      <th>active</th>\n      <th>measurement_id</th>\n      <th>tag_set_ids</th>\n      <th>tags</th>\n      <th>default_unit_id</th>\n    </tr>\n  </thead>\n  <tbody>\n    <tr>\n      <th>0</th>\n      <td>124</td>\n      <td>Occupied Heating Setpoint</td>\n      <td>True</td>\n      <td>1</td>\n      <td>[15, 2, 4, 62, 51, 55]</td>\n      <td>[air, sp, temp, zone, heating, occ]</td>\n      <td>None</td>\n    </tr>\n    <tr>\n      <th>1</th>\n      <td>118</td>\n      <td>Outside Air Carbon Dioxide</td>\n      <td>True</td>\n      <td>6</td>\n      <td>[15, 8, 1, 24]</td>\n      <td>[air, co2, sensor, outside]</td>\n      <td>None</td>\n    </tr>\n    <tr>\n      <th>2</th>\n      <td>130</td>\n      <td>Return Air Temperature Setpoint</td>\n      <td>True</td>\n      <td>1</td>\n      <td>[15, 2, 4, 63]</td>\n      <td>[air, sp, temp, return]</td>\n      <td>None</td>\n    </tr>\n    <tr>\n      <th>3</th>\n      <td>84</td>\n      <td>Dual-Temp Coil Discharge Air Temperature</td>\n      <td>True</td>\n      <td>1</td>\n      <td>[15, 36, 47, 1, 4, 250]</td>\n      <td>[air, discharge, dualTemp, sensor, temp, coil]</td>\n      <td>None</td>\n    </tr>\n    <tr>\n      <th>4</th>\n      <td>81</td>\n      <td>Reheat Coil Discharge Air Temperature</td>\n      <td>True</td>\n      <td>1</td>\n      <td>[15, 36, 44, 1, 4, 250]</td>\n      <td>[air, discharge, reheats, sensor, temp, coil]</td>\n      <td>None</td>\n    </tr>\n    <tr>\n      <th>...</th>\n      <td>...</td>\n      <td>...</td>\n      <td>...</td>\n      <td>...</td>\n      <td>...</td>\n      <td>...</td>\n      <td>...</td>\n    </tr>\n    <tr>\n      <th>642</th>\n      <td>749</td>\n      <td>Supply Water Pressure</td>\n      <td>True</td>\n      <td>3</td>\n      <td>[1, 39, 6]</td>\n      <td>[sensor, leaving, pressure]</td>\n      <td>None</td>\n    </tr>\n    <tr>\n      <th>643</th>\n      <td>750</td>\n      <td>Return Water Pressure</td>\n      <td>True</td>\n      <td>3</td>\n      <td>[1, 40, 6]</td>\n      <td>[sensor, entering, pressure]</td>\n      <td>None</td>\n    </tr>\n    <tr>\n      <th>644</th>\n      <td>752</td>\n      <td>Gas Flow Pulse</td>\n      <td>True</td>\n      <td>57</td>\n      <td>[]</td>\n      <td>[]</td>\n      <td>None</td>\n    </tr>\n    <tr>\n      <th>645</th>\n      <td>46</td>\n      <td>untagged</td>\n      <td>True</td>\n      <td>18</td>\n      <td>[]</td>\n      <td>[]</td>\n      <td>None</td>\n    </tr>\n    <tr>\n      <th>646</th>\n      <td>751</td>\n      <td>Water Flow Pulse</td>\n      <td>True</td>\n      <td>57</td>\n      <td>[]</td>\n      <td>[]</td>\n      <td>None</td>\n    </tr>\n  </tbody>\n</table>\n<p>647 rows × 7 columns</p>\n</div>"
     },
     "execution_count": 27,
     "metadata": {},
     "output_type": "execute_result"
    }
   ],
   "source": [
    "point_types = pd.json_normalize(client.get_all_point_types())\n",
    "point_types\\\n",
    "    .join(all_measurements[['id', 'name']]\\\n",
    "    .set_index('id'), on='measurement_id')\\\n",
    "    .set_index('id')[['tag_name','name']]\\\n",
    "    .rename(columns={\n",
    "            'name': 'measurement_type',\n",
    "            'tag_name': 'point_type'\n",
    "            })\n",
    "point_types"
   ]
  },
  {
   "cell_type": "code",
   "execution_count": null,
   "metadata": {
    "pycharm": {
     "name": "#%%\n",
     "is_executing": true
    }
   },
   "outputs": [],
   "source": [
    "all_points = pd.json_normalize(client.get_all_points()).set_index('id')\n",
    "all_points"
   ]
  },
  {
   "cell_type": "code",
   "execution_count": null,
   "outputs": [],
   "source": [
    "all_points\\\n",
    "    .join(point_types[['id', 'tag_name', 'measurement_id']], on='point_type_id')"
   ],
   "metadata": {
    "collapsed": false,
    "pycharm": {
     "name": "#%%\n",
     "is_executing": true
    }
   }
  },
  {
   "cell_type": "code",
   "execution_count": null,
   "outputs": [],
   "source": [],
   "metadata": {
    "collapsed": false,
    "pycharm": {
     "name": "#%%\n"
    }
   }
  }
 ],
 "metadata": {
  "kernelspec": {
   "display_name": "Python 3 (ipykernel)",
   "language": "python",
   "name": "python3"
  },
  "language_info": {
   "codemirror_mode": {
    "name": "ipython",
    "version": 3
   },
   "file_extension": ".py",
   "mimetype": "text/x-python",
   "name": "python",
   "nbconvert_exporter": "python",
   "pygments_lexer": "ipython3",
   "version": "3.9.12"
  }
 },
 "nbformat": 4,
 "nbformat_minor": 1
}
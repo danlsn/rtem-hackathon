{
 "cells": [
  {
   "cell_type": "markdown",
   "metadata": {},
   "source": [
    "# 01: Exploring the API | RTEM Hackathon"
   ]
  },
  {
   "cell_type": "markdown",
   "source": [
    "## Import Packages\n",
    "Let's start by importing the stuff we need.\n",
    "This includes packages to work with JSON data, as well as the Onboard Client"
   ],
   "metadata": {
    "collapsed": false
   }
  },
  {
   "cell_type": "code",
   "execution_count": 1,
   "metadata": {
    "pycharm": {
     "name": "#%%\n"
    }
   },
   "outputs": [
    {
     "name": "stderr",
     "output_type": "stream",
     "text": [
      "/Users/danlsn/Documents/Projects/Hackathons/rtem-hackathon/venv/lib/python3.9/site-packages/requests/__init__.py:109: RequestsDependencyWarning: urllib3 (1.26.9) or chardet (5.0.0)/charset_normalizer (2.0.12) doesn't match a supported version!\n",
      "  warnings.warn(\n"
     ]
    }
   ],
   "source": [
    "# Import the packages we need to do our analysis\n",
    "import json\n",
    "\n",
    "import pandas as pd\n",
    "from onboard.client import RtemClient"
   ]
  },
  {
   "cell_type": "markdown",
   "metadata": {},
   "source": [
    "## Be Safe With Your Creds\n",
    "Just because this is a Hackathon and a personal project doesn't mean we get to flippantly broadcast our API Keys to\n",
    "the world. I want to publish this code to GitHub so let's be responsible and import our keys using configparser."
   ]
  },
  {
   "cell_type": "code",
   "execution_count": 2,
   "metadata": {
    "pycharm": {
     "name": "#%%\n"
    }
   },
   "outputs": [],
   "source": [
    "# Load API Key using configparser\n",
    "import configparser\n",
    "\n",
    "config = configparser.ConfigParser()\n",
    "config.read('../config.ini')\n",
    "api_key = config['DEFAULT']['API_KEY']"
   ]
  },
  {
   "cell_type": "markdown",
   "source": [
    "## Use Cached Data?\n",
    "Some of these client requests take a long time to return data, so in the interests of time I saved local versions by\n",
    "writing DataFrames to JSON files."
   ],
   "metadata": {
    "collapsed": false
   }
  },
  {
   "cell_type": "code",
   "execution_count": 3,
   "outputs": [],
   "source": [
    "# If use_local set to true, try to find the local file and use that.\n",
    "use_local = True"
   ],
   "metadata": {
    "collapsed": false,
    "pycharm": {
     "name": "#%%\n"
    }
   }
  },
  {
   "cell_type": "markdown",
   "metadata": {},
   "source": [
    "## Initialise the Onboard Client\n",
    "Then check to see if it's working properly."
   ]
  },
  {
   "cell_type": "code",
   "execution_count": 4,
   "metadata": {
    "pycharm": {
     "name": "#%%\n"
    }
   },
   "outputs": [
    {
     "name": "stdout",
     "output_type": "stream",
     "text": [
      "\n",
      "    Result: OK\n",
      "    Scope: ['buildings:read', 'general', 'auth']\n",
      "    Version: 2022-04-14\n",
      "    User: Daniel Lawson\n",
      "    Org: RTEM Submission\n",
      "\n"
     ]
    }
   ],
   "source": [
    "# Initialise Onboard Client\n",
    "client = RtemClient(api_key=api_key)\n",
    "\n",
    "# Check that everything is in order\n",
    "whoami = client.whoami()\n",
    "print(f\"\"\"\n",
    "    Result: {whoami['result'].upper()}\n",
    "    Scope: {whoami['apiKeyScopes']}\n",
    "    Version: {whoami['apiVersion']}\n",
    "    User: {whoami['userInfo']['full_name']}\n",
    "    Org: {whoami['userInfo']['org_short_name']}\n",
    "\"\"\")"
   ]
  },
  {
   "cell_type": "markdown",
   "metadata": {},
   "source": [
    "## Get Information About the Buildings\n"
   ]
  },
  {
   "cell_type": "code",
   "execution_count": 5,
   "metadata": {
    "pycharm": {
     "name": "#%%\n"
    }
   },
   "outputs": [
    {
     "data": {
      "text/plain": "     org_id    name address     sq_ft image_src bms_manufacturer  \\\nid                                                                 \n140       5   83483    None   21869.0      None             None   \n191       5   94414    None  198057.0      None             None   \n231       5   89496    None       NaN      None             None   \n248       5  116742    None  127000.0      None             None   \n249       5   90366    None  120000.0      None             None   \n..      ...     ...     ...       ...       ...              ...   \n353       5   94413    None  198057.0      None             None   \n370       5   95457    None  421316.0      None             None   \n383       5   79528    None   75000.0      None             None   \n398       5  109188    None  860000.0      None             None   \n399       5   97151    None  140400.0      None             None   \n\n    bms_product_name bms_version          timezone status  ...  info.sunend  \\\nid                                                         ...                \n140             None        None  America/New_York   LIVE  ...                \n191             None        None  America/New_York   LIVE  ...        23:00   \n231             None        None  America/New_York   LIVE  ...                \n248             None        None  America/New_York   LIVE  ...                \n249             None        None  America/New_York   LIVE  ...                \n..               ...         ...               ...    ...  ...          ...   \n353             None        None  America/New_York   LIVE  ...        23:00   \n370             None        None  America/New_York   LIVE  ...                \n383             None        None  America/New_York   LIVE  ...          NaN   \n398             None        None  America/New_York   LIVE  ...                \n399             None        None  America/New_York   LIVE  ...                \n\n     info.geoCity info.geoState info.m2fstart info.satstart info.sunstart  \\\nid                                                                          \n140      New York            NY                                             \n191        Victor            NY         07:30         07:30         07:30   \n231      New York            NY                                             \n248      New York            NY                                             \n249      New York            NY                                             \n..            ...           ...           ...           ...           ...   \n353     Henrietta            NY         07:30         07:30         07:30   \n370      New York            NY                                             \n383      Purchase      New York      04:00:00           NaN           NaN   \n398      New York            NY                                             \n399      New York            NY                                             \n\n    info.yearBuilt info.geoCountry info.weatherRef  info.customerType  \nid                                                                     \n140                             US                  Commercial Office  \n191                             US                  Commercial Retail  \n231                             US                                     \n248                             US                        Multifamily  \n249                             US                  Commercial Retail  \n..             ...             ...             ...                ...  \n353                             US                  Commercial Retail  \n370                             US                        Hospitality  \n383           1971              US             NaN  Commercial Office  \n398                             US                  Commercial Office  \n399                             US                  Commercial Office  \n\n[229 rows x 25 columns]",
      "text/html": "<div>\n<style scoped>\n    .dataframe tbody tr th:only-of-type {\n        vertical-align: middle;\n    }\n\n    .dataframe tbody tr th {\n        vertical-align: top;\n    }\n\n    .dataframe thead th {\n        text-align: right;\n    }\n</style>\n<table border=\"1\" class=\"dataframe\">\n  <thead>\n    <tr style=\"text-align: right;\">\n      <th></th>\n      <th>org_id</th>\n      <th>name</th>\n      <th>address</th>\n      <th>sq_ft</th>\n      <th>image_src</th>\n      <th>bms_manufacturer</th>\n      <th>bms_product_name</th>\n      <th>bms_version</th>\n      <th>timezone</th>\n      <th>status</th>\n      <th>...</th>\n      <th>info.sunend</th>\n      <th>info.geoCity</th>\n      <th>info.geoState</th>\n      <th>info.m2fstart</th>\n      <th>info.satstart</th>\n      <th>info.sunstart</th>\n      <th>info.yearBuilt</th>\n      <th>info.geoCountry</th>\n      <th>info.weatherRef</th>\n      <th>info.customerType</th>\n    </tr>\n    <tr>\n      <th>id</th>\n      <th></th>\n      <th></th>\n      <th></th>\n      <th></th>\n      <th></th>\n      <th></th>\n      <th></th>\n      <th></th>\n      <th></th>\n      <th></th>\n      <th></th>\n      <th></th>\n      <th></th>\n      <th></th>\n      <th></th>\n      <th></th>\n      <th></th>\n      <th></th>\n      <th></th>\n      <th></th>\n      <th></th>\n    </tr>\n  </thead>\n  <tbody>\n    <tr>\n      <th>140</th>\n      <td>5</td>\n      <td>83483</td>\n      <td>None</td>\n      <td>21869.0</td>\n      <td>None</td>\n      <td>None</td>\n      <td>None</td>\n      <td>None</td>\n      <td>America/New_York</td>\n      <td>LIVE</td>\n      <td>...</td>\n      <td></td>\n      <td>New York</td>\n      <td>NY</td>\n      <td></td>\n      <td></td>\n      <td></td>\n      <td></td>\n      <td>US</td>\n      <td></td>\n      <td>Commercial Office</td>\n    </tr>\n    <tr>\n      <th>191</th>\n      <td>5</td>\n      <td>94414</td>\n      <td>None</td>\n      <td>198057.0</td>\n      <td>None</td>\n      <td>None</td>\n      <td>None</td>\n      <td>None</td>\n      <td>America/New_York</td>\n      <td>LIVE</td>\n      <td>...</td>\n      <td>23:00</td>\n      <td>Victor</td>\n      <td>NY</td>\n      <td>07:30</td>\n      <td>07:30</td>\n      <td>07:30</td>\n      <td></td>\n      <td>US</td>\n      <td></td>\n      <td>Commercial Retail</td>\n    </tr>\n    <tr>\n      <th>231</th>\n      <td>5</td>\n      <td>89496</td>\n      <td>None</td>\n      <td>NaN</td>\n      <td>None</td>\n      <td>None</td>\n      <td>None</td>\n      <td>None</td>\n      <td>America/New_York</td>\n      <td>LIVE</td>\n      <td>...</td>\n      <td></td>\n      <td>New York</td>\n      <td>NY</td>\n      <td></td>\n      <td></td>\n      <td></td>\n      <td></td>\n      <td>US</td>\n      <td></td>\n      <td></td>\n    </tr>\n    <tr>\n      <th>248</th>\n      <td>5</td>\n      <td>116742</td>\n      <td>None</td>\n      <td>127000.0</td>\n      <td>None</td>\n      <td>None</td>\n      <td>None</td>\n      <td>None</td>\n      <td>America/New_York</td>\n      <td>LIVE</td>\n      <td>...</td>\n      <td></td>\n      <td>New York</td>\n      <td>NY</td>\n      <td></td>\n      <td></td>\n      <td></td>\n      <td></td>\n      <td>US</td>\n      <td></td>\n      <td>Multifamily</td>\n    </tr>\n    <tr>\n      <th>249</th>\n      <td>5</td>\n      <td>90366</td>\n      <td>None</td>\n      <td>120000.0</td>\n      <td>None</td>\n      <td>None</td>\n      <td>None</td>\n      <td>None</td>\n      <td>America/New_York</td>\n      <td>LIVE</td>\n      <td>...</td>\n      <td></td>\n      <td>New York</td>\n      <td>NY</td>\n      <td></td>\n      <td></td>\n      <td></td>\n      <td></td>\n      <td>US</td>\n      <td></td>\n      <td>Commercial Retail</td>\n    </tr>\n    <tr>\n      <th>...</th>\n      <td>...</td>\n      <td>...</td>\n      <td>...</td>\n      <td>...</td>\n      <td>...</td>\n      <td>...</td>\n      <td>...</td>\n      <td>...</td>\n      <td>...</td>\n      <td>...</td>\n      <td>...</td>\n      <td>...</td>\n      <td>...</td>\n      <td>...</td>\n      <td>...</td>\n      <td>...</td>\n      <td>...</td>\n      <td>...</td>\n      <td>...</td>\n      <td>...</td>\n      <td>...</td>\n    </tr>\n    <tr>\n      <th>353</th>\n      <td>5</td>\n      <td>94413</td>\n      <td>None</td>\n      <td>198057.0</td>\n      <td>None</td>\n      <td>None</td>\n      <td>None</td>\n      <td>None</td>\n      <td>America/New_York</td>\n      <td>LIVE</td>\n      <td>...</td>\n      <td>23:00</td>\n      <td>Henrietta</td>\n      <td>NY</td>\n      <td>07:30</td>\n      <td>07:30</td>\n      <td>07:30</td>\n      <td></td>\n      <td>US</td>\n      <td></td>\n      <td>Commercial Retail</td>\n    </tr>\n    <tr>\n      <th>370</th>\n      <td>5</td>\n      <td>95457</td>\n      <td>None</td>\n      <td>421316.0</td>\n      <td>None</td>\n      <td>None</td>\n      <td>None</td>\n      <td>None</td>\n      <td>America/New_York</td>\n      <td>LIVE</td>\n      <td>...</td>\n      <td></td>\n      <td>New York</td>\n      <td>NY</td>\n      <td></td>\n      <td></td>\n      <td></td>\n      <td></td>\n      <td>US</td>\n      <td></td>\n      <td>Hospitality</td>\n    </tr>\n    <tr>\n      <th>383</th>\n      <td>5</td>\n      <td>79528</td>\n      <td>None</td>\n      <td>75000.0</td>\n      <td>None</td>\n      <td>None</td>\n      <td>None</td>\n      <td>None</td>\n      <td>America/New_York</td>\n      <td>LIVE</td>\n      <td>...</td>\n      <td>NaN</td>\n      <td>Purchase</td>\n      <td>New York</td>\n      <td>04:00:00</td>\n      <td>NaN</td>\n      <td>NaN</td>\n      <td>1971</td>\n      <td>US</td>\n      <td>NaN</td>\n      <td>Commercial Office</td>\n    </tr>\n    <tr>\n      <th>398</th>\n      <td>5</td>\n      <td>109188</td>\n      <td>None</td>\n      <td>860000.0</td>\n      <td>None</td>\n      <td>None</td>\n      <td>None</td>\n      <td>None</td>\n      <td>America/New_York</td>\n      <td>LIVE</td>\n      <td>...</td>\n      <td></td>\n      <td>New York</td>\n      <td>NY</td>\n      <td></td>\n      <td></td>\n      <td></td>\n      <td></td>\n      <td>US</td>\n      <td></td>\n      <td>Commercial Office</td>\n    </tr>\n    <tr>\n      <th>399</th>\n      <td>5</td>\n      <td>97151</td>\n      <td>None</td>\n      <td>140400.0</td>\n      <td>None</td>\n      <td>None</td>\n      <td>None</td>\n      <td>None</td>\n      <td>America/New_York</td>\n      <td>LIVE</td>\n      <td>...</td>\n      <td></td>\n      <td>New York</td>\n      <td>NY</td>\n      <td></td>\n      <td></td>\n      <td></td>\n      <td></td>\n      <td>US</td>\n      <td></td>\n      <td>Commercial Office</td>\n    </tr>\n  </tbody>\n</table>\n<p>229 rows × 25 columns</p>\n</div>"
     },
     "execution_count": 5,
     "metadata": {},
     "output_type": "execute_result"
    }
   ],
   "source": [
    "# Create a DataFrame with all buildings\n",
    "all_buildings = pd.json_normalize(client.get_all_buildings()).set_index('id')\n",
    "all_buildings"
   ]
  },
  {
   "cell_type": "markdown",
   "metadata": {},
   "source": [
    "### What Kind of Buildings Are There?\n",
    "There are several different types of buildings that participate in the RTEM Program."
   ]
  },
  {
   "cell_type": "code",
   "execution_count": 6,
   "metadata": {
    "pycharm": {
     "name": "#%%\n"
    }
   },
   "outputs": [
    {
     "data": {
      "text/plain": "building_type     \nMultifamily           69\nCommercial Retail     50\nCommercial Office     46\nHealthcare            16\nFood/Beverage         13\nK-12 School            9\nCollege/University     7\nHospitality            7\nNot For Profit         5\n                       2\nChemicals              1\nManufacturing          1\ndtype: int64"
     },
     "execution_count": 6,
     "metadata": {},
     "output_type": "execute_result"
    }
   ],
   "source": [
    "# Get Building Types to DataFrame\n",
    "building_types = all_buildings[['info.customerType']].rename(columns={'info.customerType': 'building_type'})\n",
    "# Copy DataFrame to the Clipboard for README.md\n",
    "pd.io.clipboards.to_clipboard(building_types.value_counts().to_markdown(), excel=False)\n",
    "building_types.value_counts()"
   ]
  },
  {
   "cell_type": "code",
   "execution_count": 7,
   "metadata": {
    "pycharm": {
     "name": "#%%\n"
    }
   },
   "outputs": [
    {
     "name": "stdout",
     "output_type": "stream",
     "text": [
      "<class 'pandas.core.frame.DataFrame'>\n",
      "Int64Index: 229 entries, 140 to 399\n",
      "Data columns (total 25 columns):\n",
      " #   Column             Non-Null Count  Dtype  \n",
      "---  ------             --------------  -----  \n",
      " 0   org_id             229 non-null    int64  \n",
      " 1   name               229 non-null    object \n",
      " 2   address            0 non-null      object \n",
      " 3   sq_ft              202 non-null    float64\n",
      " 4   image_src          0 non-null      object \n",
      " 5   bms_manufacturer   0 non-null      object \n",
      " 6   bms_product_name   0 non-null      object \n",
      " 7   bms_version        0 non-null      object \n",
      " 8   timezone           229 non-null    object \n",
      " 9   status             229 non-null    object \n",
      " 10  equip_count        229 non-null    int64  \n",
      " 11  point_count        229 non-null    int64  \n",
      " 12  info.floors        224 non-null    object \n",
      " 13  info.m2fend        224 non-null    object \n",
      " 14  info.satend        223 non-null    object \n",
      " 15  info.sunend        223 non-null    object \n",
      " 16  info.geoCity       226 non-null    object \n",
      " 17  info.geoState      226 non-null    object \n",
      " 18  info.m2fstart      224 non-null    object \n",
      " 19  info.satstart      223 non-null    object \n",
      " 20  info.sunstart      223 non-null    object \n",
      " 21  info.yearBuilt     224 non-null    object \n",
      " 22  info.geoCountry    226 non-null    object \n",
      " 23  info.weatherRef    223 non-null    object \n",
      " 24  info.customerType  226 non-null    object \n",
      "dtypes: float64(1), int64(3), object(21)\n",
      "memory usage: 46.5+ KB\n"
     ]
    }
   ],
   "source": [
    "all_buildings.info()"
   ]
  },
  {
   "cell_type": "code",
   "execution_count": 8,
   "metadata": {
    "pycharm": {
     "name": "#%%\n"
    }
   },
   "outputs": [
    {
     "data": {
      "text/plain": "                         name_long name_abbr   data_type  raw_encoding  \\\nid                                                                       \n23                         Unknown         ?        None           NaN   \n21                          Enable    Enable      Binary           NaN   \n22                   Heat/Cool/Off     H/C/O        Enum           NaN   \n31                   Ordinal Value   Ordinal     Ordinal           NaN   \n34                          Ampere         A  Continuous           NaN   \n..                             ...       ...         ...           ...   \n85             Standard Cubic Foot      SFt3  Continuous           NaN   \n86         Kilojoules per Kilogram     kJ/kg  Continuous           NaN   \n87                           Pulse     pulse  Continuous           NaN   \n88       Kilo British Thermal Unit      kBTU  Continuous           NaN   \n89  Kilo British Thermal Unit/hour   kBTU/hr  Continuous           NaN   \n\n    display_encoding                                          qudt  \\\nid                                                                   \n23               NaN                                          None   \n21               NaN                                          None   \n22               NaN                                          None   \n31               NaN                                          None   \n34               NaN                  http://qudt.org/vocab/unit/A   \n..               ...                                           ...   \n85               NaN       http://qudt.org/vocab/unit/SFT3-NAT-GAS   \n86               NaN   http://qudt.org/vocab/unit/KiloJ-PER-KiloGM   \n87               NaN                http://qudt.org/vocab/unit/NUM   \n88               NaN         http://qudt.org/vocab/unit/KiloBTU_IT   \n89               NaN  http://qudt.org/vocab/unit/KiloBTU_IT-PER-HR   \n\n                                            unit_type raw_encoding.0  \\\nid                                                                     \n23                                               None            NaN   \n21                                               None      [disable]   \n22                                               None          [off]   \n31                                               None            NaN   \n34  http://qudt.org/vocab/quantitykind/ElectricCur...            NaN   \n..                                                ...            ...   \n85          http://qudt.org/vocab/quantitykind/Energy            NaN   \n86  http://qudt.org/vocab/quantitykind/SpecificEnergy            NaN   \n87   http://qudt.org/vocab/quantitykind/Dimensionless            NaN   \n88          http://qudt.org/vocab/quantitykind/Energy            NaN   \n89           http://qudt.org/vocab/quantitykind/Power            NaN   \n\n   raw_encoding.1 display_encoding.0 display_encoding.1 raw_encoding.2  \\\nid                                                                       \n23            NaN                NaN                NaN            NaN   \n21       [enable]            Disable             Enable            NaN   \n22         [heat]                Off               Heat         [cool]   \n31            NaN                NaN                NaN            NaN   \n34            NaN                NaN                NaN            NaN   \n..            ...                ...                ...            ...   \n85            NaN                NaN                NaN            NaN   \n86            NaN                NaN                NaN            NaN   \n87            NaN                NaN                NaN            NaN   \n88            NaN                NaN                NaN            NaN   \n89            NaN                NaN                NaN            NaN   \n\n   display_encoding.2  \nid                     \n23                NaN  \n21                NaN  \n22                Off  \n31                NaN  \n34                NaN  \n..                ...  \n85                NaN  \n86                NaN  \n87                NaN  \n88                NaN  \n89                NaN  \n\n[82 rows x 13 columns]",
      "text/html": "<div>\n<style scoped>\n    .dataframe tbody tr th:only-of-type {\n        vertical-align: middle;\n    }\n\n    .dataframe tbody tr th {\n        vertical-align: top;\n    }\n\n    .dataframe thead th {\n        text-align: right;\n    }\n</style>\n<table border=\"1\" class=\"dataframe\">\n  <thead>\n    <tr style=\"text-align: right;\">\n      <th></th>\n      <th>name_long</th>\n      <th>name_abbr</th>\n      <th>data_type</th>\n      <th>raw_encoding</th>\n      <th>display_encoding</th>\n      <th>qudt</th>\n      <th>unit_type</th>\n      <th>raw_encoding.0</th>\n      <th>raw_encoding.1</th>\n      <th>display_encoding.0</th>\n      <th>display_encoding.1</th>\n      <th>raw_encoding.2</th>\n      <th>display_encoding.2</th>\n    </tr>\n    <tr>\n      <th>id</th>\n      <th></th>\n      <th></th>\n      <th></th>\n      <th></th>\n      <th></th>\n      <th></th>\n      <th></th>\n      <th></th>\n      <th></th>\n      <th></th>\n      <th></th>\n      <th></th>\n      <th></th>\n    </tr>\n  </thead>\n  <tbody>\n    <tr>\n      <th>23</th>\n      <td>Unknown</td>\n      <td>?</td>\n      <td>None</td>\n      <td>NaN</td>\n      <td>NaN</td>\n      <td>None</td>\n      <td>None</td>\n      <td>NaN</td>\n      <td>NaN</td>\n      <td>NaN</td>\n      <td>NaN</td>\n      <td>NaN</td>\n      <td>NaN</td>\n    </tr>\n    <tr>\n      <th>21</th>\n      <td>Enable</td>\n      <td>Enable</td>\n      <td>Binary</td>\n      <td>NaN</td>\n      <td>NaN</td>\n      <td>None</td>\n      <td>None</td>\n      <td>[disable]</td>\n      <td>[enable]</td>\n      <td>Disable</td>\n      <td>Enable</td>\n      <td>NaN</td>\n      <td>NaN</td>\n    </tr>\n    <tr>\n      <th>22</th>\n      <td>Heat/Cool/Off</td>\n      <td>H/C/O</td>\n      <td>Enum</td>\n      <td>NaN</td>\n      <td>NaN</td>\n      <td>None</td>\n      <td>None</td>\n      <td>[off]</td>\n      <td>[heat]</td>\n      <td>Off</td>\n      <td>Heat</td>\n      <td>[cool]</td>\n      <td>Off</td>\n    </tr>\n    <tr>\n      <th>31</th>\n      <td>Ordinal Value</td>\n      <td>Ordinal</td>\n      <td>Ordinal</td>\n      <td>NaN</td>\n      <td>NaN</td>\n      <td>None</td>\n      <td>None</td>\n      <td>NaN</td>\n      <td>NaN</td>\n      <td>NaN</td>\n      <td>NaN</td>\n      <td>NaN</td>\n      <td>NaN</td>\n    </tr>\n    <tr>\n      <th>34</th>\n      <td>Ampere</td>\n      <td>A</td>\n      <td>Continuous</td>\n      <td>NaN</td>\n      <td>NaN</td>\n      <td>http://qudt.org/vocab/unit/A</td>\n      <td>http://qudt.org/vocab/quantitykind/ElectricCur...</td>\n      <td>NaN</td>\n      <td>NaN</td>\n      <td>NaN</td>\n      <td>NaN</td>\n      <td>NaN</td>\n      <td>NaN</td>\n    </tr>\n    <tr>\n      <th>...</th>\n      <td>...</td>\n      <td>...</td>\n      <td>...</td>\n      <td>...</td>\n      <td>...</td>\n      <td>...</td>\n      <td>...</td>\n      <td>...</td>\n      <td>...</td>\n      <td>...</td>\n      <td>...</td>\n      <td>...</td>\n      <td>...</td>\n    </tr>\n    <tr>\n      <th>85</th>\n      <td>Standard Cubic Foot</td>\n      <td>SFt3</td>\n      <td>Continuous</td>\n      <td>NaN</td>\n      <td>NaN</td>\n      <td>http://qudt.org/vocab/unit/SFT3-NAT-GAS</td>\n      <td>http://qudt.org/vocab/quantitykind/Energy</td>\n      <td>NaN</td>\n      <td>NaN</td>\n      <td>NaN</td>\n      <td>NaN</td>\n      <td>NaN</td>\n      <td>NaN</td>\n    </tr>\n    <tr>\n      <th>86</th>\n      <td>Kilojoules per Kilogram</td>\n      <td>kJ/kg</td>\n      <td>Continuous</td>\n      <td>NaN</td>\n      <td>NaN</td>\n      <td>http://qudt.org/vocab/unit/KiloJ-PER-KiloGM</td>\n      <td>http://qudt.org/vocab/quantitykind/SpecificEnergy</td>\n      <td>NaN</td>\n      <td>NaN</td>\n      <td>NaN</td>\n      <td>NaN</td>\n      <td>NaN</td>\n      <td>NaN</td>\n    </tr>\n    <tr>\n      <th>87</th>\n      <td>Pulse</td>\n      <td>pulse</td>\n      <td>Continuous</td>\n      <td>NaN</td>\n      <td>NaN</td>\n      <td>http://qudt.org/vocab/unit/NUM</td>\n      <td>http://qudt.org/vocab/quantitykind/Dimensionless</td>\n      <td>NaN</td>\n      <td>NaN</td>\n      <td>NaN</td>\n      <td>NaN</td>\n      <td>NaN</td>\n      <td>NaN</td>\n    </tr>\n    <tr>\n      <th>88</th>\n      <td>Kilo British Thermal Unit</td>\n      <td>kBTU</td>\n      <td>Continuous</td>\n      <td>NaN</td>\n      <td>NaN</td>\n      <td>http://qudt.org/vocab/unit/KiloBTU_IT</td>\n      <td>http://qudt.org/vocab/quantitykind/Energy</td>\n      <td>NaN</td>\n      <td>NaN</td>\n      <td>NaN</td>\n      <td>NaN</td>\n      <td>NaN</td>\n      <td>NaN</td>\n    </tr>\n    <tr>\n      <th>89</th>\n      <td>Kilo British Thermal Unit/hour</td>\n      <td>kBTU/hr</td>\n      <td>Continuous</td>\n      <td>NaN</td>\n      <td>NaN</td>\n      <td>http://qudt.org/vocab/unit/KiloBTU_IT-PER-HR</td>\n      <td>http://qudt.org/vocab/quantitykind/Power</td>\n      <td>NaN</td>\n      <td>NaN</td>\n      <td>NaN</td>\n      <td>NaN</td>\n      <td>NaN</td>\n      <td>NaN</td>\n    </tr>\n  </tbody>\n</table>\n<p>82 rows × 13 columns</p>\n</div>"
     },
     "execution_count": 8,
     "metadata": {},
     "output_type": "execute_result"
    }
   ],
   "source": [
    "all_units = pd.json_normalize(client.get_all_units()).set_index('id')\n",
    "all_units"
   ]
  },
  {
   "cell_type": "code",
   "execution_count": 9,
   "metadata": {
    "pycharm": {
     "name": "#%%\n"
    }
   },
   "outputs": [
    {
     "data": {
      "text/plain": "                        name_long name_abbr\nid                                         \n49                      Air Dryer     DRYER\n12              Air Handling Unit       AHU\n45                        Battery      BATT\n19                         Boiler       BLR\n20            Chilled Water Plant      CHWS\n21                        Chiller        CH\n48             Cogeneration Plant     COGEN\n47  Computer Room Air Conditioner      CRAC\n22                      Condenser      COND\n44            Constant Air Volume       CAV\n23                  Cooling Tower        CT\n50                     Dry Cooler    COOLER\n39                    Duct Heater      DUCT\n24               Electrical Panel      ELEC\n41                       Elevator      ELEV\n25                     Evaporator      EVAP\n26                            Fan       FAN\n9                   Fan Coil Unit       FCU\n54          Fire Safety Equipment  FIRESFTY\n43                      Fume Hood      FUME\n28                 Heat Exchanger        HX\n29                      Heat Pump        HP\n30                Hot Water Plant       HWS\n51                     Humidifier       HUM\n55                  Leak Detector      LEAK\n42                Lighting System     LIGHT\n31                          Meter     METER\n32                           Pump      PUMP\n40                 Radiant System   RADIANT\n53             Security Equipment  SECURITY\n52                          Shade     SHADE\n37                   Site Sensors      SITE\n33                           Tank      TANK\n34                Unit Ventilator        UV\n38                       Untagged      NONE\n7             Variable Air Volume       VAV\n36      Variable Refrigerant Flow       VRF\n46                        Virtual      VIRT\n57                     Water Loop     WLOOP",
      "text/html": "<div>\n<style scoped>\n    .dataframe tbody tr th:only-of-type {\n        vertical-align: middle;\n    }\n\n    .dataframe tbody tr th {\n        vertical-align: top;\n    }\n\n    .dataframe thead th {\n        text-align: right;\n    }\n</style>\n<table border=\"1\" class=\"dataframe\">\n  <thead>\n    <tr style=\"text-align: right;\">\n      <th></th>\n      <th>name_long</th>\n      <th>name_abbr</th>\n    </tr>\n    <tr>\n      <th>id</th>\n      <th></th>\n      <th></th>\n    </tr>\n  </thead>\n  <tbody>\n    <tr>\n      <th>49</th>\n      <td>Air Dryer</td>\n      <td>DRYER</td>\n    </tr>\n    <tr>\n      <th>12</th>\n      <td>Air Handling Unit</td>\n      <td>AHU</td>\n    </tr>\n    <tr>\n      <th>45</th>\n      <td>Battery</td>\n      <td>BATT</td>\n    </tr>\n    <tr>\n      <th>19</th>\n      <td>Boiler</td>\n      <td>BLR</td>\n    </tr>\n    <tr>\n      <th>20</th>\n      <td>Chilled Water Plant</td>\n      <td>CHWS</td>\n    </tr>\n    <tr>\n      <th>21</th>\n      <td>Chiller</td>\n      <td>CH</td>\n    </tr>\n    <tr>\n      <th>48</th>\n      <td>Cogeneration Plant</td>\n      <td>COGEN</td>\n    </tr>\n    <tr>\n      <th>47</th>\n      <td>Computer Room Air Conditioner</td>\n      <td>CRAC</td>\n    </tr>\n    <tr>\n      <th>22</th>\n      <td>Condenser</td>\n      <td>COND</td>\n    </tr>\n    <tr>\n      <th>44</th>\n      <td>Constant Air Volume</td>\n      <td>CAV</td>\n    </tr>\n    <tr>\n      <th>23</th>\n      <td>Cooling Tower</td>\n      <td>CT</td>\n    </tr>\n    <tr>\n      <th>50</th>\n      <td>Dry Cooler</td>\n      <td>COOLER</td>\n    </tr>\n    <tr>\n      <th>39</th>\n      <td>Duct Heater</td>\n      <td>DUCT</td>\n    </tr>\n    <tr>\n      <th>24</th>\n      <td>Electrical Panel</td>\n      <td>ELEC</td>\n    </tr>\n    <tr>\n      <th>41</th>\n      <td>Elevator</td>\n      <td>ELEV</td>\n    </tr>\n    <tr>\n      <th>25</th>\n      <td>Evaporator</td>\n      <td>EVAP</td>\n    </tr>\n    <tr>\n      <th>26</th>\n      <td>Fan</td>\n      <td>FAN</td>\n    </tr>\n    <tr>\n      <th>9</th>\n      <td>Fan Coil Unit</td>\n      <td>FCU</td>\n    </tr>\n    <tr>\n      <th>54</th>\n      <td>Fire Safety Equipment</td>\n      <td>FIRESFTY</td>\n    </tr>\n    <tr>\n      <th>43</th>\n      <td>Fume Hood</td>\n      <td>FUME</td>\n    </tr>\n    <tr>\n      <th>28</th>\n      <td>Heat Exchanger</td>\n      <td>HX</td>\n    </tr>\n    <tr>\n      <th>29</th>\n      <td>Heat Pump</td>\n      <td>HP</td>\n    </tr>\n    <tr>\n      <th>30</th>\n      <td>Hot Water Plant</td>\n      <td>HWS</td>\n    </tr>\n    <tr>\n      <th>51</th>\n      <td>Humidifier</td>\n      <td>HUM</td>\n    </tr>\n    <tr>\n      <th>55</th>\n      <td>Leak Detector</td>\n      <td>LEAK</td>\n    </tr>\n    <tr>\n      <th>42</th>\n      <td>Lighting System</td>\n      <td>LIGHT</td>\n    </tr>\n    <tr>\n      <th>31</th>\n      <td>Meter</td>\n      <td>METER</td>\n    </tr>\n    <tr>\n      <th>32</th>\n      <td>Pump</td>\n      <td>PUMP</td>\n    </tr>\n    <tr>\n      <th>40</th>\n      <td>Radiant System</td>\n      <td>RADIANT</td>\n    </tr>\n    <tr>\n      <th>53</th>\n      <td>Security Equipment</td>\n      <td>SECURITY</td>\n    </tr>\n    <tr>\n      <th>52</th>\n      <td>Shade</td>\n      <td>SHADE</td>\n    </tr>\n    <tr>\n      <th>37</th>\n      <td>Site Sensors</td>\n      <td>SITE</td>\n    </tr>\n    <tr>\n      <th>33</th>\n      <td>Tank</td>\n      <td>TANK</td>\n    </tr>\n    <tr>\n      <th>34</th>\n      <td>Unit Ventilator</td>\n      <td>UV</td>\n    </tr>\n    <tr>\n      <th>38</th>\n      <td>Untagged</td>\n      <td>NONE</td>\n    </tr>\n    <tr>\n      <th>7</th>\n      <td>Variable Air Volume</td>\n      <td>VAV</td>\n    </tr>\n    <tr>\n      <th>36</th>\n      <td>Variable Refrigerant Flow</td>\n      <td>VRF</td>\n    </tr>\n    <tr>\n      <th>46</th>\n      <td>Virtual</td>\n      <td>VIRT</td>\n    </tr>\n    <tr>\n      <th>57</th>\n      <td>Water Loop</td>\n      <td>WLOOP</td>\n    </tr>\n  </tbody>\n</table>\n</div>"
     },
     "execution_count": 9,
     "metadata": {},
     "output_type": "execute_result"
    }
   ],
   "source": [
    "equip_types = pd.json_normalize(client.get_equipment_types())\n",
    "equip_types[['id', 'name_long', 'name_abbr']].sort_values('name_long').set_index('id')"
   ]
  },
  {
   "cell_type": "code",
   "execution_count": 10,
   "outputs": [
    {
     "data": {
      "text/plain": "       building_id            equip_id suffix equip_type_name  equip_type_id  \\\nid                                                                             \n28797          441            boiler-1      1          Boiler             19   \n28798          441            boiler-2      2          Boiler             19   \n28799          441            boiler-3      3          Boiler             19   \n28800          441            boiler-4      4          Boiler             19   \n28801          441            boiler-5      5          Boiler             19   \n...            ...                 ...    ...             ...            ...   \n32354          399    chilledWaterPump   None            Pump             32   \n32355          399  chilledWaterPump-4      4            Pump             32   \n32356          399           condenser   None       Condenser             22   \n32357          399  condenserWaterPump   None            Pump             32   \n32358          399      elecMeter-site   site           Meter             31   \n\n      equip_type_abbr equip_type_tag    equip_subtype_name  equip_subtype_id  \\\nid                                                                             \n28797             BLR         boiler                  None               NaN   \n28798             BLR         boiler                  None               NaN   \n28799             BLR         boiler                  None               NaN   \n28800             BLR         boiler                  None               NaN   \n28801             BLR         boiler                  None               NaN   \n...               ...            ...                   ...               ...   \n32354            PUMP           pump    Chilled Water Pump              20.0   \n32355            PUMP           pump    Chilled Water Pump              20.0   \n32356            COND      condenser                  None               NaN   \n32357            PUMP           pump  Condenser Water Pump              26.0   \n32358           METER          meter      Electrical Meter              16.0   \n\n        equip_subtype_tag  flow_order floor_num_physical floor_num_served  \\\nid                                                                          \n28797                None           1               None             None   \n28798                None           1               None             None   \n28799                None           1               None             None   \n28800                None           1               None             None   \n28801                None           1               None             None   \n...                   ...         ...                ...              ...   \n32354    chilledWaterPump           1               None             None   \n32355    chilledWaterPump           1               None             None   \n32356                None           1               None             None   \n32357  condenserWaterPump           1               None             None   \n32358           elecMeter           5               None             None   \n\n      area_served_desc equip_dis parent_equip child_equip  \\\nid                                                          \n28797             None      None      [28803]          []   \n28798             None      None      [28803]          []   \n28799             None      None      [28803]          []   \n28800             None      None      [28803]          []   \n28801             None      None      [28803]          []   \n...                ...       ...          ...         ...   \n32354             None      None      [22751]          []   \n32355             None      None      [22751]          []   \n32356             None      None           []          []   \n32357             None      None           []          []   \n32358             None      None           []          []   \n\n                                                  points  \\\nid                                                         \n28797  [{'id': 310029, 'building_id': 441, 'last_upda...   \n28798  [{'id': 310079, 'building_id': 441, 'last_upda...   \n28799  [{'id': 310108, 'building_id': 441, 'last_upda...   \n28800  [{'id': 310144, 'building_id': 441, 'last_upda...   \n28801  [{'id': 310152, 'building_id': 441, 'last_upda...   \n...                                                  ...   \n32354  [{'id': 231126, 'building_id': 399, 'last_upda...   \n32355  [{'id': 359904, 'building_id': 399, 'last_upda...   \n32356  [{'id': 231136, 'building_id': 399, 'last_upda...   \n32357  [{'id': 231132, 'building_id': 399, 'last_upda...   \n32358  [{'id': 359906, 'building_id': 399, 'last_upda...   \n\n                                   tags  \nid                                       \n28797                    [boiler, hvac]  \n28798                    [boiler, hvac]  \n28799                    [boiler, hvac]  \n28800                    [boiler, hvac]  \n28801                    [boiler, hvac]  \n...                                 ...  \n32354    [pump, hvac, chilledWaterPump]  \n32355    [pump, hvac, chilledWaterPump]  \n32356                 [hvac, condenser]  \n32357  [pump, hvac, condenserWaterPump]  \n32358                [meter, elecMeter]  \n\n[5910 rows x 19 columns]",
      "text/html": "<div>\n<style scoped>\n    .dataframe tbody tr th:only-of-type {\n        vertical-align: middle;\n    }\n\n    .dataframe tbody tr th {\n        vertical-align: top;\n    }\n\n    .dataframe thead th {\n        text-align: right;\n    }\n</style>\n<table border=\"1\" class=\"dataframe\">\n  <thead>\n    <tr style=\"text-align: right;\">\n      <th></th>\n      <th>building_id</th>\n      <th>equip_id</th>\n      <th>suffix</th>\n      <th>equip_type_name</th>\n      <th>equip_type_id</th>\n      <th>equip_type_abbr</th>\n      <th>equip_type_tag</th>\n      <th>equip_subtype_name</th>\n      <th>equip_subtype_id</th>\n      <th>equip_subtype_tag</th>\n      <th>flow_order</th>\n      <th>floor_num_physical</th>\n      <th>floor_num_served</th>\n      <th>area_served_desc</th>\n      <th>equip_dis</th>\n      <th>parent_equip</th>\n      <th>child_equip</th>\n      <th>points</th>\n      <th>tags</th>\n    </tr>\n    <tr>\n      <th>id</th>\n      <th></th>\n      <th></th>\n      <th></th>\n      <th></th>\n      <th></th>\n      <th></th>\n      <th></th>\n      <th></th>\n      <th></th>\n      <th></th>\n      <th></th>\n      <th></th>\n      <th></th>\n      <th></th>\n      <th></th>\n      <th></th>\n      <th></th>\n      <th></th>\n      <th></th>\n    </tr>\n  </thead>\n  <tbody>\n    <tr>\n      <th>28797</th>\n      <td>441</td>\n      <td>boiler-1</td>\n      <td>1</td>\n      <td>Boiler</td>\n      <td>19</td>\n      <td>BLR</td>\n      <td>boiler</td>\n      <td>None</td>\n      <td>NaN</td>\n      <td>None</td>\n      <td>1</td>\n      <td>None</td>\n      <td>None</td>\n      <td>None</td>\n      <td>None</td>\n      <td>[28803]</td>\n      <td>[]</td>\n      <td>[{'id': 310029, 'building_id': 441, 'last_upda...</td>\n      <td>[boiler, hvac]</td>\n    </tr>\n    <tr>\n      <th>28798</th>\n      <td>441</td>\n      <td>boiler-2</td>\n      <td>2</td>\n      <td>Boiler</td>\n      <td>19</td>\n      <td>BLR</td>\n      <td>boiler</td>\n      <td>None</td>\n      <td>NaN</td>\n      <td>None</td>\n      <td>1</td>\n      <td>None</td>\n      <td>None</td>\n      <td>None</td>\n      <td>None</td>\n      <td>[28803]</td>\n      <td>[]</td>\n      <td>[{'id': 310079, 'building_id': 441, 'last_upda...</td>\n      <td>[boiler, hvac]</td>\n    </tr>\n    <tr>\n      <th>28799</th>\n      <td>441</td>\n      <td>boiler-3</td>\n      <td>3</td>\n      <td>Boiler</td>\n      <td>19</td>\n      <td>BLR</td>\n      <td>boiler</td>\n      <td>None</td>\n      <td>NaN</td>\n      <td>None</td>\n      <td>1</td>\n      <td>None</td>\n      <td>None</td>\n      <td>None</td>\n      <td>None</td>\n      <td>[28803]</td>\n      <td>[]</td>\n      <td>[{'id': 310108, 'building_id': 441, 'last_upda...</td>\n      <td>[boiler, hvac]</td>\n    </tr>\n    <tr>\n      <th>28800</th>\n      <td>441</td>\n      <td>boiler-4</td>\n      <td>4</td>\n      <td>Boiler</td>\n      <td>19</td>\n      <td>BLR</td>\n      <td>boiler</td>\n      <td>None</td>\n      <td>NaN</td>\n      <td>None</td>\n      <td>1</td>\n      <td>None</td>\n      <td>None</td>\n      <td>None</td>\n      <td>None</td>\n      <td>[28803]</td>\n      <td>[]</td>\n      <td>[{'id': 310144, 'building_id': 441, 'last_upda...</td>\n      <td>[boiler, hvac]</td>\n    </tr>\n    <tr>\n      <th>28801</th>\n      <td>441</td>\n      <td>boiler-5</td>\n      <td>5</td>\n      <td>Boiler</td>\n      <td>19</td>\n      <td>BLR</td>\n      <td>boiler</td>\n      <td>None</td>\n      <td>NaN</td>\n      <td>None</td>\n      <td>1</td>\n      <td>None</td>\n      <td>None</td>\n      <td>None</td>\n      <td>None</td>\n      <td>[28803]</td>\n      <td>[]</td>\n      <td>[{'id': 310152, 'building_id': 441, 'last_upda...</td>\n      <td>[boiler, hvac]</td>\n    </tr>\n    <tr>\n      <th>...</th>\n      <td>...</td>\n      <td>...</td>\n      <td>...</td>\n      <td>...</td>\n      <td>...</td>\n      <td>...</td>\n      <td>...</td>\n      <td>...</td>\n      <td>...</td>\n      <td>...</td>\n      <td>...</td>\n      <td>...</td>\n      <td>...</td>\n      <td>...</td>\n      <td>...</td>\n      <td>...</td>\n      <td>...</td>\n      <td>...</td>\n      <td>...</td>\n    </tr>\n    <tr>\n      <th>32354</th>\n      <td>399</td>\n      <td>chilledWaterPump</td>\n      <td>None</td>\n      <td>Pump</td>\n      <td>32</td>\n      <td>PUMP</td>\n      <td>pump</td>\n      <td>Chilled Water Pump</td>\n      <td>20.0</td>\n      <td>chilledWaterPump</td>\n      <td>1</td>\n      <td>None</td>\n      <td>None</td>\n      <td>None</td>\n      <td>None</td>\n      <td>[22751]</td>\n      <td>[]</td>\n      <td>[{'id': 231126, 'building_id': 399, 'last_upda...</td>\n      <td>[pump, hvac, chilledWaterPump]</td>\n    </tr>\n    <tr>\n      <th>32355</th>\n      <td>399</td>\n      <td>chilledWaterPump-4</td>\n      <td>4</td>\n      <td>Pump</td>\n      <td>32</td>\n      <td>PUMP</td>\n      <td>pump</td>\n      <td>Chilled Water Pump</td>\n      <td>20.0</td>\n      <td>chilledWaterPump</td>\n      <td>1</td>\n      <td>None</td>\n      <td>None</td>\n      <td>None</td>\n      <td>None</td>\n      <td>[22751]</td>\n      <td>[]</td>\n      <td>[{'id': 359904, 'building_id': 399, 'last_upda...</td>\n      <td>[pump, hvac, chilledWaterPump]</td>\n    </tr>\n    <tr>\n      <th>32356</th>\n      <td>399</td>\n      <td>condenser</td>\n      <td>None</td>\n      <td>Condenser</td>\n      <td>22</td>\n      <td>COND</td>\n      <td>condenser</td>\n      <td>None</td>\n      <td>NaN</td>\n      <td>None</td>\n      <td>1</td>\n      <td>None</td>\n      <td>None</td>\n      <td>None</td>\n      <td>None</td>\n      <td>[]</td>\n      <td>[]</td>\n      <td>[{'id': 231136, 'building_id': 399, 'last_upda...</td>\n      <td>[hvac, condenser]</td>\n    </tr>\n    <tr>\n      <th>32357</th>\n      <td>399</td>\n      <td>condenserWaterPump</td>\n      <td>None</td>\n      <td>Pump</td>\n      <td>32</td>\n      <td>PUMP</td>\n      <td>pump</td>\n      <td>Condenser Water Pump</td>\n      <td>26.0</td>\n      <td>condenserWaterPump</td>\n      <td>1</td>\n      <td>None</td>\n      <td>None</td>\n      <td>None</td>\n      <td>None</td>\n      <td>[]</td>\n      <td>[]</td>\n      <td>[{'id': 231132, 'building_id': 399, 'last_upda...</td>\n      <td>[pump, hvac, condenserWaterPump]</td>\n    </tr>\n    <tr>\n      <th>32358</th>\n      <td>399</td>\n      <td>elecMeter-site</td>\n      <td>site</td>\n      <td>Meter</td>\n      <td>31</td>\n      <td>METER</td>\n      <td>meter</td>\n      <td>Electrical Meter</td>\n      <td>16.0</td>\n      <td>elecMeter</td>\n      <td>5</td>\n      <td>None</td>\n      <td>None</td>\n      <td>None</td>\n      <td>None</td>\n      <td>[]</td>\n      <td>[]</td>\n      <td>[{'id': 359906, 'building_id': 399, 'last_upda...</td>\n      <td>[meter, elecMeter]</td>\n    </tr>\n  </tbody>\n</table>\n<p>5910 rows × 19 columns</p>\n</div>"
     },
     "execution_count": 10,
     "metadata": {},
     "output_type": "execute_result"
    }
   ],
   "source": [
    "# Beware: this request takes a WHILE\n",
    "if use_local:\n",
    "    with open('../api/equipment/all.json', 'r') as f:\n",
    "        j = json.load(f)\n",
    "        all_equipment = pd.json_normalize(j)\n",
    "else:\n",
    "    all_equipment = pd.json_normalize(client.get_all_equipment())\n",
    "all_equipment.set_index('id')"
   ],
   "metadata": {
    "collapsed": false,
    "pycharm": {
     "name": "#%%\n"
    }
   }
  },
  {
   "cell_type": "code",
   "execution_count": 11,
   "metadata": {
    "pycharm": {
     "name": "#%%\n"
    }
   },
   "outputs": [
    {
     "data": {
      "text/plain": "Air Handling Unit            1144\nMeter                         800\nFan                           776\nVariable Air Volume           715\nPump                          509\nSite Sensors                  372\nFan Coil Unit                 366\nUnit Ventilator               193\nChiller                       155\nElectrical Panel              153\nBoiler                        138\nLighting System                76\nRadiant System                 70\nCooling Tower                  65\nVirtual                        65\nBattery                        61\nHot Water Plant                60\nHeat Exchanger                 57\nChilled Water Plant            51\nHeat Pump                      34\nCondenser                      18\nElevator                       16\nVariable Refrigerant Flow      10\nDuct Heater                     3\nTank                            2\nDry Cooler                      1\nName: equip_type_name, dtype: int64"
     },
     "execution_count": 11,
     "metadata": {},
     "output_type": "execute_result"
    }
   ],
   "source": [
    "all_equipment['equip_type_name'].value_counts()"
   ]
  },
  {
   "cell_type": "code",
   "execution_count": 12,
   "metadata": {
    "pycharm": {
     "name": "#%%\n"
    }
   },
   "outputs": [
    {
     "data": {
      "text/plain": "                 name\nid                   \n10          Occupancy\n57      Dimensionless\n11             On/Off\n17        Motor Speed\n31             Torque\n7            Position\n12             Enable\n15         Open/Close\n26              State\n36           Schedule\n39           Gas Flow\n23         Percentage\n20     Reactive Power\n27              Floor\n33       Power Factor\n34    Reactive Energy\n18            Unknown\n2            Humidity\n13              Power\n21     Apparent Power\n5          Water Flow\n52        Illuminance\n37       Air Pressure\n32    Apparent Energy\n24           Enthalpy\n55             Volume\n38    Linear Velocity\n8               Stage\n28            Current\n30            Voltage\n6       Concentration\n29          Frequency\n54         Resistance\n4            Air Flow\n53              Level\n1         Temperature\n22  Water Consumption\n3            Pressure\n14             Energy\n35           Duration\n9          Steam Flow",
      "text/html": "<div>\n<style scoped>\n    .dataframe tbody tr th:only-of-type {\n        vertical-align: middle;\n    }\n\n    .dataframe tbody tr th {\n        vertical-align: top;\n    }\n\n    .dataframe thead th {\n        text-align: right;\n    }\n</style>\n<table border=\"1\" class=\"dataframe\">\n  <thead>\n    <tr style=\"text-align: right;\">\n      <th></th>\n      <th>name</th>\n    </tr>\n    <tr>\n      <th>id</th>\n      <th></th>\n    </tr>\n  </thead>\n  <tbody>\n    <tr>\n      <th>10</th>\n      <td>Occupancy</td>\n    </tr>\n    <tr>\n      <th>57</th>\n      <td>Dimensionless</td>\n    </tr>\n    <tr>\n      <th>11</th>\n      <td>On/Off</td>\n    </tr>\n    <tr>\n      <th>17</th>\n      <td>Motor Speed</td>\n    </tr>\n    <tr>\n      <th>31</th>\n      <td>Torque</td>\n    </tr>\n    <tr>\n      <th>7</th>\n      <td>Position</td>\n    </tr>\n    <tr>\n      <th>12</th>\n      <td>Enable</td>\n    </tr>\n    <tr>\n      <th>15</th>\n      <td>Open/Close</td>\n    </tr>\n    <tr>\n      <th>26</th>\n      <td>State</td>\n    </tr>\n    <tr>\n      <th>36</th>\n      <td>Schedule</td>\n    </tr>\n    <tr>\n      <th>39</th>\n      <td>Gas Flow</td>\n    </tr>\n    <tr>\n      <th>23</th>\n      <td>Percentage</td>\n    </tr>\n    <tr>\n      <th>20</th>\n      <td>Reactive Power</td>\n    </tr>\n    <tr>\n      <th>27</th>\n      <td>Floor</td>\n    </tr>\n    <tr>\n      <th>33</th>\n      <td>Power Factor</td>\n    </tr>\n    <tr>\n      <th>34</th>\n      <td>Reactive Energy</td>\n    </tr>\n    <tr>\n      <th>18</th>\n      <td>Unknown</td>\n    </tr>\n    <tr>\n      <th>2</th>\n      <td>Humidity</td>\n    </tr>\n    <tr>\n      <th>13</th>\n      <td>Power</td>\n    </tr>\n    <tr>\n      <th>21</th>\n      <td>Apparent Power</td>\n    </tr>\n    <tr>\n      <th>5</th>\n      <td>Water Flow</td>\n    </tr>\n    <tr>\n      <th>52</th>\n      <td>Illuminance</td>\n    </tr>\n    <tr>\n      <th>37</th>\n      <td>Air Pressure</td>\n    </tr>\n    <tr>\n      <th>32</th>\n      <td>Apparent Energy</td>\n    </tr>\n    <tr>\n      <th>24</th>\n      <td>Enthalpy</td>\n    </tr>\n    <tr>\n      <th>55</th>\n      <td>Volume</td>\n    </tr>\n    <tr>\n      <th>38</th>\n      <td>Linear Velocity</td>\n    </tr>\n    <tr>\n      <th>8</th>\n      <td>Stage</td>\n    </tr>\n    <tr>\n      <th>28</th>\n      <td>Current</td>\n    </tr>\n    <tr>\n      <th>30</th>\n      <td>Voltage</td>\n    </tr>\n    <tr>\n      <th>6</th>\n      <td>Concentration</td>\n    </tr>\n    <tr>\n      <th>29</th>\n      <td>Frequency</td>\n    </tr>\n    <tr>\n      <th>54</th>\n      <td>Resistance</td>\n    </tr>\n    <tr>\n      <th>4</th>\n      <td>Air Flow</td>\n    </tr>\n    <tr>\n      <th>53</th>\n      <td>Level</td>\n    </tr>\n    <tr>\n      <th>1</th>\n      <td>Temperature</td>\n    </tr>\n    <tr>\n      <th>22</th>\n      <td>Water Consumption</td>\n    </tr>\n    <tr>\n      <th>3</th>\n      <td>Pressure</td>\n    </tr>\n    <tr>\n      <th>14</th>\n      <td>Energy</td>\n    </tr>\n    <tr>\n      <th>35</th>\n      <td>Duration</td>\n    </tr>\n    <tr>\n      <th>9</th>\n      <td>Steam Flow</td>\n    </tr>\n  </tbody>\n</table>\n</div>"
     },
     "execution_count": 12,
     "metadata": {},
     "output_type": "execute_result"
    }
   ],
   "source": [
    "all_measurements = pd.json_normalize(client.get_all_measurements())\n",
    "all_measurements[['id', 'name']].set_index('id')"
   ]
  },
  {
   "cell_type": "code",
   "execution_count": 13,
   "metadata": {
    "pycharm": {
     "name": "#%%\n"
    }
   },
   "outputs": [
    {
     "data": {
      "text/plain": "      id                                  tag_name  active  measurement_id  \\\n0    124                 Occupied Heating Setpoint    True               1   \n1    118                Outside Air Carbon Dioxide    True               6   \n2    130           Return Air Temperature Setpoint    True               1   \n3     84  Dual-Temp Coil Discharge Air Temperature    True               1   \n4     81     Reheat Coil Discharge Air Temperature    True               1   \n..   ...                                       ...     ...             ...   \n647  754       Evaporator Water Return Temperature    True               1   \n648  755       Evaporator Water Supply Temperature    True               1   \n649  756                     Water Supply Pressure    True               3   \n650  757                     Water Return Pressure    True               3   \n651   46                                  untagged    True              18   \n\n                 tag_set_ids                                            tags  \\\n0     [15, 2, 4, 62, 51, 55]             [air, sp, temp, zone, heating, occ]   \n1             [15, 8, 1, 24]                     [air, co2, sensor, outside]   \n2             [15, 2, 4, 63]                         [air, sp, temp, return]   \n3    [15, 36, 47, 1, 4, 250]  [air, discharge, dualTemp, sensor, temp, coil]   \n4    [15, 36, 44, 1, 4, 250]   [air, discharge, reheats, sensor, temp, coil]   \n..                       ...                                             ...   \n647       [16, 40, 1, 4, 98]     [water, entering, sensor, temp, evaporator]   \n648       [16, 39, 1, 4, 98]      [water, leaving, sensor, temp, evaporator]   \n649           [16, 39, 1, 6]              [water, leaving, sensor, pressure]   \n650           [16, 40, 1, 6]             [water, entering, sensor, pressure]   \n651                       []                                              []   \n\n    default_unit_id  \n0              None  \n1              None  \n2              None  \n3              None  \n4              None  \n..              ...  \n647            None  \n648            None  \n649            None  \n650            None  \n651            None  \n\n[652 rows x 7 columns]",
      "text/html": "<div>\n<style scoped>\n    .dataframe tbody tr th:only-of-type {\n        vertical-align: middle;\n    }\n\n    .dataframe tbody tr th {\n        vertical-align: top;\n    }\n\n    .dataframe thead th {\n        text-align: right;\n    }\n</style>\n<table border=\"1\" class=\"dataframe\">\n  <thead>\n    <tr style=\"text-align: right;\">\n      <th></th>\n      <th>id</th>\n      <th>tag_name</th>\n      <th>active</th>\n      <th>measurement_id</th>\n      <th>tag_set_ids</th>\n      <th>tags</th>\n      <th>default_unit_id</th>\n    </tr>\n  </thead>\n  <tbody>\n    <tr>\n      <th>0</th>\n      <td>124</td>\n      <td>Occupied Heating Setpoint</td>\n      <td>True</td>\n      <td>1</td>\n      <td>[15, 2, 4, 62, 51, 55]</td>\n      <td>[air, sp, temp, zone, heating, occ]</td>\n      <td>None</td>\n    </tr>\n    <tr>\n      <th>1</th>\n      <td>118</td>\n      <td>Outside Air Carbon Dioxide</td>\n      <td>True</td>\n      <td>6</td>\n      <td>[15, 8, 1, 24]</td>\n      <td>[air, co2, sensor, outside]</td>\n      <td>None</td>\n    </tr>\n    <tr>\n      <th>2</th>\n      <td>130</td>\n      <td>Return Air Temperature Setpoint</td>\n      <td>True</td>\n      <td>1</td>\n      <td>[15, 2, 4, 63]</td>\n      <td>[air, sp, temp, return]</td>\n      <td>None</td>\n    </tr>\n    <tr>\n      <th>3</th>\n      <td>84</td>\n      <td>Dual-Temp Coil Discharge Air Temperature</td>\n      <td>True</td>\n      <td>1</td>\n      <td>[15, 36, 47, 1, 4, 250]</td>\n      <td>[air, discharge, dualTemp, sensor, temp, coil]</td>\n      <td>None</td>\n    </tr>\n    <tr>\n      <th>4</th>\n      <td>81</td>\n      <td>Reheat Coil Discharge Air Temperature</td>\n      <td>True</td>\n      <td>1</td>\n      <td>[15, 36, 44, 1, 4, 250]</td>\n      <td>[air, discharge, reheats, sensor, temp, coil]</td>\n      <td>None</td>\n    </tr>\n    <tr>\n      <th>...</th>\n      <td>...</td>\n      <td>...</td>\n      <td>...</td>\n      <td>...</td>\n      <td>...</td>\n      <td>...</td>\n      <td>...</td>\n    </tr>\n    <tr>\n      <th>647</th>\n      <td>754</td>\n      <td>Evaporator Water Return Temperature</td>\n      <td>True</td>\n      <td>1</td>\n      <td>[16, 40, 1, 4, 98]</td>\n      <td>[water, entering, sensor, temp, evaporator]</td>\n      <td>None</td>\n    </tr>\n    <tr>\n      <th>648</th>\n      <td>755</td>\n      <td>Evaporator Water Supply Temperature</td>\n      <td>True</td>\n      <td>1</td>\n      <td>[16, 39, 1, 4, 98]</td>\n      <td>[water, leaving, sensor, temp, evaporator]</td>\n      <td>None</td>\n    </tr>\n    <tr>\n      <th>649</th>\n      <td>756</td>\n      <td>Water Supply Pressure</td>\n      <td>True</td>\n      <td>3</td>\n      <td>[16, 39, 1, 6]</td>\n      <td>[water, leaving, sensor, pressure]</td>\n      <td>None</td>\n    </tr>\n    <tr>\n      <th>650</th>\n      <td>757</td>\n      <td>Water Return Pressure</td>\n      <td>True</td>\n      <td>3</td>\n      <td>[16, 40, 1, 6]</td>\n      <td>[water, entering, sensor, pressure]</td>\n      <td>None</td>\n    </tr>\n    <tr>\n      <th>651</th>\n      <td>46</td>\n      <td>untagged</td>\n      <td>True</td>\n      <td>18</td>\n      <td>[]</td>\n      <td>[]</td>\n      <td>None</td>\n    </tr>\n  </tbody>\n</table>\n<p>652 rows × 7 columns</p>\n</div>"
     },
     "execution_count": 13,
     "metadata": {},
     "output_type": "execute_result"
    }
   ],
   "source": [
    "point_types = pd.json_normalize(client.get_all_point_types())\n",
    "point_types.join(all_measurements[['id', 'name']]\n",
    "                 .set_index('id'), on='measurement_id').set_index('id')[['tag_name', 'name']].rename(columns={\n",
    "    'name': 'measurement_type',\n",
    "    'tag_name': 'point_type'\n",
    "})\n",
    "point_types"
   ]
  },
  {
   "cell_type": "code",
   "execution_count": 14,
   "outputs": [
    {
     "data": {
      "text/plain": "        building_id  last_updated  first_updated device network_device  \\\nid                                                                       \n310029          441  1.560571e+12   1.550542e+12   None           None   \n310009          441  1.560485e+12   1.550701e+12   None           None   \n310010          441  1.560571e+12   1.550504e+12   None           None   \n310011          441  1.560485e+12   1.550504e+12   None           None   \n310012          441  1.560485e+12   1.550504e+12   None           None   \n...             ...           ...            ...    ...            ...   \n359906          399  1.596254e+12   1.580533e+12   None           None   \n359905          399  1.589532e+12   1.580533e+12   None           None   \n231120          399  1.543640e+12   1.528909e+12                  None   \n231119          399  1.559361e+12   1.543640e+12                  None   \n231118          399  1.552640e+12   1.546232e+12                  None   \n\n       objectId                                   name            description  \\\nid                                                                              \n310029     None    245 E 149th St. Boiler-1 Fault Code                   None   \n310009     None  225 E 149th St. Boiler-1 Exhaust Temp                   None   \n310010     None    225 E 149th St. Boiler-1 Fault Code                   None   \n310011     None     225 E 149th St. Boiler-1 FFWD Temp                   None   \n310012     None  225 E 149th St. Boiler-1 Fire Rate In                   None   \n...         ...                                    ...                    ...   \n359906     None                       Main Meter kW_v1                   None   \n359905     None                       Main Meter kW_v0                   None   \n231120                           Building Demand_value  Building Demand_value   \n231119                              Building Demand_v1     Building Demand_v1   \n231118                              Building Demand_v0     Building Demand_v0   \n\n       units tagged_units  ...  measurement_id  \\\nid                         ...                   \n310029     ?            ?  ...              18   \n310009     F            f  ...               1   \n310010     ?            ?  ...              18   \n310011     ?            ?  ...              18   \n310012     ?            ?  ...              18   \n...      ...          ...  ...             ...   \n359906  None           kw  ...              13   \n359905  None           kw  ...              13   \n231120    kW            ?  ...              18   \n231119    kW            ?  ...              18   \n231118    kW            ?  ...              18   \n\n                         datasource_hash  \\\nid                                         \n310029  b115b5053493748f7076ad09f69c4456   \n310009  4a1a11502acee3078352da312c40c262   \n310010  55882633fe8fb5aac7dac643c99b1af5   \n310011  831a8df09b848f53e807fa0204c45eaa   \n310012  aa147c829c7ed55b6e93cdbbb8b43d55   \n...                                  ...   \n359906  66e321814268c37187fe46120a91ea01   \n359905  0d67a5188df9184da502b013c6d9ae11   \n231120  26ace99b6d6d2692b3d5ae723f489241   \n231119  0cb2239dcfc357e1c3a34d3e0401fe19   \n231118  85480508025745f21f3724ad592405fa   \n\n                                                    topic  state_text  \\\nid                                                                      \n310029  nyserda+0000088737+boiler-1+245 E 149th St. Bo...         NaN   \n310009  nyserda+0000088737+boiler-1+225 E 149th St. Bo...         NaN   \n310010  nyserda+0000088737+boiler-1+225 E 149th St. Bo...         NaN   \n310011  nyserda+0000088737+boiler-1+225 E 149th St. Bo...         NaN   \n310012  nyserda+0000088737+boiler-1+225 E 149th St. Bo...         NaN   \n...                                                   ...         ...   \n359906  nyserda+0000097151+elecMeter-site+Main Meter k...         NaN   \n359905  nyserda+0000097151+elecMeter-site+Main Meter k...         NaN   \n231120  nyserda+0000097151+Site-Sensor+Building Demand...         NaN   \n231119  nyserda+0000097151+Site-Sensor+Building Demand_v1         NaN   \n231118  nyserda+0000097151+Site-Sensor+Building Demand_v0         NaN   \n\n        equip_id state_text.1 state_text.2  state_text.3  state_text.4  \\\nid                                                                       \n310029     28797          NaN          NaN           NaN           NaN   \n310009     28797          NaN          NaN           NaN           NaN   \n310010     28797          NaN          NaN           NaN           NaN   \n310011     28797          NaN          NaN           NaN           NaN   \n310012     28797          NaN          NaN           NaN           NaN   \n...          ...          ...          ...           ...           ...   \n359906     32358          NaN          NaN           NaN           NaN   \n359905     32358          NaN          NaN           NaN           NaN   \n231120     32358          NaN          NaN           NaN           NaN   \n231119     32358          NaN          NaN           NaN           NaN   \n231118     32358          NaN          NaN           NaN           NaN   \n\n       state_text.5  \nid                   \n310029          NaN  \n310009          NaN  \n310010          NaN  \n310011          NaN  \n310012          NaN  \n...             ...  \n359906          NaN  \n359905          NaN  \n231120          NaN  \n231119          NaN  \n231118          NaN  \n\n[44262 rows x 24 columns]",
      "text/html": "<div>\n<style scoped>\n    .dataframe tbody tr th:only-of-type {\n        vertical-align: middle;\n    }\n\n    .dataframe tbody tr th {\n        vertical-align: top;\n    }\n\n    .dataframe thead th {\n        text-align: right;\n    }\n</style>\n<table border=\"1\" class=\"dataframe\">\n  <thead>\n    <tr style=\"text-align: right;\">\n      <th></th>\n      <th>building_id</th>\n      <th>last_updated</th>\n      <th>first_updated</th>\n      <th>device</th>\n      <th>network_device</th>\n      <th>objectId</th>\n      <th>name</th>\n      <th>description</th>\n      <th>units</th>\n      <th>tagged_units</th>\n      <th>...</th>\n      <th>measurement_id</th>\n      <th>datasource_hash</th>\n      <th>topic</th>\n      <th>state_text</th>\n      <th>equip_id</th>\n      <th>state_text.1</th>\n      <th>state_text.2</th>\n      <th>state_text.3</th>\n      <th>state_text.4</th>\n      <th>state_text.5</th>\n    </tr>\n    <tr>\n      <th>id</th>\n      <th></th>\n      <th></th>\n      <th></th>\n      <th></th>\n      <th></th>\n      <th></th>\n      <th></th>\n      <th></th>\n      <th></th>\n      <th></th>\n      <th></th>\n      <th></th>\n      <th></th>\n      <th></th>\n      <th></th>\n      <th></th>\n      <th></th>\n      <th></th>\n      <th></th>\n      <th></th>\n      <th></th>\n    </tr>\n  </thead>\n  <tbody>\n    <tr>\n      <th>310029</th>\n      <td>441</td>\n      <td>1.560571e+12</td>\n      <td>1.550542e+12</td>\n      <td>None</td>\n      <td>None</td>\n      <td>None</td>\n      <td>245 E 149th St. Boiler-1 Fault Code</td>\n      <td>None</td>\n      <td>?</td>\n      <td>?</td>\n      <td>...</td>\n      <td>18</td>\n      <td>b115b5053493748f7076ad09f69c4456</td>\n      <td>nyserda+0000088737+boiler-1+245 E 149th St. Bo...</td>\n      <td>NaN</td>\n      <td>28797</td>\n      <td>NaN</td>\n      <td>NaN</td>\n      <td>NaN</td>\n      <td>NaN</td>\n      <td>NaN</td>\n    </tr>\n    <tr>\n      <th>310009</th>\n      <td>441</td>\n      <td>1.560485e+12</td>\n      <td>1.550701e+12</td>\n      <td>None</td>\n      <td>None</td>\n      <td>None</td>\n      <td>225 E 149th St. Boiler-1 Exhaust Temp</td>\n      <td>None</td>\n      <td>F</td>\n      <td>f</td>\n      <td>...</td>\n      <td>1</td>\n      <td>4a1a11502acee3078352da312c40c262</td>\n      <td>nyserda+0000088737+boiler-1+225 E 149th St. Bo...</td>\n      <td>NaN</td>\n      <td>28797</td>\n      <td>NaN</td>\n      <td>NaN</td>\n      <td>NaN</td>\n      <td>NaN</td>\n      <td>NaN</td>\n    </tr>\n    <tr>\n      <th>310010</th>\n      <td>441</td>\n      <td>1.560571e+12</td>\n      <td>1.550504e+12</td>\n      <td>None</td>\n      <td>None</td>\n      <td>None</td>\n      <td>225 E 149th St. Boiler-1 Fault Code</td>\n      <td>None</td>\n      <td>?</td>\n      <td>?</td>\n      <td>...</td>\n      <td>18</td>\n      <td>55882633fe8fb5aac7dac643c99b1af5</td>\n      <td>nyserda+0000088737+boiler-1+225 E 149th St. Bo...</td>\n      <td>NaN</td>\n      <td>28797</td>\n      <td>NaN</td>\n      <td>NaN</td>\n      <td>NaN</td>\n      <td>NaN</td>\n      <td>NaN</td>\n    </tr>\n    <tr>\n      <th>310011</th>\n      <td>441</td>\n      <td>1.560485e+12</td>\n      <td>1.550504e+12</td>\n      <td>None</td>\n      <td>None</td>\n      <td>None</td>\n      <td>225 E 149th St. Boiler-1 FFWD Temp</td>\n      <td>None</td>\n      <td>?</td>\n      <td>?</td>\n      <td>...</td>\n      <td>18</td>\n      <td>831a8df09b848f53e807fa0204c45eaa</td>\n      <td>nyserda+0000088737+boiler-1+225 E 149th St. Bo...</td>\n      <td>NaN</td>\n      <td>28797</td>\n      <td>NaN</td>\n      <td>NaN</td>\n      <td>NaN</td>\n      <td>NaN</td>\n      <td>NaN</td>\n    </tr>\n    <tr>\n      <th>310012</th>\n      <td>441</td>\n      <td>1.560485e+12</td>\n      <td>1.550504e+12</td>\n      <td>None</td>\n      <td>None</td>\n      <td>None</td>\n      <td>225 E 149th St. Boiler-1 Fire Rate In</td>\n      <td>None</td>\n      <td>?</td>\n      <td>?</td>\n      <td>...</td>\n      <td>18</td>\n      <td>aa147c829c7ed55b6e93cdbbb8b43d55</td>\n      <td>nyserda+0000088737+boiler-1+225 E 149th St. Bo...</td>\n      <td>NaN</td>\n      <td>28797</td>\n      <td>NaN</td>\n      <td>NaN</td>\n      <td>NaN</td>\n      <td>NaN</td>\n      <td>NaN</td>\n    </tr>\n    <tr>\n      <th>...</th>\n      <td>...</td>\n      <td>...</td>\n      <td>...</td>\n      <td>...</td>\n      <td>...</td>\n      <td>...</td>\n      <td>...</td>\n      <td>...</td>\n      <td>...</td>\n      <td>...</td>\n      <td>...</td>\n      <td>...</td>\n      <td>...</td>\n      <td>...</td>\n      <td>...</td>\n      <td>...</td>\n      <td>...</td>\n      <td>...</td>\n      <td>...</td>\n      <td>...</td>\n      <td>...</td>\n    </tr>\n    <tr>\n      <th>359906</th>\n      <td>399</td>\n      <td>1.596254e+12</td>\n      <td>1.580533e+12</td>\n      <td>None</td>\n      <td>None</td>\n      <td>None</td>\n      <td>Main Meter kW_v1</td>\n      <td>None</td>\n      <td>None</td>\n      <td>kw</td>\n      <td>...</td>\n      <td>13</td>\n      <td>66e321814268c37187fe46120a91ea01</td>\n      <td>nyserda+0000097151+elecMeter-site+Main Meter k...</td>\n      <td>NaN</td>\n      <td>32358</td>\n      <td>NaN</td>\n      <td>NaN</td>\n      <td>NaN</td>\n      <td>NaN</td>\n      <td>NaN</td>\n    </tr>\n    <tr>\n      <th>359905</th>\n      <td>399</td>\n      <td>1.589532e+12</td>\n      <td>1.580533e+12</td>\n      <td>None</td>\n      <td>None</td>\n      <td>None</td>\n      <td>Main Meter kW_v0</td>\n      <td>None</td>\n      <td>None</td>\n      <td>kw</td>\n      <td>...</td>\n      <td>13</td>\n      <td>0d67a5188df9184da502b013c6d9ae11</td>\n      <td>nyserda+0000097151+elecMeter-site+Main Meter k...</td>\n      <td>NaN</td>\n      <td>32358</td>\n      <td>NaN</td>\n      <td>NaN</td>\n      <td>NaN</td>\n      <td>NaN</td>\n      <td>NaN</td>\n    </tr>\n    <tr>\n      <th>231120</th>\n      <td>399</td>\n      <td>1.543640e+12</td>\n      <td>1.528909e+12</td>\n      <td></td>\n      <td>None</td>\n      <td></td>\n      <td>Building Demand_value</td>\n      <td>Building Demand_value</td>\n      <td>kW</td>\n      <td>?</td>\n      <td>...</td>\n      <td>18</td>\n      <td>26ace99b6d6d2692b3d5ae723f489241</td>\n      <td>nyserda+0000097151+Site-Sensor+Building Demand...</td>\n      <td>NaN</td>\n      <td>32358</td>\n      <td>NaN</td>\n      <td>NaN</td>\n      <td>NaN</td>\n      <td>NaN</td>\n      <td>NaN</td>\n    </tr>\n    <tr>\n      <th>231119</th>\n      <td>399</td>\n      <td>1.559361e+12</td>\n      <td>1.543640e+12</td>\n      <td></td>\n      <td>None</td>\n      <td></td>\n      <td>Building Demand_v1</td>\n      <td>Building Demand_v1</td>\n      <td>kW</td>\n      <td>?</td>\n      <td>...</td>\n      <td>18</td>\n      <td>0cb2239dcfc357e1c3a34d3e0401fe19</td>\n      <td>nyserda+0000097151+Site-Sensor+Building Demand_v1</td>\n      <td>NaN</td>\n      <td>32358</td>\n      <td>NaN</td>\n      <td>NaN</td>\n      <td>NaN</td>\n      <td>NaN</td>\n      <td>NaN</td>\n    </tr>\n    <tr>\n      <th>231118</th>\n      <td>399</td>\n      <td>1.552640e+12</td>\n      <td>1.546232e+12</td>\n      <td></td>\n      <td>None</td>\n      <td></td>\n      <td>Building Demand_v0</td>\n      <td>Building Demand_v0</td>\n      <td>kW</td>\n      <td>?</td>\n      <td>...</td>\n      <td>18</td>\n      <td>85480508025745f21f3724ad592405fa</td>\n      <td>nyserda+0000097151+Site-Sensor+Building Demand_v0</td>\n      <td>NaN</td>\n      <td>32358</td>\n      <td>NaN</td>\n      <td>NaN</td>\n      <td>NaN</td>\n      <td>NaN</td>\n      <td>NaN</td>\n    </tr>\n  </tbody>\n</table>\n<p>44262 rows × 24 columns</p>\n</div>"
     },
     "execution_count": 14,
     "metadata": {},
     "output_type": "execute_result"
    }
   ],
   "source": [
    "if use_local:\n",
    "    with open('../api/points/all.json', 'r') as f:\n",
    "        j = json.load(f)\n",
    "        all_points = pd.json_normalize(j).set_index('id')\n",
    "else:\n",
    "    all_points = pd.json_normalize(client.get_all_points()).set_index('id')\n",
    "all_points"
   ],
   "metadata": {
    "collapsed": false,
    "pycharm": {
     "name": "#%%\n"
    }
   }
  },
  {
   "cell_type": "markdown",
   "source": [
    "## What kinds of equipment are common across all buildings?\n",
    "- How many buildings have which particular pieces of equipment?\n",
    "- What buildings have the most data?\n",
    "- What building is the most representative?\n",
    "- What data has the most buildings?"
   ],
   "metadata": {
    "collapsed": false,
    "pycharm": {
     "name": "#%% md\n"
    }
   }
  },
  {
   "cell_type": "code",
   "execution_count": 15,
   "outputs": [
    {
     "data": {
      "text/plain": "420    6068\n354    2507\n119    1980\n259    1681\n101    1405\n441    1293\n162    1224\n286    1183\n470    1140\n438    1111\n324    1108\n426     959\n452     867\n190     777\n387     713\n417     599\n418     506\n423     463\n378     444\n279     415\nName: building_id, dtype: int64"
     },
     "execution_count": 15,
     "metadata": {},
     "output_type": "execute_result"
    }
   ],
   "source": [
    "# Buildings with the most points\n",
    "all_points['building_id'].value_counts().head(20)"
   ],
   "metadata": {
    "collapsed": false,
    "pycharm": {
     "name": "#%%\n"
    }
   }
  },
  {
   "cell_type": "markdown",
   "source": [
    "_Building 420 has the most data points, nice._"
   ],
   "metadata": {
    "collapsed": false
   }
  },
  {
   "cell_type": "code",
   "execution_count": 16,
   "outputs": [
    {
     "data": {
      "text/plain": "420    342\n418    222\n438    221\n259    218\n470    205\n354    197\n452    189\n162    179\n423    139\n134    129\n99     126\n118    122\n120    120\n119    111\n190    110\n487     94\n426     92\n230     91\n489     85\n384     84\nName: building_id, dtype: int64"
     },
     "execution_count": 16,
     "metadata": {},
     "output_type": "execute_result"
    }
   ],
   "source": [
    "# Top 20 Buildings with the most equipment\n",
    "all_equipment['building_id'].value_counts().head(20)"
   ],
   "metadata": {
    "collapsed": false,
    "pycharm": {
     "name": "#%%\n"
    }
   }
  },
  {
   "cell_type": "code",
   "execution_count": 17,
   "outputs": [
    {
     "data": {
      "text/plain": "Air Handling Unit            11342\nVariable Air Volume           9554\nSite Sensors                  4450\nFan Coil Unit                 3934\nVirtual                       2186\nUnit Ventilator               1989\nFan                           1935\nChiller                       1574\nPump                          1524\nMeter                         1267\nBoiler                        1227\nHot Water Plant                669\nChilled Water Plant            488\nHeat Pump                      435\nHeat Exchanger                 403\nRadiant System                 386\nCooling Tower                  300\nElectrical Panel               273\nLighting System                106\nCondenser                       78\nBattery                         61\nElevator                        29\nVariable Refrigerant Flow       24\nDry Cooler                      15\nTank                             8\nDuct Heater                      5\nName: equip_type_name, dtype: int64"
     },
     "execution_count": 17,
     "metadata": {},
     "output_type": "execute_result"
    }
   ],
   "source": [
    "equipment_names = all_equipment.set_index('id')[['equip_type_name', 'equip_type_tag', 'building_id',\n",
    "                                                 'equip_subtype_name']]\n",
    "\n",
    "all_points.join(equipment_names, on='equip_id', rsuffix='equipment')['equip_type_name'].value_counts()"
   ],
   "metadata": {
    "collapsed": false,
    "pycharm": {
     "name": "#%%\n"
    }
   }
  },
  {
   "cell_type": "code",
   "execution_count": 18,
   "outputs": [
    {
     "data": {
      "text/plain": "        building_id equip_type_name  \\\nid                                    \n344965          441           Meter   \n344964          441           Meter   \n344963          441           Meter   \n344962          441           Meter   \n203559          191           Meter   \n...             ...             ...   \n359906          399           Meter   \n359905          399           Meter   \n231120          399           Meter   \n231119          399           Meter   \n231118          399           Meter   \n\n                                                     name  \\\nid                                                          \n344965            225 E 149th St. Water Meter Water Meter   \n344964  225 E 149th St. Basement Common Meter Water Ga...   \n344963            245 E 149th St. Water Meter Water Meter   \n344962          245 E 149th St. Water Meter Gallons Total   \n203559                                                      \n...                                                   ...   \n359906                                   Main Meter kW_v1   \n359905                                   Main Meter kW_v0   \n231120                              Building Demand_value   \n231119                                 Building Demand_v1   \n231118                                 Building Demand_v0   \n\n                  description units  \nid                                   \n344965                   None   gal  \n344964                   None   gal  \n344963                   None   gal  \n344962                   None   gal  \n203559             Main Power   kWh  \n...                       ...   ...  \n359906                   None  None  \n359905                   None  None  \n231120  Building Demand_value    kW  \n231119     Building Demand_v1    kW  \n231118     Building Demand_v0    kW  \n\n[1267 rows x 5 columns]",
      "text/html": "<div>\n<style scoped>\n    .dataframe tbody tr th:only-of-type {\n        vertical-align: middle;\n    }\n\n    .dataframe tbody tr th {\n        vertical-align: top;\n    }\n\n    .dataframe thead th {\n        text-align: right;\n    }\n</style>\n<table border=\"1\" class=\"dataframe\">\n  <thead>\n    <tr style=\"text-align: right;\">\n      <th></th>\n      <th>building_id</th>\n      <th>equip_type_name</th>\n      <th>name</th>\n      <th>description</th>\n      <th>units</th>\n    </tr>\n    <tr>\n      <th>id</th>\n      <th></th>\n      <th></th>\n      <th></th>\n      <th></th>\n      <th></th>\n    </tr>\n  </thead>\n  <tbody>\n    <tr>\n      <th>344965</th>\n      <td>441</td>\n      <td>Meter</td>\n      <td>225 E 149th St. Water Meter Water Meter</td>\n      <td>None</td>\n      <td>gal</td>\n    </tr>\n    <tr>\n      <th>344964</th>\n      <td>441</td>\n      <td>Meter</td>\n      <td>225 E 149th St. Basement Common Meter Water Ga...</td>\n      <td>None</td>\n      <td>gal</td>\n    </tr>\n    <tr>\n      <th>344963</th>\n      <td>441</td>\n      <td>Meter</td>\n      <td>245 E 149th St. Water Meter Water Meter</td>\n      <td>None</td>\n      <td>gal</td>\n    </tr>\n    <tr>\n      <th>344962</th>\n      <td>441</td>\n      <td>Meter</td>\n      <td>245 E 149th St. Water Meter Gallons Total</td>\n      <td>None</td>\n      <td>gal</td>\n    </tr>\n    <tr>\n      <th>203559</th>\n      <td>191</td>\n      <td>Meter</td>\n      <td></td>\n      <td>Main Power</td>\n      <td>kWh</td>\n    </tr>\n    <tr>\n      <th>...</th>\n      <td>...</td>\n      <td>...</td>\n      <td>...</td>\n      <td>...</td>\n      <td>...</td>\n    </tr>\n    <tr>\n      <th>359906</th>\n      <td>399</td>\n      <td>Meter</td>\n      <td>Main Meter kW_v1</td>\n      <td>None</td>\n      <td>None</td>\n    </tr>\n    <tr>\n      <th>359905</th>\n      <td>399</td>\n      <td>Meter</td>\n      <td>Main Meter kW_v0</td>\n      <td>None</td>\n      <td>None</td>\n    </tr>\n    <tr>\n      <th>231120</th>\n      <td>399</td>\n      <td>Meter</td>\n      <td>Building Demand_value</td>\n      <td>Building Demand_value</td>\n      <td>kW</td>\n    </tr>\n    <tr>\n      <th>231119</th>\n      <td>399</td>\n      <td>Meter</td>\n      <td>Building Demand_v1</td>\n      <td>Building Demand_v1</td>\n      <td>kW</td>\n    </tr>\n    <tr>\n      <th>231118</th>\n      <td>399</td>\n      <td>Meter</td>\n      <td>Building Demand_v0</td>\n      <td>Building Demand_v0</td>\n      <td>kW</td>\n    </tr>\n  </tbody>\n</table>\n<p>1267 rows × 5 columns</p>\n</div>"
     },
     "execution_count": 18,
     "metadata": {},
     "output_type": "execute_result"
    }
   ],
   "source": [
    "points_w_meas_names = all_points.join(equipment_names, on='equip_id', rsuffix='equipment')\n",
    "meter_equipment = points_w_meas_names.loc[points_w_meas_names['equip_type_name'] == 'Meter'][['building_id',\n",
    "                                                         'equip_type_name',\n",
    "                                                         'name',\n",
    "                                                         'description',\n",
    "                                                         'units']]\n",
    "meter_equipment"
   ],
   "metadata": {
    "collapsed": false,
    "pycharm": {
     "name": "#%%\n"
    }
   }
  },
  {
   "cell_type": "code",
   "execution_count": 19,
   "outputs": [
    {
     "data": {
      "text/plain": "        building_id equip_type_name  \\\nid                                    \n310850          441    Site Sensors   \n310287          441    Site Sensors   \n310350          441    Site Sensors   \n310397          441    Site Sensors   \n310426          441    Site Sensors   \n...             ...             ...   \n230932          398    Site Sensors   \n230936          398    Site Sensors   \n230943          398    Site Sensors   \n230941          398    Site Sensors   \n230937          398    Site Sensors   \n\n                                                     name  \\\nid                                                          \n310850  235 E 149th St. Floor-07 Apartment-J APT 07J T...   \n310287  225 E 149th St. Floor-03 Apartment-M APT 03M T...   \n310350  225 E 149th St. Floor-05 Apartment-J APT 05J T...   \n310397  225 E 149th St. Floor-06 Apt-06E Zone Zone Tem...   \n310426  225 E 149th St. Floor-07 Apt-07A Zone Zone Tem...   \n...                                                   ...   \n230932                                                      \n230936                                                      \n230943                                                      \n230941                                                      \n230937                                                      \n\n                                        description units  \nid                                                         \n310850                                         None     F  \n310287                                         None     F  \n310350                                         None     F  \n310397                                         None     F  \n310426                                         None     F  \n...                                             ...   ...  \n230932          Outdoor Conditions (CRAC 17-1)_OaRh     %  \n230936          Outdoor Conditions (CRAC 5-1)_OaTmp     F  \n230943  Outdoor Conditions (CRAC-23-1)_OaWetBulbTmp     F  \n230941          Outdoor Conditions (CRAC-23-1)_OaRh     %  \n230937   Outdoor Conditions (CRAC 5-1)_OaWetBulbTmp     F  \n\n[4450 rows x 5 columns]",
      "text/html": "<div>\n<style scoped>\n    .dataframe tbody tr th:only-of-type {\n        vertical-align: middle;\n    }\n\n    .dataframe tbody tr th {\n        vertical-align: top;\n    }\n\n    .dataframe thead th {\n        text-align: right;\n    }\n</style>\n<table border=\"1\" class=\"dataframe\">\n  <thead>\n    <tr style=\"text-align: right;\">\n      <th></th>\n      <th>building_id</th>\n      <th>equip_type_name</th>\n      <th>name</th>\n      <th>description</th>\n      <th>units</th>\n    </tr>\n    <tr>\n      <th>id</th>\n      <th></th>\n      <th></th>\n      <th></th>\n      <th></th>\n      <th></th>\n    </tr>\n  </thead>\n  <tbody>\n    <tr>\n      <th>310850</th>\n      <td>441</td>\n      <td>Site Sensors</td>\n      <td>235 E 149th St. Floor-07 Apartment-J APT 07J T...</td>\n      <td>None</td>\n      <td>F</td>\n    </tr>\n    <tr>\n      <th>310287</th>\n      <td>441</td>\n      <td>Site Sensors</td>\n      <td>225 E 149th St. Floor-03 Apartment-M APT 03M T...</td>\n      <td>None</td>\n      <td>F</td>\n    </tr>\n    <tr>\n      <th>310350</th>\n      <td>441</td>\n      <td>Site Sensors</td>\n      <td>225 E 149th St. Floor-05 Apartment-J APT 05J T...</td>\n      <td>None</td>\n      <td>F</td>\n    </tr>\n    <tr>\n      <th>310397</th>\n      <td>441</td>\n      <td>Site Sensors</td>\n      <td>225 E 149th St. Floor-06 Apt-06E Zone Zone Tem...</td>\n      <td>None</td>\n      <td>F</td>\n    </tr>\n    <tr>\n      <th>310426</th>\n      <td>441</td>\n      <td>Site Sensors</td>\n      <td>225 E 149th St. Floor-07 Apt-07A Zone Zone Tem...</td>\n      <td>None</td>\n      <td>F</td>\n    </tr>\n    <tr>\n      <th>...</th>\n      <td>...</td>\n      <td>...</td>\n      <td>...</td>\n      <td>...</td>\n      <td>...</td>\n    </tr>\n    <tr>\n      <th>230932</th>\n      <td>398</td>\n      <td>Site Sensors</td>\n      <td></td>\n      <td>Outdoor Conditions (CRAC 17-1)_OaRh</td>\n      <td>%</td>\n    </tr>\n    <tr>\n      <th>230936</th>\n      <td>398</td>\n      <td>Site Sensors</td>\n      <td></td>\n      <td>Outdoor Conditions (CRAC 5-1)_OaTmp</td>\n      <td>F</td>\n    </tr>\n    <tr>\n      <th>230943</th>\n      <td>398</td>\n      <td>Site Sensors</td>\n      <td></td>\n      <td>Outdoor Conditions (CRAC-23-1)_OaWetBulbTmp</td>\n      <td>F</td>\n    </tr>\n    <tr>\n      <th>230941</th>\n      <td>398</td>\n      <td>Site Sensors</td>\n      <td></td>\n      <td>Outdoor Conditions (CRAC-23-1)_OaRh</td>\n      <td>%</td>\n    </tr>\n    <tr>\n      <th>230937</th>\n      <td>398</td>\n      <td>Site Sensors</td>\n      <td></td>\n      <td>Outdoor Conditions (CRAC 5-1)_OaWetBulbTmp</td>\n      <td>F</td>\n    </tr>\n  </tbody>\n</table>\n<p>4450 rows × 5 columns</p>\n</div>"
     },
     "execution_count": 19,
     "metadata": {},
     "output_type": "execute_result"
    }
   ],
   "source": [
    "site_sensor_equipment = points_w_meas_names.loc[points_w_meas_names['equip_type_name'] == 'Site Sensors'][['building_id',\n",
    "                                                                'equip_type_name',\n",
    "                                                                'name',\n",
    "                                                                'description',\n",
    "                                                                'units']]\n",
    "site_sensor_equipment"
   ],
   "metadata": {
    "collapsed": false,
    "pycharm": {
     "name": "#%%\n"
    }
   }
  },
  {
   "cell_type": "code",
   "execution_count": 19,
   "outputs": [],
   "source": [],
   "metadata": {
    "collapsed": false,
    "pycharm": {
     "name": "#%%\n"
    }
   }
  },
  {
   "cell_type": "code",
   "execution_count": 19,
   "outputs": [],
   "source": [],
   "metadata": {
    "collapsed": false,
    "pycharm": {
     "name": "#%%\n"
    }
   }
  }
 ],
 "metadata": {
  "kernelspec": {
   "display_name": "Python 3 (ipykernel)",
   "language": "python",
   "name": "python3"
  },
  "language_info": {
   "codemirror_mode": {
    "name": "ipython",
    "version": 3
   },
   "file_extension": ".py",
   "mimetype": "text/x-python",
   "name": "python",
   "nbconvert_exporter": "python",
   "pygments_lexer": "ipython3",
   "version": "3.9.12"
  }
 },
 "nbformat": 4,
 "nbformat_minor": 1
}
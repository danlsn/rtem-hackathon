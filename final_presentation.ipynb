{
 "cells": [
  {
   "cell_type": "markdown",
   "source": [
    "# RealNYCE: Real-time New York (City) Emissions\n",
    "\n",
    "Providing insights into emissions intensity and energy sources at an electricity meter level. Leveraging Open Data\n",
    "provided by the U.S. Energy Information Administration (EIA) and the New York Independent System Operator (NYISO),\n",
    "enrich your RTEM Electricity Meter with estimated fuelmix and emission intensity data in near real-time. Reduce your\n",
    "carbon footprint by making better decisions about when and when not to use energy. Understand where the energy for\n",
    "your buildings is coming from, how much it costs, and its impact on the environment so you can make informed decisions\n",
    "about building electrification and bring about real change."
   ],
   "metadata": {
    "collapsed": false
   }
  },
  {
   "cell_type": "markdown",
   "source": [
    "## Criteria Statement\n",
    "\n",
    "### 1. Use Case Description and Demonstration\n",
    "\n",
    "<!---\n",
    "Your submission must describe how the RTEM database is instrumental in your use\n",
    "case and how the growth of this database (>700 buildings) may impact your use\n",
    "case. In addition, your use case must identify the principal actors, activities,\n",
    "interactions, minimum data schema and necessary API functionalities associated\n",
    "with your use case. Finally, your submission must contain an illustration of\n",
    "your proposed use case using the provided API and existing data records.\n",
    "-->\n",
    "\n",
    "As each day passes, the world is moving closer to a fully electric future. Our\n",
    "modern lifestyles are placing more and more pressure on the electricity grid and\n",
    "downstream energy generators to provide enough power. With Electric Cars and\n",
    "Battery Storage products becoming more prevalent—touting reduced carbon\n",
    "footprints, and energy bills—we are faced with the question, where does our\n",
    "energy come from? If you're trying to produce less greenhouse gases, there's no\n",
    "point charging your car with coal power is there?\n",
    "\n",
    "RealNYCE exists as an extension of the RTEM database, and therefore cannot exist\n",
    "without it. RealNYCE provides insights at the equipment level, calculating\n",
    "carbon emission intensity per unit of electricity as well as providing a\n",
    "breakdown of energy sources. A participating building in the RTEM program will\n",
    "be able to use their RTEM data, supercharged by RealNYCE, to identify and impact\n",
    "long-term trends in their own electricity usage. With long-term data they will\n",
    "be able to create benchmarks for greenhouse gas emissions as a basis for\n",
    "measured, and meaningful change. RealNYCE would work well with a database of\n",
    "just one building, but as the database continues to grow it creates an\n",
    "opportunity to extend the functionality of RealNYCE to compute state-wide\n",
    "benchmarks for emission intensity so building owners can compare their figures.\n",
    "\n",
    "RealNYCE is essentially a data pipeline pulling information from a variety of\n",
    "sources, and performing a series of calculations before returning a new,\n",
    "enhanced dataset. Therefore, RealNYCE requires two main types of actors:\n",
    "\n",
    "1. Providers: that make the raw data accessible to the Computers.\n",
    "2. Computers: those that process the data from the Providers.\n",
    "\n",
    "There are three principal actors that act as Providers; the U.S. Energy\n",
    "Information Administration (EIA), the New York Independent System Operator (\n",
    "NYISO), as well as the RTEM participants. Open Data from the EIA provides the\n",
    "information necessary to estimate greenhouse gas emissions by fuel type for the\n",
    "State of New York. Open Data from the NYISO provides real-time fuel-mix data for\n",
    "electricity generation, which can be combined with the emission intensity\n",
    "estimates, to calculate average emissions per unit of electricity. The final\n",
    "Provider is the RTEM database, or rather the participating building with an\n",
    "electricity meter measuring power consumption.\n",
    "\n",
    "The data from the Providers needs to be processed and joined before it has a\n",
    "chance to really shine. On their own the data is informative, but once they're\n",
    "combined you gain the opportunity measure impact and drive change. A complex\n",
    "series of steps must be undertaken by a Computer first to Extract, Transform,\n",
    "and Load the data. This role can be handled by consumer grade hardware, either\n",
    "on-site or in the cloud, and can be set to run at consistent intervals.\n",
    "\n",
    "The minimum data schema required is simply an Electricity Consumption Meter\n",
    "measured in Kilowatt Hours. However, consumption can be approximated using Power\n",
    "Meters measure in Watts and multiplied by the time period to estimate\n",
    "consumption. In the future, other on-site emissive equipment, such as Boilers\n",
    "and Co-Generation Plants, could also have their emissions estimated and\n",
    "benchmarked against the equivalent amount of electricity required. Further\n",
    "development of RealNYCE could help create a business case for the\n",
    "electrification of building infrastructure.\n",
    "\n",
    "The necessary RTEM API functionality is to read building data, and optionally\n",
    "write to a Virtual point. RealNYCE relies on the use of Pandas DataFrames to\n",
    "process the data. The use case functions in five parts:\n",
    "\n",
    "1. Gather RTEM data for the equipment you are analysing\n",
    "2. Estimate fuel source emission intensity using EIA Open Data\n",
    "3. Using NYISO fuel-mix data and EIA data, calculate average emission intensity\n",
    "4. Join RTEM consumption data with the average emission intensity\n",
    "5. Multiply energy consumption by average emission intensity\n",
    "\n",
    "After this process you are left with \"Grams of CO2\" produced for each time\n",
    "period in the original RTEM consumption data. This can be used as the basis for\n",
    "further analyses and benchmarking. They say \"what gets measured, gets managed\"\n",
    "and with the help of the RTEM database enhanced with RealNYCE, we finally have\n",
    "access to the information we need to bring about meaningful change."
   ],
   "metadata": {
    "collapsed": false
   }
  },
  {
   "cell_type": "markdown",
   "source": [
    "### 2. Market Adoption and Impact\n",
    "\n",
    "<!---\n",
    "Your submissions must describe the impact of your use case if it were integrated into the current RTEM Program. A key focus of NYSERDA is the accelerated adoption of RTEM Systems in New York State, without dependence on significant incentives/cost-share by New York State’s investor-owned utilities. As an example, use cases that demonstrate a more significant impact in growing the RTEM System Market and/or increase the confidence of building owners and operators to adopt an RTEM System will receive a higher score. The judges value technically interesting use cases; however, a high market impact is essential to receiving a high score in this category.\n",
    "-->\n",
    "\n"
   ],
   "metadata": {
    "collapsed": false
   }
  },
  {
   "cell_type": "markdown",
   "source": [
    "### 3. Decarbonisation through Electrification\n",
    "\n",
    "<!---\n",
    "Your submission must describe how your use case can promote building electrification and/or lower a building’s carbon emission intensity. Decarbonization through electrification is the process of replacing fossil fuels with electricity. Electrification examples include switching from fossil fuel-fired sources of comfort and hot water heating (e.g. natural gas boilers), to in-building air-sourced heat pump heating, geothermal heat exchangers, or through a shared thermal network for a campus or neighborhood. As an example, a use case that demonstrates an acceleration of winter heating and domestic hot water in New York State would receive a high score.\n",
    "-->\n"
   ],
   "metadata": {
    "collapsed": false
   }
  },
  {
   "cell_type": "markdown",
   "source": [
    "### 4. Ease of Implementation\n",
    "\n",
    "<!---\n",
    "Your submission must describe the ease of implementing your use case, if NYSERDA were to adopt your submission. Submissions that utilize readily available skillsets and commonly available technologies provided by generally obtainable hosted environments will receive high scores. Additionally, any novel partnerships that the participant proposes to implement their submission may be favorably scored. Conversely, use cases, which require proprietary technology or skillsets will receive a lower score.\n",
    "-->\n"
   ],
   "metadata": {
    "collapsed": false
   }
  },
  {
   "cell_type": "markdown",
   "source": [
    "### 5. Use of Open Data Sources\n",
    "\n",
    "<!---\n",
    "Your submission must describe any use of open data elements that support your use case. Use cases that significantly incorporate the provided RTEM dataset will be ranked higher than others that do not. We encourage data fusion, and use cases that leverage open and publicly available datasets. If your use case depends on an external dataset, please include in your submission how NYSERDA might easily locate and/or access these new data elements. This description will assist us in evaluating how opaque, reliable and accessible these elements are in your submission.\n",
    "-->"
   ],
   "metadata": {
    "collapsed": false
   }
  },
  {
   "cell_type": "markdown",
   "source": [
    "## Data Sources Used\n",
    "\n",
    "### U.S. Energy Information Administration\n",
    "\n",
    "#### Net Generation by State by Type of Producer by Energy Source (EIA-906, EIA-920, and EIA-923)"
   ],
   "metadata": {
    "collapsed": false
   }
  },
  {
   "cell_type": "code",
   "source": [
    "#   YEAR    STATE   TYPE OF PRODUCER                ENERGY SOURCE              GENERATION (MWh)\n",
    "#   2019\tNY\t    Total Electric Power Industry\tTotal\t                        131,603,289\n",
    "#   2019\tNY\t    Total Electric Power Industry\tCoal\t                            421,951\n",
    "#   2019\tNY\t    Total Electric Power Industry\tPumped Storage\t                   -315,589\n",
    "#   2019\tNY\t    Total Electric Power Industry\tHydroelectric Conventional\t     30,620,895\n",
    "#   2019\tNY\t    Total Electric Power Industry\tNatural Gas\t                     47,612,134\n",
    "#   2019\tNY\t    Total Electric Power Industry\tNuclear\t                         44,865,018\n",
    "#   2019\tNY\t    Total Electric Power Industry\tOther Gases\t                          1,680\n",
    "#   2019\tNY\t    Total Electric Power Industry\tOther\t                            959,727\n",
    "#   2019\tNY\t    Total Electric Power Industry\tPetroleum\t                        511,768\n",
    "#   2019\tNY\t    Total Electric Power Industry\tSolar Thermal and Photovoltaic\t    523,640\n",
    "#   2019\tNY\t    Total Electric Power Industry\tOther Biomass\t                  1,473,751\n",
    "#   2019\tNY\t    Total Electric Power Industry\tWind\t                          4,455,881\n",
    "#   2019\tNY\t    Total Electric Power Industry\tWood and Wood Derived Fuels\t        472,434"
   ],
   "metadata": {
    "collapsed": false,
    "pycharm": {
     "name": "#%%\n"
    }
   },
   "execution_count": 2,
   "outputs": []
  },
  {
   "cell_type": "markdown",
   "source": [
    "#### U.S. Electric Power Industry Estimated Emissions by State (EIA-767, EIA-906, EIA-920, and EIA-923)"
   ],
   "metadata": {
    "collapsed": false
   }
  },
  {
   "cell_type": "code",
   "execution_count": 3,
   "outputs": [],
   "source": [
    "#   YEAR    STATE   PRODUCER TYPE                   ENERGY SOURCE                          CO2    SO2      NOx\n",
    "#   2019\tNY\t    Total Electric Power Industry\tAll Sources\t                    24,806,826\t7,995\t26,183\n",
    "#   2019\tNY\t    Total Electric Power Industry\tCoal\t                           444,014\t1,174\t   482\n",
    "#   2019\tNY\t    Total Electric Power Industry\tNatural Gas\t                    22,189,747\t   91\t11,417\n",
    "#   2019\tNY\t    Total Electric Power Industry\tOther Biomass\t                         0\t    2\t 8,929\n",
    "#   2019\tNY\t    Total Electric Power Industry\tOther Gases\t                             0\t    0\t     2\n",
    "#   2019\tNY\t    Total Electric Power Industry\tOther\t                         1,671,643\t1,176\t 3,836\n",
    "#   2019\tNY\t    Total Electric Power Industry\tPetroleum\t                       501,422\t  795\t   750\n",
    "#   2019\tNY\t    Total Electric Power Industry\tWood and Wood Derived Fuels\t             0\t4,757\t   767"
   ],
   "metadata": {
    "collapsed": false,
    "pycharm": {
     "name": "#%%\n"
    }
   }
  },
  {
   "cell_type": "markdown",
   "source": [
    "\n",
    "### New York Independent System Operator (NYISO)\n",
    "\n",
    "The NYISO operates the energy markets in the State of New York and ensures the reliability of the electricity grid.\n",
    "The NYISO is charged with the long-term planning of the system and provides a comprehensive open data portal that\n",
    "publishes a variety of information about the operation of the grid.\n",
    "\n",
    "For the purposes of 'realNYCE' we are most interested in the 'Real-Time Fuel Mix' and 'Real-Time Market LBMP'.\n",
    "\n",
    "#### Real-Time Fuel Mix\n",
    "\n",
    "The 'Real-Time Fuel Mix' dataset provides a breakdown of electricity generation by 'Fuel Category' at a 5-minute time\n",
    " resolution. New York generates electricity from a variety of renewable and non-renewable sources.\n",
    "\n",
    "Electricity is generated from the following 'fuels' in the State of New York:\n",
    " - Dual Fuel\n",
    " - Natural Gas\n",
    " - Nuclear\n",
    " - Other Fossil Fuels\n",
    " - Other Renewables\n",
    " - Wind\n",
    " - Hydro\n",
    "\n",
    "From this data we can understand the amount of renewable energy generated as well as the carbon emission intensity\n",
    "(with additional information)."
   ],
   "metadata": {
    "collapsed": false
   }
  },
  {
   "cell_type": "code",
   "source": [
    "#   Time Stamp\t            Time Zone\tFuel Category\t        Gen MW\n",
    "#   06/27/2022 00:05:00\t    EDT\t        Dual Fuel\t            4050.0\n",
    "#   06/27/2022 00:05:00\t    EDT\t        Natural Gas\t            4416.0\n",
    "#   06/27/2022 00:05:00\t    EDT\t        Nuclear\t                3228.0\n",
    "#   06/27/2022 00:05:00\t    EDT\t        Other Fossil Fuels\t       0.0\n",
    "#   06/27/2022 00:05:00\t    EDT\t        Other Renewables\t     256.0"
   ],
   "metadata": {
    "collapsed": false,
    "pycharm": {
     "name": "#%%\n"
    }
   },
   "execution_count": 4,
   "outputs": []
  },
  {
   "cell_type": "markdown",
   "source": [
    "#### Real-Time Market LBMP\n",
    "\n",
    "Location-based Marginal Pricing is the wholesale price paid per Megawatt Hour of energy in a particular generation\n",
    "zone. Though end-users generally pay a fixed retail price per unit of energy, some participants may be passed on the\n",
    "wholesale price plus some nominal fees. The LBMP is a good indication of the price of electricity at any given time."
   ],
   "metadata": {
    "collapsed": false,
    "pycharm": {
     "name": "#%% md\n"
    }
   }
  },
  {
   "cell_type": "code",
   "execution_count": 1,
   "metadata": {
    "collapsed": true
   },
   "outputs": [],
   "source": [
    "#   Time Stamp\t            Name\t    PTID\t        LBMP      Marginal Cost          Marginal Cost\n",
    "#                                                   ($/MWHr)\tLosses ($/MWHr)\t   Congestion ($/MWHr)\n",
    "#   06/27/2022 00:05:00\t    CAPITL\t    61757\t       67.47\t           5.18\t                  2.39\n",
    "#   06/27/2022 00:05:00\t    CENTRL\t    61754\t       66.63\t           1.94\t                  0.00\n",
    "#   06/27/2022 00:05:00\t    DUNWOD\t    61760\t       73.50\t           6.34\t                 -2.48\n",
    "#   06/27/2022 00:05:00\t    GENESE\t    61753\t       66.43\t           1.75\t                  0.00\n",
    "#   06/27/2022 00:05:00\t    H Q\t        61844\t        0.00\t          -2.01\t                 62.68"
   ]
  },
  {
   "cell_type": "markdown",
   "source": [],
   "metadata": {
    "collapsed": false
   }
  }
 ],
 "metadata": {
  "kernelspec": {
   "display_name": "Python 3",
   "language": "python",
   "name": "python3"
  },
  "language_info": {
   "codemirror_mode": {
    "name": "ipython",
    "version": 2
   },
   "file_extension": ".py",
   "mimetype": "text/x-python",
   "name": "python",
   "nbconvert_exporter": "python",
   "pygments_lexer": "ipython2",
   "version": "2.7.6"
  }
 },
 "nbformat": 4,
 "nbformat_minor": 0
}
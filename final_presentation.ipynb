{
 "cells": [
  {
   "cell_type": "markdown",
   "source": [
    "# RealNYCE: Real-time New York (City) Emissions\n",
    "\n",
    "Providing insights into emissions intensity and energy sources at an electricity\n",
    "meter level. Leveraging Open Data provided by the U.S. Energy Information\n",
    "Administration (EIA) and the New York Independent System Operator (NYISO),\n",
    "enrich your RTEM Electricity Meter with estimated fuelmix and emission intensity\n",
    "data in near real-time. Reduce your carbon footprint by making better decisions\n",
    "about when and when not to use energy. Understand where the energy for your\n",
    "buildings is coming from, how much it costs, and its impact on the environment\n",
    "so you can make informed decisions about building electrification and bring\n",
    "about real change."
   ],
   "metadata": {
    "collapsed": false
   }
  },
  {
   "cell_type": "markdown",
   "source": [
    "## Executive Summary\n",
    "<!---\n",
    "An Executive Summary. This summary should describe your solution in 250\n",
    "words or less. This summary should clearly state your use case, the problem\n",
    "you're solving or advancement/improvement, and the full functionality of the\n",
    "proposed solution.\n",
    "--->\n",
    "\n",
    "As each day passes, the world is moving closer to a fully electric future.\n",
    "Battery Storage Systems and Electric Cars are a fantastic means of\n",
    "de-carbonisation, but if you're trying to produce less greenhouse gases, there's\n",
    "no point charing your car with coal power is there? RealNYCE extends the power\n",
    "of the RTEM database by adding an extra level of analysis; the estimation and\n",
    "calculation of emission intensity using open source software, modest hardware,\n",
    "and open data. End users are empowered to enact meaningful change by gaining\n",
    "visibility and the ability to measure, and benchmark emissions at the\n",
    "electricity meter level. Through a simple set of software tools, and the\n",
    "possibility of direct integration into the RTEM database, RealNYCE supports\n",
    "de-carbonisation of our built environment. RealNYCE is designed to augment the\n",
    "RTEM program as it exists today; as a drop-in solution to empower emissions\n",
    "visibility and analysis. The tool is built as an extension of the current RTEM\n",
    "Client software and provides a set of data pipelines accessible through a simple\n",
    "Python Class. In the background, RealNYCE pulls data from several open sources\n",
    "to estimate real-time emission intensity of the grid before calculating the\n",
    "total emissions at the meter-level. RealNYCE provides data that invites further\n",
    "analysis; making it a solution designed to enable the development of further\n",
    "data insights and applications. All of this, and much more, for minimal added\n",
    "costs."
   ],
   "metadata": {
    "collapsed": false
   }
  },
  {
   "cell_type": "markdown",
   "source": [
    "## Market Characterisation\n",
    "<!---\n",
    "A Market Characterization Section. This section should clearly describe the\n",
    "market for your solution. This includes the building types that are relevant for\n",
    "your solution, or the ecosystem of how/where your solution is applicable. This\n",
    "also includes who or what is the beneficiary, e.g. an individual, business,\n",
    "city.\n",
    "--->\n",
    "\n",
    "RealNYCE caters to buildings that possess an electricity meter that records\n",
    "power consumption in Kilowatt Hours (kWh), but could be improved to function for\n",
    "meters that measure demand in Watts or kVA (estimated by multiplying Power by\n",
    "Time). The insights provided by RealNYCE are applicable to Commercial,\n",
    "Industrial, and Residential Buildings, but for varying reasons. Commercial and\n",
    "Industrial buildings stand to quantify and analyse emission intensity for the\n",
    "purposes of driving behaviour change as well as Environment Social Governance (\n",
    "ESG) reporting. Residential users can use the data to maximise the impact of\n",
    "other methods of reducing their carbon footprint by intelligently charging and\n",
    "discharging electric cars and battery storage systems. All building types can\n",
    "use RealNYCE to augment their de-carbonisation efforts more broadly. Electrical\n",
    "grid operators also stand to gain from a push to decrease demand when more\n",
    "emissive fuels are used for generation; generally because it is at those times\n",
    "that demand on the grid is highest. We all stand to benefit from increased\n",
    "de-carbonisation, and these efforts will be more successful with easy access to\n",
    "the right data."
   ],
   "metadata": {
    "collapsed": false
   }
  },
  {
   "cell_type": "markdown",
   "source": [
    "## Criteria Statement\n",
    "\n",
    "### 1. Use Case Description and Demonstration\n",
    "\n",
    "<!---\n",
    "Your submission must describe how the RTEM database is instrumental in your use\n",
    "case and how the growth of this database (>700 buildings) may impact your use\n",
    "case. In addition, your use case must identify the principal actors, activities,\n",
    "interactions, minimum data schema and necessary API functionalities associated\n",
    "with your use case. Finally, your submission must contain an illustration of\n",
    "your proposed use case using the provided API and existing data records.\n",
    "-->\n",
    "\n",
    "As each day passes, the world is moving closer to a fully electric future. Our\n",
    "modern lifestyles are placing more and more - increasing pressure on the\n",
    "electricity grid and downstream energy generators to provide enough power. With\n",
    "Electric Cars and Battery Storage products becoming more prevalent—touting\n",
    "reduced carbon footprints, and energy bills—we are faced with the question,\n",
    "where does our energy come from? If you’re trying to produce less greenhouse\n",
    "gases, there’s no point charging your car with coal power is there?\n",
    "\n",
    "RealNYCE exists as an extension of the RTEM database, and therefore cannot exist\n",
    "without it. RealNYCE provides insights at the equipment level, calculating\n",
    "carbon emission intensity per unit of electricity as well as providing a\n",
    "breakdown of energy sources. A participating building in the RTEM program can\n",
    "use their RTEM data, supercharged by RealNYCE, to identify and impact long-term\n",
    "trends in their own electricity usage. With long-term data users can create\n",
    "benchmarks for greenhouse gas emissions as a basis for measured, and meaningful\n",
    "change. RealNYCE can be used with a database of just one building, but as the\n",
    "database continues to grow it creates an opportunity to extend the functionality\n",
    "of RealNYCE to compute state-wide benchmarks for emission intensity; allowing\n",
    "building owners to compare their data with….\n",
    "\n",
    "RealNYCE is essentially a data pipeline pulling information from a variety of\n",
    "sources, and performing a series of calculations before returning a new,\n",
    "enhanced dataset. Therefore, RealNYCE requires two main types of actors:\n",
    "\n",
    "1. Providers: that make the raw data accessible to the Computers.\n",
    "2. Computers: those that process the data from the Providers.\n",
    "\n",
    "There are three principal actors that act as Providers; the U.S. Energy\n",
    "Information Administration (EIA), the New York Independent System Operator (\n",
    "NYISO), as well as the RTEM participants. Open Data from the EIA provides the\n",
    "information necessary to estimate greenhouse gas emissions by fuel type for the\n",
    "State of New York. Open Data from the NYISO provides real-time fuel-mix data for\n",
    "electricity generation, which can be combined with the emission intensity\n",
    "estimates, to calculate average emissions per unit of electricity. The final\n",
    "Provider is the RTEM database, or rather the participating building with an\n",
    "electricity meter measuring power consumption.\n",
    "\n",
    "The data from the Providers needs to be processed and joined before it has a\n",
    "chance to really shine. On their own the data is informative, but once the data\n",
    "sets are combined you gain the opportunity measure impact and drive change. A\n",
    "complex series of steps must be undertaken by a Computer first to Extract,\n",
    "Transform, and Load the data. This role can be handled by consumer grade\n",
    "hardware, either on-site or in the cloud, and can be set to run at consistent\n",
    "intervals.\n",
    "\n",
    "The minimum data schema required is simply an Electricity Consumption Meter\n",
    "measured in Kilowatt Hours. However, consumption can be approximated using Power\n",
    "Meters measured in Watts, and multiplied by the time period to estimate\n",
    "consumption. In the future, there is potential for emissions other on-site\n",
    "emissive equipment, such as Boilers and Co-Generation Plants, to have their\n",
    "emissions estimated and benchmarked against the equivalent amount of electricity\n",
    "required. Further development of RealNYCE could help create a business case for\n",
    "the electrification of building infrastructure.\n",
    "\n",
    "The necessary RTEM API functionality is to read building data, and optionally\n",
    "write to a Virtual point. RealNYCE relies on the use of Pandas DataFrames to\n",
    "process the data. The use case functions in five parts:\n",
    "\n",
    "1.\tGather RTEM data for the equipment to be analysed\n",
    "2.\tEstimate fuel source emission intensity using EIA Open Data\n",
    "3.\tUsing NYISO fuel-mix data and EIA data, calculate average emission intensity\n",
    "4.\tJoin RTEM consumption data with the average emission intensity\n",
    "5.\tMultiply energy consumption by average emission intensity\n",
    "\n",
    "After this process you are left with “Grams of CO2” produced for each time\n",
    "period in the original RTEM consumption data. This can be used as the basis for\n",
    "further analyses and benchmarking. They say “what gets measured, gets managed”\n",
    "and with the help of the RTEM database enhanced with RealNYCE, we finally have\n",
    "access to the information we need to bring about meaningful change."
   ],
   "metadata": {
    "collapsed": false
   }
  },
  {
   "cell_type": "markdown",
   "source": [
    "### 2. Market Adoption and Impact\n",
    "\n",
    "<!---\n",
    "Your submissions must describe the impact of your use case if it were integrated\n",
    "into the current RTEM Program. A key focus of NYSERDA is the accelerated\n",
    "adoption of RTEM Systems in New York State, without dependence on significant\n",
    "incentives/cost-share by New York State’s investor-owned utilities. As an\n",
    "example, use cases that demonstrate a more significant impact in growing the\n",
    "RTEM System Market and/or increase the confidence of building owners and\n",
    "operators to adopt an RTEM System will receive a higher score. The judges value\n",
    "technically interesting use cases; however, a high market impact is essential to\n",
    "receiving a high score in this category.\n",
    "-->\n",
    "\n",
    "RealNYCE is designed to augment the RTEM program as it exists today; as a\n",
    "drop-in solution to empower emissions visibility and analysis. RealNYCE can\n",
    "operate on modest hardware as basic as a Raspberry Pi, as well as on a cloud\n",
    "computing platform such as AWS or Google Cloud Platform. The data necessary to\n",
    "power the analysis is made freely available by the EIA and NYISO, meaning there\n",
    "are no additional costs to acquire the data. With modest upgrades to the RTEM\n",
    "program, it is conceivable that the RealNYCE data could be computed and applied\n",
    "without any further work required by the end user.\n",
    "\n",
    "Quantifying greenhouse gas emissions is a valuable proposition for residential,\n",
    "commercial, and industrial consumers. The data created by RealNYCE would\n",
    "immediately increase the attractiveness of the RTEM program for very little\n",
    "expense, and could be rolled out almost immediately. As businesses and\n",
    "organisations worldwide are increasingly expected to set, meet and report\n",
    "Environment, Social and Governance (ESG) goals, measuring the greenhouse gas\n",
    "emissions of the buildings they operate within is progressively becoming a\n",
    "necessity.\n",
    "\n",
    "Businesses of all shapes and sizes also commonly participate in carbon offset\n",
    "programs; such as, purchasing a number of trees planted equivalent to their\n",
    "carbon emissions. A program such as RealNYCE would help quantify the need for\n",
    "compensatory measures. Individuals in residential homes are purchasing electric\n",
    "cars and battery storage systems now more than ever; but to gain the greatest\n",
    "environmental benefits, consumers must be smart about charging the\n",
    "aforementioned devices at the right time to minimise their emissions. With all\n",
    "this taken into consideration, and with the low cost of implementation, the\n",
    "market impact of RealNYCE will be significant to say the least."
   ],
   "metadata": {
    "collapsed": false
   }
  },
  {
   "cell_type": "markdown",
   "source": [
    "### 3. Decarbonisation through Electrification\n",
    "\n",
    "<!---\n",
    "Your submission must describe how your use case can promote building\n",
    "electrification and/or lower a building’s carbon emission intensity.\n",
    "Decarbonization through electrification is the process of replacing fossil fuels\n",
    "with electricity. Electrification examples include switching from fossil\n",
    "fuel-fired sources of comfort and hot water heating (e.g. natural gas boilers),\n",
    "to in-building air-sourced heat pump heating, geothermal heat exchangers, or\n",
    "through a shared thermal network for a campus or neighborhood. As an example, a\n",
    "use case that demonstrates an acceleration of winter heating and domestic hot\n",
    "water in New York State would receive a high score.\n",
    "-->\n",
    "\n",
    "In order to lower a building’s carbon emission intensity, it is important to\n",
    "first gain specific and accurate measurements of the emission intensity of the\n",
    "combined utilities and equipment within the building. Emission reduction schemes\n",
    "may work in theory but being able to measure, benchmark, and tangibly test the\n",
    "outcomes of any action is vital to achieving effective improvements. RealNYCE\n",
    "provides the data needed to achieve this.\n",
    "\n",
    "For example, if a building uses a network of fossil-fuelled sources of heat and\n",
    "energy, and if they know the emission intensity of that equipment, they could\n",
    "quantify the potential de-carbonisation potential of swapping out that\n",
    "equipment. With further development, the RealNYCE program, it could handle the\n",
    "estimation of greenhouse gas emissions by boilers and co-generation plants to\n",
    "provide building-wide emission intensity data.\n",
    "\n",
    "Furthermore, the dataset provided by RealNYCE could help to quantify the\n",
    "potential impacts of installing rooftop arrays and battery storage systems. At\n",
    "the heart of any successful intervention is the data needed to measure the\n",
    "success of that action.\n"
   ],
   "metadata": {
    "collapsed": false
   }
  },
  {
   "cell_type": "markdown",
   "source": [
    "### 4. Ease of Implementation\n",
    "\n",
    "<!---\n",
    "Your submission must describe the ease of implementing your use case, if NYSERDA\n",
    "were to adopt your submission. Submissions that utilize readily available\n",
    "skillsets and commonly available technologies provided by generally obtainable\n",
    "hosted environments will receive high scores. Additionally, any novel\n",
    "partnerships that the participant proposes to implement their submission may be\n",
    "favorably scored. Conversely, use cases, which require proprietary technology or\n",
    "skillsets will receive a lower score.\n",
    "-->\n",
    "\n",
    "If NYSERDA were to adopt RealNYCE, implementing it would be straightforward.\n",
    "RealNYCE uses open source software built on aggregating publicly available data\n",
    "on modest consumer hardware. The knowledge required to reap the benefits of\n",
    "RealNYCE is an intermediate understanding of the Python programming language.\n",
    "However, if RealNYCE were implemented directly into the RTEM API through a\n",
    "virtual point, leveraging the data would be as simple as calling an API endpoint\n",
    "by any means. RealNYCE provides data that invites further analysis; meaning it\n",
    "is a solution designed to enable the development of further data insights and\n",
    "applications."
   ],
   "metadata": {
    "collapsed": false
   }
  },
  {
   "cell_type": "markdown",
   "source": [
    "### 5. Use of Open Data Sources\n",
    "\n",
    "<!---\n",
    "Your submission must describe any use of open data elements that support your\n",
    "use case. Use cases that significantly incorporate the provided RTEM dataset\n",
    "will be ranked higher than others that do not. We encourage data fusion, and use\n",
    "cases that leverage open and publicly available datasets. If your use case\n",
    "depends on an external dataset, please include in your submission how NYSERDA\n",
    "might easily locate and/or access these new data elements. This description will\n",
    "assist us in evaluating how opaque, reliable and accessible these elements are\n",
    "in your submission.\n",
    "-->\n",
    "\n",
    "RealNYCE leverages Open Data provided by the U.S. Energy Information\n",
    "Administration (EIA) and the New York Independent System Operator (NYISO);\n",
    "fundamentally embracing data fusion. The use case depends on these external\n",
    "datasets; however, both organisations are committed to open and transparent data\n",
    "sharing, and can be trusted to continue to do so. Due to the public nature of\n",
    "these organisations, the production of data can be depended on as reliable and\n",
    "continuous for the foreseeable future. The datasets are publicly and freely\n",
    "accessible on the EIA and NYISO websites. All datasets have been published for\n",
    "the last 10–20 years and their accessibility is only likely to improve over\n",
    "time."
   ],
   "metadata": {
    "collapsed": false
   }
  },
  {
   "cell_type": "markdown",
   "source": [
    "## Appendix"
   ],
   "metadata": {
    "collapsed": false
   }
  },
  {
   "cell_type": "markdown",
   "source": [
    "### Functionality"
   ],
   "metadata": {
    "collapsed": false
   }
  },
  {
   "cell_type": "markdown",
   "source": [
    "### Data Sources Used\n",
    "\n",
    "#### U.S. Energy Information Administration\n",
    "\n",
    "##### Net Generation by State by Type of Producer by Energy Source (EIA-906, EIA-920, and EIA-923)"
   ],
   "metadata": {
    "collapsed": false
   }
  },
  {
   "cell_type": "code",
   "source": [
    "#   YEAR    STATE   TYPE OF PRODUCER                ENERGY SOURCE              GENERATION (MWh)\n",
    "#   2019\tNY\t    Total Electric Power Industry\tTotal\t                        131,603,289\n",
    "#   2019\tNY\t    Total Electric Power Industry\tCoal\t                            421,951\n",
    "#   2019\tNY\t    Total Electric Power Industry\tPumped Storage\t                   -315,589\n",
    "#   2019\tNY\t    Total Electric Power Industry\tHydroelectric Conventional\t     30,620,895\n",
    "#   2019\tNY\t    Total Electric Power Industry\tNatural Gas\t                     47,612,134\n",
    "#   2019\tNY\t    Total Electric Power Industry\tNuclear\t                         44,865,018\n",
    "#   2019\tNY\t    Total Electric Power Industry\tOther Gases\t                          1,680\n",
    "#   2019\tNY\t    Total Electric Power Industry\tOther\t                            959,727\n",
    "#   2019\tNY\t    Total Electric Power Industry\tPetroleum\t                        511,768\n",
    "#   2019\tNY\t    Total Electric Power Industry\tSolar Thermal and Photovoltaic\t    523,640\n",
    "#   2019\tNY\t    Total Electric Power Industry\tOther Biomass\t                  1,473,751\n",
    "#   2019\tNY\t    Total Electric Power Industry\tWind\t                          4,455,881\n",
    "#   2019\tNY\t    Total Electric Power Industry\tWood and Wood Derived Fuels\t        472,434"
   ],
   "metadata": {
    "collapsed": false,
    "pycharm": {
     "name": "#%%\n"
    }
   },
   "execution_count": null,
   "outputs": []
  },
  {
   "cell_type": "markdown",
   "source": [
    "##### U.S. Electric Power Industry Estimated Emissions by State (EIA-767, EIA-906, EIA-920, and EIA-923)"
   ],
   "metadata": {
    "collapsed": false
   }
  },
  {
   "cell_type": "code",
   "execution_count": null,
   "outputs": [],
   "source": [
    "#   YEAR    STATE   PRODUCER TYPE                   ENERGY SOURCE                          CO2    SO2      NOx\n",
    "#   2019\tNY\t    Total Electric Power Industry\tAll Sources\t                    24,806,826\t7,995\t26,183\n",
    "#   2019\tNY\t    Total Electric Power Industry\tCoal\t                           444,014\t1,174\t   482\n",
    "#   2019\tNY\t    Total Electric Power Industry\tNatural Gas\t                    22,189,747\t   91\t11,417\n",
    "#   2019\tNY\t    Total Electric Power Industry\tOther Biomass\t                         0\t    2\t 8,929\n",
    "#   2019\tNY\t    Total Electric Power Industry\tOther Gases\t                             0\t    0\t     2\n",
    "#   2019\tNY\t    Total Electric Power Industry\tOther\t                         1,671,643\t1,176\t 3,836\n",
    "#   2019\tNY\t    Total Electric Power Industry\tPetroleum\t                       501,422\t  795\t   750\n",
    "#   2019\tNY\t    Total Electric Power Industry\tWood and Wood Derived Fuels\t             0\t4,757\t   767"
   ],
   "metadata": {
    "collapsed": false,
    "pycharm": {
     "name": "#%%\n"
    }
   }
  },
  {
   "cell_type": "markdown",
   "source": [
    "\n",
    "#### New York Independent System Operator (NYISO)\n",
    "\n",
    "The NYISO operates the energy markets in the State of New York and ensures the reliability of the electricity grid.\n",
    "The NYISO is charged with the long-term planning of the system and provides a comprehensive open data portal that\n",
    "publishes a variety of information about the operation of the grid.\n",
    "\n",
    "For the purposes of 'realNYCE' we are most interested in the 'Real-Time Fuel Mix' and 'Real-Time Market LBMP'.\n",
    "\n",
    "##### Real-Time Fuel Mix\n",
    "\n",
    "The 'Real-Time Fuel Mix' dataset provides a breakdown of electricity generation by 'Fuel Category' at a 5-minute time\n",
    " resolution. New York generates electricity from a variety of renewable and non-renewable sources.\n",
    "\n",
    "Electricity is generated from the following 'fuels' in the State of New York:\n",
    " - Dual Fuel\n",
    " - Natural Gas\n",
    " - Nuclear\n",
    " - Other Fossil Fuels\n",
    " - Other Renewables\n",
    " - Wind\n",
    " - Hydro\n",
    "\n",
    "From this data we can understand the amount of renewable energy generated as well as the carbon emission intensity\n",
    "(with additional information)."
   ],
   "metadata": {
    "collapsed": false
   }
  },
  {
   "cell_type": "code",
   "source": [
    "#   Time Stamp\t            Time Zone\tFuel Category\t        Gen MW\n",
    "#   06/27/2022 00:05:00\t    EDT\t        Dual Fuel\t            4050.0\n",
    "#   06/27/2022 00:05:00\t    EDT\t        Natural Gas\t            4416.0\n",
    "#   06/27/2022 00:05:00\t    EDT\t        Nuclear\t                3228.0\n",
    "#   06/27/2022 00:05:00\t    EDT\t        Other Fossil Fuels\t       0.0\n",
    "#   06/27/2022 00:05:00\t    EDT\t        Other Renewables\t     256.0"
   ],
   "metadata": {
    "collapsed": false,
    "pycharm": {
     "name": "#%%\n"
    }
   },
   "execution_count": null,
   "outputs": []
  },
  {
   "cell_type": "markdown",
   "source": [
    "##### Real-Time Market LBMP\n",
    "\n",
    "Location-based Marginal Pricing is the wholesale price paid per Megawatt Hour of energy in a particular generation\n",
    "zone. Though end-users generally pay a fixed retail price per unit of energy, some participants may be passed on the\n",
    "wholesale price plus some nominal fees. The LBMP is a good indication of the price of electricity at any given time."
   ],
   "metadata": {
    "collapsed": false,
    "pycharm": {
     "name": "#%% md\n"
    }
   }
  },
  {
   "cell_type": "code",
   "execution_count": null,
   "metadata": {
    "collapsed": true
   },
   "outputs": [],
   "source": [
    "#   Time Stamp\t            Name\t    PTID\t        LBMP      Marginal Cost          Marginal Cost\n",
    "#                                                   ($/MWHr)\tLosses ($/MWHr)\t   Congestion ($/MWHr)\n",
    "#   06/27/2022 00:05:00\t    CAPITL\t    61757\t       67.47\t           5.18\t                  2.39\n",
    "#   06/27/2022 00:05:00\t    CENTRL\t    61754\t       66.63\t           1.94\t                  0.00\n",
    "#   06/27/2022 00:05:00\t    DUNWOD\t    61760\t       73.50\t           6.34\t                 -2.48\n",
    "#   06/27/2022 00:05:00\t    GENESE\t    61753\t       66.43\t           1.75\t                  0.00\n",
    "#   06/27/2022 00:05:00\t    H Q\t        61844\t        0.00\t          -2.01\t                 62.68"
   ]
  },
  {
   "cell_type": "markdown",
   "source": [],
   "metadata": {
    "collapsed": false
   }
  }
 ],
 "metadata": {
  "kernelspec": {
   "display_name": "Python 3",
   "language": "python",
   "name": "python3"
  },
  "language_info": {
   "codemirror_mode": {
    "name": "ipython",
    "version": 2
   },
   "file_extension": ".py",
   "mimetype": "text/x-python",
   "name": "python",
   "nbconvert_exporter": "python",
   "pygments_lexer": "ipython2",
   "version": "2.7.6"
  }
 },
 "nbformat": 4,
 "nbformat_minor": 0
}